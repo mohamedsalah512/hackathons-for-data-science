{
  "nbformat": 4,
  "nbformat_minor": 0,
  "metadata": {
    "colab": {
      "provenance": [],
      "collapsed_sections": []
    },
    "kernelspec": {
      "name": "python3",
      "display_name": "Python 3"
    },
    "language_info": {
      "name": "python"
    }
  },
  "cells": [
    {
      "cell_type": "code",
      "source": [
        "pip install urlextract"
      ],
      "metadata": {
        "colab": {
          "base_uri": "https://localhost:8080/"
        },
        "id": "bSYGjH5Fhhcx",
        "outputId": "895272f1-74bc-430f-b745-7a2c91f05c39"
      },
      "execution_count": 300,
      "outputs": [
        {
          "output_type": "stream",
          "name": "stdout",
          "text": [
            "Looking in indexes: https://pypi.org/simple, https://us-python.pkg.dev/colab-wheels/public/simple/\n",
            "Requirement already satisfied: urlextract in /usr/local/lib/python3.7/dist-packages (1.6.0)\n",
            "Requirement already satisfied: platformdirs in /usr/local/lib/python3.7/dist-packages (from urlextract) (2.5.2)\n",
            "Requirement already satisfied: uritools in /usr/local/lib/python3.7/dist-packages (from urlextract) (4.0.0)\n",
            "Requirement already satisfied: idna in /usr/local/lib/python3.7/dist-packages (from urlextract) (2.10)\n",
            "Requirement already satisfied: filelock in /usr/local/lib/python3.7/dist-packages (from urlextract) (3.8.0)\n"
          ]
        }
      ]
    },
    {
      "cell_type": "code",
      "source": [
        "pip install contractions"
      ],
      "metadata": {
        "colab": {
          "base_uri": "https://localhost:8080/"
        },
        "id": "ygMOIIHTGsaK",
        "outputId": "1d717499-adbc-468a-e826-8374e7e4ca7e"
      },
      "execution_count": 301,
      "outputs": [
        {
          "output_type": "stream",
          "name": "stdout",
          "text": [
            "Looking in indexes: https://pypi.org/simple, https://us-python.pkg.dev/colab-wheels/public/simple/\n",
            "Requirement already satisfied: contractions in /usr/local/lib/python3.7/dist-packages (0.1.72)\n",
            "Requirement already satisfied: textsearch>=0.0.21 in /usr/local/lib/python3.7/dist-packages (from contractions) (0.0.24)\n",
            "Requirement already satisfied: anyascii in /usr/local/lib/python3.7/dist-packages (from textsearch>=0.0.21->contractions) (0.3.1)\n",
            "Requirement already satisfied: pyahocorasick in /usr/local/lib/python3.7/dist-packages (from textsearch>=0.0.21->contractions) (1.4.4)\n"
          ]
        }
      ]
    },
    {
      "cell_type": "code",
      "execution_count": 302,
      "metadata": {
        "id": "yNXUqadZe61I"
      },
      "outputs": [],
      "source": [
        "import pandas as pd\n",
        "from nltk.corpus import stopwords\n",
        "from nltk.stem.porter import PorterStemmer\n",
        "import re\n",
        "from urlextract import URLExtract"
      ]
    },
    {
      "cell_type": "code",
      "source": [
        "text=\"\"\"The Greek historian knew what he was talking about. The Nile River fed Egyptian civilization for hundreds of years. The Longest River the Nile is 4,160 miles long—the world’s longest river. It begins near the equator in Africa and flows north to the Mediterranean Sea. In the south the Nile churns with cataracts. A cataract is a waterfall. Near the sea the Nile branches into a delta. A delta is an area near a river’s mouth where the water deposits fine soil called silt. In the delta, the Nile divides into many streams. The river is called the upper Nile in the south and the lower Nile in the north. For centuries, heavy rains in Ethiopia caused the Nile to flood every summer. The floods deposited rich soil along the Nile’s shores. This soil was fertile, which means it was good for growing crops. Unlike the Tigris and Euphrates, the Nile River flooded at the same time every year, so farmers could predict when to plant their crops. Red Land, Black Land The ancient Egyptians lived in narrow bands of land on each side of the Nile. They called this region the black land because of the fertile soil that the floods deposited. The red land was the barren desert beyond the fertile region. Weather in Egypt was almost always the same. Eight months of the year were sunny and hot. The four months of winter were sunny but cooler. Most of the region received only an inch of rain a year. The parts of Egypt not near the Nile were a desert. Isolation The harsh desert acted as a barrier to keep out enemies. The Mediterranean coast was swampy and lacked good harbors. For these reasons, early Egyptians stayed close to home. Each year, Egyptian farmers watched for white birds called ibises, which flew up from the south. When the birds arrived, the annual flood waters would soon follow. After the waters drained away, farmers could plant seeds in the fertile soil. Agricultural Techniques By about 2400 B.C., farmers used technology to expand their farmland. Working together, they dug irrigation canals that carried river water to dry areas. Then they used a tool called a shaduf to spread the water across the fields. These innovative, or new, techniques gave them more farmland. Egyptian Crops Ancient Egyptians grew a large variety of foods. They were the first to grind wheat into flour and to mix the flour with yeast and water to make dough rise into bread. They grew vegetables such as lettuce, radishes, asparagus, and cucumbers. Fruits included dates, figs, grapes, and watermelons. Egyptians also grew the materials for their clothes. They were the first to weave fibers from flax plants into a fabric called linen. Lightweight linen cloth was perfect for hot Egyptian days. Men wore linen wraps around their waists. Women wore loose, sleeveless dresses. Egyptians also wove marsh grasses into sandals. Egyptian Houses Egyptians built houses using bricks made of mud from the Nile mixed with chopped straw. They placed narrow windows high in the walls to reduce bright sunlight. Egyptians often painted walls white to reflect the blazing heat. They wove sticks and palm trees to make roofs. Inside, woven reed mats covered the dirt floor. Most Egyptians slept on mats covered with linen sheets. Wealthy citizens enjoyed bed frames and cushions. Egyptian nobles had fancier homes with tree-lined courtyards for shade. Some had a pool filled with lotus blossoms and fish. Poorer Egyptians simply went to the roof to cool off after sunset. They often cooked, ate, and even slept outside. Egypt’s economy depended on farming. However, the natural resources of the area allowed other economic activities to develop too. The Egyptians wanted valuable metals that were not found in the black land. For example, they wanted copper to make tools and weapons. Egyptians looked for copper as early as 6000 B.C. Later they learned that iron was stronger, and they sought it as well. Ancient Egyptians also desired gold for its bright beauty. The Egyptian word for gold was nub. Nubia was the Egyptian name for the area of the upper Nile that had the richest gold mines in Africa. Mining minerals was difficult. Veins (long streaks) of copper, iron, and bronze were hidden inside desert mountains in the hot Sinai Peninsula, east of Egypt. Even during the cool season, chipping minerals out of the rock was miserable work. Egyptians mined precious stones too. They were probably the first people in the world to mine turquoise. The Egyptians also mined lapis lazuli. These beautiful blue stones were used in jewelry.The Nile had fish and other wildlife that Egyptians wanted. To go on the river, Egyptians made lightweight rafts by binding together reeds. They used everything from nets to harpoons to catch fish. One ancient painting even shows a man ready to hit a catfish with a wooden hammer. More adventurous hunters speared hippopotamuses and crocodiles along the Nile. Egyptians also captured quail with nets. They used boomerangs to knock down flying ducks and geese. (A boomerang is a curved stick that returns to the person who threw it.) Eventually, Egyptians equipped their reed boats with sails and oars. The Nile then became a highway. The river’s current was slow, so boaters used paddles to go faster when they traveled north with the current. Going south, they raised a sail and let the winds that blew in that direction push them. The Nile provided so well for Egyptians that sometimes they had surpluses, or more goods than they needed. They began to trade with each other. Ancient Egypt had no money, so people exchanged goods that they grew or made. This method of trade is called bartering. Egypt prospered along the Nile. This prosperity made life easier and provided greater opportunities for many Egyptians. When farmers produce food surpluses, the society’s economy begins to expand. Cities emerge as centers of culture and power, and people learn to do jobs that do not involve agriculture. For example, some ancient Egyptians learned to be scribes, people whose job was to write and keep records. As Egyptian civilization grew more complex, people took on jobs other than that of a farmer or scribe. Some skilled artisans erected stone or brick houses and temples. Other artisans made pottery, incense, mats, furniture, linen clothing, sandals, or jewelry. A few Egyptians traveled to the upper Nile to trade with other Africans. These traders took Egyptian products such as scrolls, linen, gold, and jewelry. They brought back exotic woods, animal skins, and live beasts. As Egypt grew, so did its need to organize. Egyptians created a government that divided the empire into 42 provinces. Many officials worked to keep the provinces running smoothly. Egypt also created an army to defend itself. One of the highest jobs in Egypt was to be a priest. Priests followed formal rituals and took care of the temples. Before entering a temple, a priest bathed and put on special linen garments and white sandals. Priests cleaned the sacred statues in temples, changed their clothes, and even fed them meals. Together, the priests and the ruler held ceremonies to please the gods. Egyptians believed that if the gods were angry, the Nile would not flood. As a result, crops would not grow, and people would die. So the ruler and the priests tried hard to keep the gods happy. By doing so, they hoped to maintain the social and political order. Slaves were at the bottom of society. In Egypt, people became slaves if they owed a debt, committed a crime, or were captured in war. Egyptian slaves were usually freed after a period of time. One exception was the slaves who had to work in the mines. Many died from the exhausting labor. Egypt was one of the best places in the ancient world to be a woman. Unlike other ancient African cultures, in Egyptian society men and women had fairly equal rights. For example, they could both own and manage their own property. The main job of most women was to care for their children and home, but some did other jobs too. Some women wove cloth. Others worked with their husbands in fields or workshops. Some women, such as Queen Tiy, even rose to important positions in the government. Children in Egypt played with toys such as dolls, animal figures, board games, and marbles. Their parents made the toys from wood or clay. Boys and girls also played rough physical games with balls made of leather or reeds. Boys and some girls from wealthy families went to schools run by scribes or priests. Most other children learned their parents’ jobs. Almost all Egyptians married when they were in their early teens. As in many ancient societies, much of the knowledge of Egypt came about as priests studied the world to find ways to please the gods. Other advances came about because of practical discoveries. Egyptian priests studied the sky as part of their religion. About 5,000 years ago, they noticed that a star now called Sirius appeared shortly before the Nile began to flood. The star returned to the same position in 365 days. Based on that, Egyptians developed the world’s first practical calendar. The Egyptians developed some of the first geometry. Each year the Nile’s floods washed away land boundaries. To restore property lines, surveyors measured the land by using ropes that were knotted at regular intervals. Geometric shapes such as squares and triangles were sacred to Egyptians. Architects used them in the design of royal temples and monuments. Egyptian doctors often prepared dead bodies for burial, so they knew the parts of the body. That knowledge helped them perform some of the world’s first surgery. Some doctors specialized in using medicines made of herbs. Egyptian medicine was far from perfect. Doctors believed that the heart controlled thought and the brain circulated blood, which is the opposite of what is known now. Some Egyptian treatments would raise eyebrows today. One “cure” for an upset stomach was to eat a hog’s tooth crushed inside sugar cakes! Beginning about 3000 B.C., Egyptians developed a writing system using hieroglyphs. Hieroglyphs Hieroglyphs are pictures that stand for different words or sounds. Early Egyptians created a hieroglyphic system with about 700 characters. Over time the system grew to include more than 6,000 symbols. The Egyptians also developed a paperlike material called papyrus papyrus from a reed of the same name. Egyptians cut the stems into strips, pressed them, and dried them into sheets that could be rolled into scrolls. Papyrus scrolls were light and easy to carry. With them, Egyptians created some of the first books. Legend says a king named Narmer united Upper and Lower Egypt. Some historians think Narmer actually represents several kings who gradually joined the two lands. After Egypt was united, its ruler wore the Double Crown. It combined the red Crown of Lower Egypt with the white Crown of Upper Egypt. The first dynasty of the Egyptian empire began about 2925 B.C. A dynasty is a line of rulers from the same family. When a king died, one of his children usually took his place as ruler. The order in which members of a royal family inherit a throne is called the succession. More than 30 dynasties ruled ancient Egypt. Historians divide ancient Egyptian dynasties into the Old Kingdom, the Middle Kingdom, and the New Kingdom. The Old Kingdom started about 2575 B.C., when the Egyptian empire was gaining strength. The king of Egypt became known as the pharaoh pharaoh. The word pharaoh meant “great house,” and it was originally used to describe the king’s palace. Later it became the title of the king himself. The pharaoh ruled from the capital city of Memphis. The ancient Egyptians thought the pharaoh was a child of the gods and a god himself. Egyptians believed that if the pharaoh and his subjects honored the gods, their lives would be happy. If Egypt suffered hard times for a long period, the people blamed the pharaoh for angering the gods. In such a case, a rival might drive him from power and start a new dynasty. Because the pharaoh was thought to be a god, government and religion were not separate in ancient Egypt. Priests had much power in the government. Many high officials were priests. The first rulers of Egypt were often buried in an underground tomb topped by mud brick. Soon, kings wanted more permanent monuments. They replaced the mud brick with a small pyramid of brick or stone. A pyramid is a structure shaped like a triangle, with four sides that meet at a point. About 2630 B.C., King Djoser built a much larger pyramid over his tomb. It is called a step pyramid because its sides rise in a series of giant steps. It is the oldest-known large stone structure in the world. About 80 years later, a pharaoh named Khufu decided he wanted a monument that would show the world how great he was. He ordered the construction of the largest pyramid ever built. Along its base, each side was about 760 feet long. The core was built from 2.3 million blocks of stone. Building the Great Pyramid was hard work. Miners cut the huge blocks of stone using copper saws and chisels. These tools were much softer than the iron tools developed later. Other teams of workers pulled the stone slabs up long, sloping ramps to their place on the pyramid. Near the top of the pyramid, the ramps ended. Workers dragged each heavy block hundreds of feet and then set it in place. Farmers did the heavy labor of hauling stone during the season when the Nile flooded their fields. Skilled stonecutters and overseers worked year-round. The Great Pyramid took nearly 20 years to build. An estimated 20,000 Egyptians worked on it. A city called Giza was built for the pyramid workers and the people who fed, clothed, and housed them. Eventually, Egyptians stopped building pyramids. One reason is that the pyramids drew attention to the tombs inside them. Grave robbers broke into the tombs to steal the treasure buried with the pharaohs. Sometimes they also stole the mummies. Egyptians believed that if a tomb was robbed, the person buried there could not have a happy afterlife. During the New Kingdom, pharaohs began building more secret tombs in an area called the Valley of the Kings. The burial chambers were hidden in mountains near the Nile. This way, the pharaohs hoped to protect their bodies and treasures from robbers. Both the pyramids and later tombs had several passageways leading to different rooms. This was to confuse grave robbers about which passage to take. Sometimes relatives, such as the queen, were buried in the extra rooms. Tombs were supposed to be the palaces of pharaohs in the afterlife. Mourners filled the tomb with objects ranging from food to furniture that the mummified pharaoh would need. Some tombs contained small statues that were supposed to be servants for the dead person. Egyptian artists decorated royal tombs with wall paintings and sculptures carved into the walls. Art was meant to glorify both the gods and the dead person. A sculpture of a dead pharaoh had “perfect” features, no matter how he really looked. Artists also followed strict rules about how to portray humans. Paintings showed a person’s head, arms, and legs from the side. They showed the front of the body from the neck down to the waist. Wall paintings showed pharaohs enjoying themselves so they could have a happy afterlife. One favorite scene was of the pharaoh fishing in a papyrus marsh. Warlike kings were often portrayed in battle. Scenes might also show people providing for the needs of the dead person. Such activities included growing and preparing food, caring for animals, and building boats. As hard as the pharaohs tried to hide themselves, robbers stole the treasures from almost every tomb. Only a secret tomb built for a New Kingdom pharaoh was ever found with much of its treasure untouched. The dazzling riches found in this tomb show how much wealth the pharaohs spent preparing for the afterlife. By about 2130 B.C., Egyptian kings began to lose their power to local rulers of the provinces. For about 500 more years, the kings held Egypt together, but with a much weaker central government. This period of Egyptian history is called the Middle Kingdom. Rulers during the Middle Kingdom also faced challenges from outside Egypt. A nomadic people called the Hyksos invaded Egypt from the northeast. Their army conquered by using better weapons and horse-drawn chariots, which were new to Egyptians. After about 100 years, the Egyptians drove out the Hyksos and began the New Kingdom.\"\"\""
      ],
      "metadata": {
        "id": "2nebMI5-gvB_"
      },
      "execution_count": 303,
      "outputs": []
    },
    {
      "cell_type": "code",
      "source": [
        "import contractions\n",
        "from nltk.corpus import stopwords\n"
      ],
      "metadata": {
        "id": "CtpSRoEMjU_v"
      },
      "execution_count": 304,
      "outputs": []
    },
    {
      "cell_type": "code",
      "source": [
        "contractions.fix(text)"
      ],
      "metadata": {
        "colab": {
          "base_uri": "https://localhost:8080/",
          "height": 157
        },
        "id": "HrZjKNUFivuI",
        "outputId": "cc26e7e0-8842-48ae-c12b-a6742114f915"
      },
      "execution_count": 305,
      "outputs": [
        {
          "output_type": "execute_result",
          "data": {
            "text/plain": [
              "'The Greek historian knew what he was talking about. The Nile River fed Egyptian civilization for hundreds of years. The Longest River the Nile is 4,160 miles long—the world’s longest river. It begins near the equator in Africa and flows north to the Mediterranean Sea. In the south the Nile churns with cataracts. A cataract is a waterfall. Near the sea the Nile branches into a delta. A delta is an area near a river’s mouth where the water deposits fine soil called silt. In the delta, the Nile divides into many streams. The river is called the upper Nile in the south and the lower Nile in the north. For centuries, heavy rains in Ethiopia caused the Nile to flood every summer. The floods deposited rich soil along the Nile’s shores. This soil was fertile, which means it was good for growing crops. Unlike the Tigris and Euphrates, the Nile River flooded at the same time every year, so farmers could predict when to plant their crops. Red Land, Black Land The ancient Egyptians lived in narrow bands of land on each side of the Nile. They called this region the black land because of the fertile soil that the floods deposited. The red land was the barren desert beyond the fertile region. Weather in Egypt was almost always the same. Eight months of the year were sunny and hot. The four months of winter were sunny but cooler. Most of the region received only an inch of rain a year. The parts of Egypt not near the Nile were a desert. Isolation The harsh desert acted as a barrier to keep out enemies. The Mediterranean coast was swampy and lacked good harbors. For these reasons, early Egyptians stayed close to home. Each year, Egyptian farmers watched for white birds called ibises, which flew up from the south. When the birds arrived, the annual flood waters would soon follow. After the waters drained away, farmers could plant seeds in the fertile soil. Agricultural Techniques By about 2400 B.C., farmers used technology to expand their farmland. Working together, they dug irrigation canals that carried river water to dry areas. Then they used a tool called a shaduf to spread the water across the fields. These innovative, or new, techniques gave them more farmland. Egyptian Crops Ancient Egyptians grew a large variety of foods. They were the first to grind wheat into flour and to mix the flour with yeast and water to make dough rise into bread. They grew vegetables such as lettuce, radishes, asparagus, and cucumbers. Fruits included dates, figs, grapes, and watermelons. Egyptians also grew the materials for their clothes. They were the first to weave fibers from flax plants into a fabric called linen. Lightweight linen cloth was perfect for hot Egyptian days. Men wore linen wraps around their waists. Women wore loose, sleeveless dresses. Egyptians also wove marsh grasses into sandals. Egyptian Houses Egyptians built houses using bricks made of mud from the Nile mixed with chopped straw. They placed narrow windows high in the walls to reduce bright sunlight. Egyptians often painted walls white to reflect the blazing heat. They wove sticks and palm trees to make roofs. Inside, woven reed mats covered the dirt floor. Most Egyptians slept on mats covered with linen sheets. Wealthy citizens enjoyed bed frames and cushions. Egyptian nobles had fancier homes with tree-lined courtyards for shade. Some had a pool filled with lotus blossoms and fish. Poorer Egyptians simply went to the roof to cool off after sunset. They often cooked, ate, and even slept outside. Egypt’s economy depended on farming. However, the natural resources of the area allowed other economic activities to develop too. The Egyptians wanted valuable metals that were not found in the black land. For example, they wanted copper to make tools and weapons. Egyptians looked for copper as early as 6000 B.C. Later they learned that iron was stronger, and they sought it as well. Ancient Egyptians also desired gold for its bright beauty. The Egyptian word for gold was nub. Nubia was the Egyptian name for the area of the upper Nile that had the richest gold mines in Africa. Mining minerals was difficult. Veins (long streaks) of copper, iron, and bronze were hidden inside desert mountains in the hot Sinai Peninsula, east of Egypt. Even during the cool season, chipping minerals out of the rock was miserable work. Egyptians mined precious stones too. They were probably the first people in the world to mine turquoise. The Egyptians also mined lapis lazuli. These beautiful blue stones were used in jewelry.The Nile had fish and other wildlife that Egyptians wanted. To go on the river, Egyptians made lightweight rafts by binding together reeds. They used everything from nets to harpoons to catch fish. One ancient painting even shows a man ready to hit a catfish with a wooden hammer. More adventurous hunters speared hippopotamuses and crocodiles along the Nile. Egyptians also captured quail with nets. They used boomerangs to knock down flying ducks and geese. (A boomerang is a curved stick that returns to the person who threw it.) Eventually, Egyptians equipped their reed boats with sails and oars. The Nile then became a highway. The river’s current was slow, so boaters used paddles to go faster when they traveled north with the current. Going south, they raised a sail and let the winds that blew in that direction push them. The Nile provided so well for Egyptians that sometimes they had surpluses, or more goods than they needed. They began to trade with each other. Ancient Egypt had no money, so people exchanged goods that they grew or made. This method of trade is called bartering. Egypt prospered along the Nile. This prosperity made life easier and provided greater opportunities for many Egyptians. When farmers produce food surpluses, the society’s economy begins to expand. Cities emerge as centers of culture and power, and people learn to do jobs that do not involve agriculture. For example, some ancient Egyptians learned to be scribes, people whose job was to write and keep records. As Egyptian civilization grew more complex, people took on jobs other than that of a farmer or scribe. Some skilled artisans erected stone or brick houses and temples. Other artisans made pottery, incense, mats, furniture, linen clothing, sandals, or jewelry. A few Egyptians traveled to the upper Nile to trade with other Africans. These traders took Egyptian products such as scrolls, linen, gold, and jewelry. They brought back exotic woods, animal skins, and live beasts. As Egypt grew, so did its need to organize. Egyptians created a government that divided the empire into 42 provinces. Many officials worked to keep the provinces running smoothly. Egypt also created an army to defend itself. One of the highest jobs in Egypt was to be a priest. Priests followed formal rituals and took care of the temples. Before entering a temple, a priest bathed and put on special linen garments and white sandals. Priests cleaned the sacred statues in temples, changed their clothes, and even fed them meals. Together, the priests and the ruler held ceremonies to please the gods. Egyptians believed that if the gods were angry, the Nile would not flood. As a result, crops would not grow, and people would die. So the ruler and the priests tried hard to keep the gods happy. By doing so, they hoped to maintain the social and political order. Slaves were at the bottom of society. In Egypt, people became slaves if they owed a debt, committed a crime, or were captured in war. Egyptian slaves were usually freed after a period of time. One exception was the slaves who had to work in the mines. Many died from the exhausting labor. Egypt was one of the best places in the ancient world to be a woman. Unlike other ancient African cultures, in Egyptian society men and women had fairly equal rights. For example, they could both own and manage their own property. The main job of most women was to care for their children and home, but some did other jobs too. Some women wove cloth. Others worked with their husbands in fields or workshops. Some women, such as Queen Tiy, even rose to important positions in the government. Children in Egypt played with toys such as dolls, animal figures, board games, and marbles. Their parents made the toys from wood or clay. Boys and girls also played rough physical games with balls made of leather or reeds. Boys and some girls from wealthy families went to schools run by scribes or priests. Most other children learned their parents’ jobs. Almost all Egyptians married when they were in their early teens. As in many ancient societies, much of the knowledge of Egypt came about as priests studied the world to find ways to please the gods. Other advances came about because of practical discoveries. Egyptian priests studied the sky as part of their religion. About 5,000 years ago, they noticed that a star now called Sirius appeared shortly before the Nile began to flood. The star returned to the same position in 365 days. Based on that, Egyptians developed the world’s first practical calendar. The Egyptians developed some of the first geometry. Each year the Nile’s floods washed away land boundaries. To restore property lines, surveyors measured the land by using ropes that were knotted at regular intervals. Geometric shapes such as squares and triangles were sacred to Egyptians. Architects used them in the design of royal temples and monuments. Egyptian doctors often prepared dead bodies for burial, so they knew the parts of the body. That knowledge helped them perform some of the world’s first surgery. Some doctors specialized in using medicines made of herbs. Egyptian medicine was far from perfect. Doctors believed that the heart controlled thought and the brain circulated blood, which is the opposite of what is known now. Some Egyptian treatments would raise eyebrows today. One “cure” for an upset stomach was to eat a hog’s tooth crushed inside sugar cakes! Beginning about 3000 B.C., Egyptians developed a writing system using hieroglyphs. Hieroglyphs Hieroglyphs are pictures that stand for different words or sounds. Early Egyptians created a hieroglyphic system with about 700 characters. Over time the system grew to include more than 6,000 symbols. The Egyptians also developed a paperlike material called papyrus papyrus from a reed of the same name. Egyptians cut the stems into strips, pressed them, and dried them into sheets that could be rolled into scrolls. Papyrus scrolls were light and easy to carry. With them, Egyptians created some of the first books. Legend says a king named Narmer united Upper and Lower Egypt. Some historians think Narmer actually represents several kings who gradually joined the two lands. After Egypt was united, its ruler wore the Double Crown. It combined the red Crown of Lower Egypt with the white Crown of Upper Egypt. The first dynasty of the Egyptian empire began about 2925 B.C. A dynasty is a line of rulers from the same family. When a king died, one of his children usually took his place as ruler. The order in which members of a royal family inherit a throne is called the succession. More than 30 dynasties ruled ancient Egypt. Historians divide ancient Egyptian dynasties into the Old Kingdom, the Middle Kingdom, and the New Kingdom. The Old Kingdom started about 2575 B.C., when the Egyptian empire was gaining strength. The king of Egypt became known as the pharaoh pharaoh. The word pharaoh meant “great house,” and it was originally used to describe the king’s palace. Later it became the title of the king himself. The pharaoh ruled from the capital city of Memphis. The ancient Egyptians thought the pharaoh was a child of the gods and a god himself. Egyptians believed that if the pharaoh and his subjects honored the gods, their lives would be happy. If Egypt suffered hard times for a long period, the people blamed the pharaoh for angering the gods. In such a case, a rival might drive him from power and start a new dynasty. Because the pharaoh was thought to be a god, government and religion were not separate in ancient Egypt. Priests had much power in the government. Many high officials were priests. The first rulers of Egypt were often buried in an underground tomb topped by mud brick. Soon, kings wanted more permanent monuments. They replaced the mud brick with a small pyramid of brick or stone. A pyramid is a structure shaped like a triangle, with four sides that meet at a point. About 2630 B.C., King Djoser built a much larger pyramid over his tomb. It is called a step pyramid because its sides rise in a series of giant steps. It is the oldest-known large stone structure in the world. About 80 years later, a pharaoh named Khufu decided he wanted a monument that would show the world how great he was. He ordered the construction of the largest pyramid ever built. Along its base, each side was about 760 feet long. The core was built from 2.3 million blocks of stone. Building the Great Pyramid was hard work. Miners cut the huge blocks of stone using copper saws and chisels. These tools were much softer than the iron tools developed later. Other teams of workers pulled the stone slabs up long, sloping ramps to their place on the pyramid. Near the top of the pyramid, the ramps ended. Workers dragged each heavy block hundreds of feet and then set it in place. Farmers did the heavy labor of hauling stone during the season when the Nile flooded their fields. Skilled stonecutters and overseers worked year-round. The Great Pyramid took nearly 20 years to build. An estimated 20,000 Egyptians worked on it. A city called Giza was built for the pyramid workers and the people who fed, clothed, and housed them. Eventually, Egyptians stopped building pyramids. One reason is that the pyramids drew attention to the tombs inside them. Grave robbers broke into the tombs to steal the treasure buried with the pharaohs. Sometimes they also stole the mummies. Egyptians believed that if a tomb was robbed, the person buried there could not have a happy afterlife. During the New Kingdom, pharaohs began building more secret tombs in an area called the Valley of the Kings. The burial chambers were hidden in mountains near the Nile. This way, the pharaohs hoped to protect their bodies and treasures from robbers. Both the pyramids and later tombs had several passageways leading to different rooms. This was to confuse grave robbers about which passage to take. Sometimes relatives, such as the queen, were buried in the extra rooms. Tombs were supposed to be the palaces of pharaohs in the afterlife. Mourners filled the tomb with objects ranging from food to furniture that the mummified pharaoh would need. Some tombs contained small statues that were supposed to be servants for the dead person. Egyptian artists decorated royal tombs with wall paintings and sculptures carved into the walls. Art was meant to glorify both the gods and the dead person. A sculpture of a dead pharaoh had “perfect” features, no matter how he really looked. Artists also followed strict rules about how to portray humans. Paintings showed a person’s head, arms, and legs from the side. They showed the front of the body from the neck down to the waist. Wall paintings showed pharaohs enjoying themselves so they could have a happy afterlife. One favorite scene was of the pharaoh fishing in a papyrus marsh. Warlike kings were often portrayed in battle. Scenes might also show people providing for the needs of the dead person. Such activities included growing and preparing food, caring for animals, and building boats. As hard as the pharaohs tried to hide themselves, robbers stole the treasures from almost every tomb. Only a secret tomb built for a New Kingdom pharaoh was ever found with much of its treasure untouched. The dazzling riches found in this tomb show how much wealth the pharaohs spent preparing for the afterlife. By about 2130 B.C., Egyptian kings began to lose their power to local rulers of the provinces. For about 500 more years, the kings held Egypt together, but with a much weaker central government. This period of Egyptian history is called the Middle Kingdom. Rulers during the Middle Kingdom also faced challenges from outside Egypt. A nomadic people called the Hyksos invaded Egypt from the northeast. Their army conquered by using better weapons and horse-drawn chariots, which were new to Egyptians. After about 100 years, the Egyptians drove out the Hyksos and began the New Kingdom.'"
            ],
            "application/vnd.google.colaboratory.intrinsic+json": {
              "type": "string"
            }
          },
          "metadata": {},
          "execution_count": 305
        }
      ]
    },
    {
      "cell_type": "code",
      "source": [
        "import nltk\n",
        "nltk.download('stopwords')"
      ],
      "metadata": {
        "colab": {
          "base_uri": "https://localhost:8080/"
        },
        "id": "w9FHYtuYHBmF",
        "outputId": "7b31e3f6-2037-4c2d-cce4-502bed349f12"
      },
      "execution_count": 306,
      "outputs": [
        {
          "output_type": "stream",
          "name": "stderr",
          "text": [
            "[nltk_data] Downloading package stopwords to /root/nltk_data...\n",
            "[nltk_data]   Package stopwords is already up-to-date!\n"
          ]
        },
        {
          "output_type": "execute_result",
          "data": {
            "text/plain": [
              "True"
            ]
          },
          "metadata": {},
          "execution_count": 306
        }
      ]
    },
    {
      "cell_type": "code",
      "source": [
        "stopWords = stopwords.words('english')\n",
        "\n",
        "def extract_links(data):\n",
        "    extractor = URLExtract()\n",
        "    links = []\n",
        "    for message in data:\n",
        "        links.extend(extractor.find_urls(message))\n",
        "    x=''\n",
        "    for i in data.split():\n",
        "      if i not in links :\n",
        "        x=x+i+' '\n",
        "    return links\n",
        "        \n",
        "def stemming_stop(content):\n",
        "    port_stem = PorterStemmer()\n",
        "    stemmed_content = content\n",
        "    stemmed_content = stemmed_content.lower() \n",
        "    stemmed_content = stemmed_content.split() \n",
        "    stemmed_content = [port_stem.stem(word) for word in stemmed_content if not word in stopwords.words('english')] \n",
        "    stemmed_content = ' '.join(stemmed_content)\n",
        "    return stemmed_content\n",
        "    \n",
        "\n",
        "def clean(data):\n",
        "    cleaned_data = data\n",
        "    cleaned_data = re.sub(r'\\S*@\\S*\\s?', '', cleaned_data)\n",
        "    cleaned_data = re.sub(r'[^\\w\\s.,]', '', cleaned_data)\n",
        "    cleaned_data = re.sub(r'[0-9]', '', cleaned_data)\n",
        "    return cleaned_data\n",
        "\n",
        "def remove_underscores(data):\n",
        "    new_string = \"\"\n",
        "    for x in data:\n",
        "        if (x=='_'):\n",
        "            new_string += ''\n",
        "        else:\n",
        "            new_string+=x\n",
        "    return new_string\n"
      ],
      "metadata": {
        "id": "Ced0nYspjPSG"
      },
      "execution_count": 307,
      "outputs": []
    },
    {
      "cell_type": "code",
      "source": [
        "links = []\n",
        "links = extract_links(text)\n",
        "links"
      ],
      "metadata": {
        "colab": {
          "base_uri": "https://localhost:8080/"
        },
        "id": "kOodsq6sGBdG",
        "outputId": "4b45124f-aa31-49f8-83b7-763a2d395a7f"
      },
      "execution_count": 308,
      "outputs": [
        {
          "output_type": "execute_result",
          "data": {
            "text/plain": [
              "[]"
            ]
          },
          "metadata": {},
          "execution_count": 308
        }
      ]
    },
    {
      "cell_type": "code",
      "source": [
        "new_data = clean(text)\n",
        "print(new_data)"
      ],
      "metadata": {
        "colab": {
          "base_uri": "https://localhost:8080/"
        },
        "id": "xyq7ANXyHTup",
        "outputId": "57eedd2a-84ee-4015-e058-d3fb3ece6587"
      },
      "execution_count": 309,
      "outputs": [
        {
          "output_type": "stream",
          "name": "stdout",
          "text": [
            "The Greek historian knew what he was talking about. The Nile River fed Egyptian civilization for hundreds of years. The Longest River the Nile is , miles longthe worlds longest river. It begins near the equator in Africa and flows north to the Mediterranean Sea. In the south the Nile churns with cataracts. A cataract is a waterfall. Near the sea the Nile branches into a delta. A delta is an area near a rivers mouth where the water deposits fine soil called silt. In the delta, the Nile divides into many streams. The river is called the upper Nile in the south and the lower Nile in the north. For centuries, heavy rains in Ethiopia caused the Nile to flood every summer. The floods deposited rich soil along the Niles shores. This soil was fertile, which means it was good for growing crops. Unlike the Tigris and Euphrates, the Nile River flooded at the same time every year, so farmers could predict when to plant their crops. Red Land, Black Land The ancient Egyptians lived in narrow bands of land on each side of the Nile. They called this region the black land because of the fertile soil that the floods deposited. The red land was the barren desert beyond the fertile region. Weather in Egypt was almost always the same. Eight months of the year were sunny and hot. The four months of winter were sunny but cooler. Most of the region received only an inch of rain a year. The parts of Egypt not near the Nile were a desert. Isolation The harsh desert acted as a barrier to keep out enemies. The Mediterranean coast was swampy and lacked good harbors. For these reasons, early Egyptians stayed close to home. Each year, Egyptian farmers watched for white birds called ibises, which flew up from the south. When the birds arrived, the annual flood waters would soon follow. After the waters drained away, farmers could plant seeds in the fertile soil. Agricultural Techniques By about  B.C., farmers used technology to expand their farmland. Working together, they dug irrigation canals that carried river water to dry areas. Then they used a tool called a shaduf to spread the water across the fields. These innovative, or new, techniques gave them more farmland. Egyptian Crops Ancient Egyptians grew a large variety of foods. They were the first to grind wheat into flour and to mix the flour with yeast and water to make dough rise into bread. They grew vegetables such as lettuce, radishes, asparagus, and cucumbers. Fruits included dates, figs, grapes, and watermelons. Egyptians also grew the materials for their clothes. They were the first to weave fibers from flax plants into a fabric called linen. Lightweight linen cloth was perfect for hot Egyptian days. Men wore linen wraps around their waists. Women wore loose, sleeveless dresses. Egyptians also wove marsh grasses into sandals. Egyptian Houses Egyptians built houses using bricks made of mud from the Nile mixed with chopped straw. They placed narrow windows high in the walls to reduce bright sunlight. Egyptians often painted walls white to reflect the blazing heat. They wove sticks and palm trees to make roofs. Inside, woven reed mats covered the dirt floor. Most Egyptians slept on mats covered with linen sheets. Wealthy citizens enjoyed bed frames and cushions. Egyptian nobles had fancier homes with treelined courtyards for shade. Some had a pool filled with lotus blossoms and fish. Poorer Egyptians simply went to the roof to cool off after sunset. They often cooked, ate, and even slept outside. Egypts economy depended on farming. However, the natural resources of the area allowed other economic activities to develop too. The Egyptians wanted valuable metals that were not found in the black land. For example, they wanted copper to make tools and weapons. Egyptians looked for copper as early as  B.C. Later they learned that iron was stronger, and they sought it as well. Ancient Egyptians also desired gold for its bright beauty. The Egyptian word for gold was nub. Nubia was the Egyptian name for the area of the upper Nile that had the richest gold mines in Africa. Mining minerals was difficult. Veins long streaks of copper, iron, and bronze were hidden inside desert mountains in the hot Sinai Peninsula, east of Egypt. Even during the cool season, chipping minerals out of the rock was miserable work. Egyptians mined precious stones too. They were probably the first people in the world to mine turquoise. The Egyptians also mined lapis lazuli. These beautiful blue stones were used in jewelry.The Nile had fish and other wildlife that Egyptians wanted. To go on the river, Egyptians made lightweight rafts by binding together reeds. They used everything from nets to harpoons to catch fish. One ancient painting even shows a man ready to hit a catfish with a wooden hammer. More adventurous hunters speared hippopotamuses and crocodiles along the Nile. Egyptians also captured quail with nets. They used boomerangs to knock down flying ducks and geese. A boomerang is a curved stick that returns to the person who threw it. Eventually, Egyptians equipped their reed boats with sails and oars. The Nile then became a highway. The rivers current was slow, so boaters used paddles to go faster when they traveled north with the current. Going south, they raised a sail and let the winds that blew in that direction push them. The Nile provided so well for Egyptians that sometimes they had surpluses, or more goods than they needed. They began to trade with each other. Ancient Egypt had no money, so people exchanged goods that they grew or made. This method of trade is called bartering. Egypt prospered along the Nile. This prosperity made life easier and provided greater opportunities for many Egyptians. When farmers produce food surpluses, the societys economy begins to expand. Cities emerge as centers of culture and power, and people learn to do jobs that do not involve agriculture. For example, some ancient Egyptians learned to be scribes, people whose job was to write and keep records. As Egyptian civilization grew more complex, people took on jobs other than that of a farmer or scribe. Some skilled artisans erected stone or brick houses and temples. Other artisans made pottery, incense, mats, furniture, linen clothing, sandals, or jewelry. A few Egyptians traveled to the upper Nile to trade with other Africans. These traders took Egyptian products such as scrolls, linen, gold, and jewelry. They brought back exotic woods, animal skins, and live beasts. As Egypt grew, so did its need to organize. Egyptians created a government that divided the empire into  provinces. Many officials worked to keep the provinces running smoothly. Egypt also created an army to defend itself. One of the highest jobs in Egypt was to be a priest. Priests followed formal rituals and took care of the temples. Before entering a temple, a priest bathed and put on special linen garments and white sandals. Priests cleaned the sacred statues in temples, changed their clothes, and even fed them meals. Together, the priests and the ruler held ceremonies to please the gods. Egyptians believed that if the gods were angry, the Nile would not flood. As a result, crops would not grow, and people would die. So the ruler and the priests tried hard to keep the gods happy. By doing so, they hoped to maintain the social and political order. Slaves were at the bottom of society. In Egypt, people became slaves if they owed a debt, committed a crime, or were captured in war. Egyptian slaves were usually freed after a period of time. One exception was the slaves who had to work in the mines. Many died from the exhausting labor. Egypt was one of the best places in the ancient world to be a woman. Unlike other ancient African cultures, in Egyptian society men and women had fairly equal rights. For example, they could both own and manage their own property. The main job of most women was to care for their children and home, but some did other jobs too. Some women wove cloth. Others worked with their husbands in fields or workshops. Some women, such as Queen Tiy, even rose to important positions in the government. Children in Egypt played with toys such as dolls, animal figures, board games, and marbles. Their parents made the toys from wood or clay. Boys and girls also played rough physical games with balls made of leather or reeds. Boys and some girls from wealthy families went to schools run by scribes or priests. Most other children learned their parents jobs. Almost all Egyptians married when they were in their early teens. As in many ancient societies, much of the knowledge of Egypt came about as priests studied the world to find ways to please the gods. Other advances came about because of practical discoveries. Egyptian priests studied the sky as part of their religion. About , years ago, they noticed that a star now called Sirius appeared shortly before the Nile began to flood. The star returned to the same position in  days. Based on that, Egyptians developed the worlds first practical calendar. The Egyptians developed some of the first geometry. Each year the Niles floods washed away land boundaries. To restore property lines, surveyors measured the land by using ropes that were knotted at regular intervals. Geometric shapes such as squares and triangles were sacred to Egyptians. Architects used them in the design of royal temples and monuments. Egyptian doctors often prepared dead bodies for burial, so they knew the parts of the body. That knowledge helped them perform some of the worlds first surgery. Some doctors specialized in using medicines made of herbs. Egyptian medicine was far from perfect. Doctors believed that the heart controlled thought and the brain circulated blood, which is the opposite of what is known now. Some Egyptian treatments would raise eyebrows today. One cure for an upset stomach was to eat a hogs tooth crushed inside sugar cakes Beginning about  B.C., Egyptians developed a writing system using hieroglyphs. Hieroglyphs Hieroglyphs are pictures that stand for different words or sounds. Early Egyptians created a hieroglyphic system with about  characters. Over time the system grew to include more than , symbols. The Egyptians also developed a paperlike material called papyrus papyrus from a reed of the same name. Egyptians cut the stems into strips, pressed them, and dried them into sheets that could be rolled into scrolls. Papyrus scrolls were light and easy to carry. With them, Egyptians created some of the first books. Legend says a king named Narmer united Upper and Lower Egypt. Some historians think Narmer actually represents several kings who gradually joined the two lands. After Egypt was united, its ruler wore the Double Crown. It combined the red Crown of Lower Egypt with the white Crown of Upper Egypt. The first dynasty of the Egyptian empire began about  B.C. A dynasty is a line of rulers from the same family. When a king died, one of his children usually took his place as ruler. The order in which members of a royal family inherit a throne is called the succession. More than  dynasties ruled ancient Egypt. Historians divide ancient Egyptian dynasties into the Old Kingdom, the Middle Kingdom, and the New Kingdom. The Old Kingdom started about  B.C., when the Egyptian empire was gaining strength. The king of Egypt became known as the pharaoh pharaoh. The word pharaoh meant great house, and it was originally used to describe the kings palace. Later it became the title of the king himself. The pharaoh ruled from the capital city of Memphis. The ancient Egyptians thought the pharaoh was a child of the gods and a god himself. Egyptians believed that if the pharaoh and his subjects honored the gods, their lives would be happy. If Egypt suffered hard times for a long period, the people blamed the pharaoh for angering the gods. In such a case, a rival might drive him from power and start a new dynasty. Because the pharaoh was thought to be a god, government and religion were not separate in ancient Egypt. Priests had much power in the government. Many high officials were priests. The first rulers of Egypt were often buried in an underground tomb topped by mud brick. Soon, kings wanted more permanent monuments. They replaced the mud brick with a small pyramid of brick or stone. A pyramid is a structure shaped like a triangle, with four sides that meet at a point. About  B.C., King Djoser built a much larger pyramid over his tomb. It is called a step pyramid because its sides rise in a series of giant steps. It is the oldestknown large stone structure in the world. About  years later, a pharaoh named Khufu decided he wanted a monument that would show the world how great he was. He ordered the construction of the largest pyramid ever built. Along its base, each side was about  feet long. The core was built from . million blocks of stone. Building the Great Pyramid was hard work. Miners cut the huge blocks of stone using copper saws and chisels. These tools were much softer than the iron tools developed later. Other teams of workers pulled the stone slabs up long, sloping ramps to their place on the pyramid. Near the top of the pyramid, the ramps ended. Workers dragged each heavy block hundreds of feet and then set it in place. Farmers did the heavy labor of hauling stone during the season when the Nile flooded their fields. Skilled stonecutters and overseers worked yearround. The Great Pyramid took nearly  years to build. An estimated , Egyptians worked on it. A city called Giza was built for the pyramid workers and the people who fed, clothed, and housed them. Eventually, Egyptians stopped building pyramids. One reason is that the pyramids drew attention to the tombs inside them. Grave robbers broke into the tombs to steal the treasure buried with the pharaohs. Sometimes they also stole the mummies. Egyptians believed that if a tomb was robbed, the person buried there could not have a happy afterlife. During the New Kingdom, pharaohs began building more secret tombs in an area called the Valley of the Kings. The burial chambers were hidden in mountains near the Nile. This way, the pharaohs hoped to protect their bodies and treasures from robbers. Both the pyramids and later tombs had several passageways leading to different rooms. This was to confuse grave robbers about which passage to take. Sometimes relatives, such as the queen, were buried in the extra rooms. Tombs were supposed to be the palaces of pharaohs in the afterlife. Mourners filled the tomb with objects ranging from food to furniture that the mummified pharaoh would need. Some tombs contained small statues that were supposed to be servants for the dead person. Egyptian artists decorated royal tombs with wall paintings and sculptures carved into the walls. Art was meant to glorify both the gods and the dead person. A sculpture of a dead pharaoh had perfect features, no matter how he really looked. Artists also followed strict rules about how to portray humans. Paintings showed a persons head, arms, and legs from the side. They showed the front of the body from the neck down to the waist. Wall paintings showed pharaohs enjoying themselves so they could have a happy afterlife. One favorite scene was of the pharaoh fishing in a papyrus marsh. Warlike kings were often portrayed in battle. Scenes might also show people providing for the needs of the dead person. Such activities included growing and preparing food, caring for animals, and building boats. As hard as the pharaohs tried to hide themselves, robbers stole the treasures from almost every tomb. Only a secret tomb built for a New Kingdom pharaoh was ever found with much of its treasure untouched. The dazzling riches found in this tomb show how much wealth the pharaohs spent preparing for the afterlife. By about  B.C., Egyptian kings began to lose their power to local rulers of the provinces. For about  more years, the kings held Egypt together, but with a much weaker central government. This period of Egyptian history is called the Middle Kingdom. Rulers during the Middle Kingdom also faced challenges from outside Egypt. A nomadic people called the Hyksos invaded Egypt from the northeast. Their army conquered by using better weapons and horsedrawn chariots, which were new to Egyptians. After about  years, the Egyptians drove out the Hyksos and began the New Kingdom.\n"
          ]
        }
      ]
    },
    {
      "cell_type": "code",
      "source": [
        "clean(new_data)"
      ],
      "metadata": {
        "colab": {
          "base_uri": "https://localhost:8080/",
          "height": 157
        },
        "id": "45CnzJ0ceYSH",
        "outputId": "84d4c1b7-a2f6-4c47-fffa-0dff792525d8"
      },
      "execution_count": 310,
      "outputs": [
        {
          "output_type": "execute_result",
          "data": {
            "text/plain": [
              "'The Greek historian knew what he was talking about. The Nile River fed Egyptian civilization for hundreds of years. The Longest River the Nile is , miles longthe worlds longest river. It begins near the equator in Africa and flows north to the Mediterranean Sea. In the south the Nile churns with cataracts. A cataract is a waterfall. Near the sea the Nile branches into a delta. A delta is an area near a rivers mouth where the water deposits fine soil called silt. In the delta, the Nile divides into many streams. The river is called the upper Nile in the south and the lower Nile in the north. For centuries, heavy rains in Ethiopia caused the Nile to flood every summer. The floods deposited rich soil along the Niles shores. This soil was fertile, which means it was good for growing crops. Unlike the Tigris and Euphrates, the Nile River flooded at the same time every year, so farmers could predict when to plant their crops. Red Land, Black Land The ancient Egyptians lived in narrow bands of land on each side of the Nile. They called this region the black land because of the fertile soil that the floods deposited. The red land was the barren desert beyond the fertile region. Weather in Egypt was almost always the same. Eight months of the year were sunny and hot. The four months of winter were sunny but cooler. Most of the region received only an inch of rain a year. The parts of Egypt not near the Nile were a desert. Isolation The harsh desert acted as a barrier to keep out enemies. The Mediterranean coast was swampy and lacked good harbors. For these reasons, early Egyptians stayed close to home. Each year, Egyptian farmers watched for white birds called ibises, which flew up from the south. When the birds arrived, the annual flood waters would soon follow. After the waters drained away, farmers could plant seeds in the fertile soil. Agricultural Techniques By about  B.C., farmers used technology to expand their farmland. Working together, they dug irrigation canals that carried river water to dry areas. Then they used a tool called a shaduf to spread the water across the fields. These innovative, or new, techniques gave them more farmland. Egyptian Crops Ancient Egyptians grew a large variety of foods. They were the first to grind wheat into flour and to mix the flour with yeast and water to make dough rise into bread. They grew vegetables such as lettuce, radishes, asparagus, and cucumbers. Fruits included dates, figs, grapes, and watermelons. Egyptians also grew the materials for their clothes. They were the first to weave fibers from flax plants into a fabric called linen. Lightweight linen cloth was perfect for hot Egyptian days. Men wore linen wraps around their waists. Women wore loose, sleeveless dresses. Egyptians also wove marsh grasses into sandals. Egyptian Houses Egyptians built houses using bricks made of mud from the Nile mixed with chopped straw. They placed narrow windows high in the walls to reduce bright sunlight. Egyptians often painted walls white to reflect the blazing heat. They wove sticks and palm trees to make roofs. Inside, woven reed mats covered the dirt floor. Most Egyptians slept on mats covered with linen sheets. Wealthy citizens enjoyed bed frames and cushions. Egyptian nobles had fancier homes with treelined courtyards for shade. Some had a pool filled with lotus blossoms and fish. Poorer Egyptians simply went to the roof to cool off after sunset. They often cooked, ate, and even slept outside. Egypts economy depended on farming. However, the natural resources of the area allowed other economic activities to develop too. The Egyptians wanted valuable metals that were not found in the black land. For example, they wanted copper to make tools and weapons. Egyptians looked for copper as early as  B.C. Later they learned that iron was stronger, and they sought it as well. Ancient Egyptians also desired gold for its bright beauty. The Egyptian word for gold was nub. Nubia was the Egyptian name for the area of the upper Nile that had the richest gold mines in Africa. Mining minerals was difficult. Veins long streaks of copper, iron, and bronze were hidden inside desert mountains in the hot Sinai Peninsula, east of Egypt. Even during the cool season, chipping minerals out of the rock was miserable work. Egyptians mined precious stones too. They were probably the first people in the world to mine turquoise. The Egyptians also mined lapis lazuli. These beautiful blue stones were used in jewelry.The Nile had fish and other wildlife that Egyptians wanted. To go on the river, Egyptians made lightweight rafts by binding together reeds. They used everything from nets to harpoons to catch fish. One ancient painting even shows a man ready to hit a catfish with a wooden hammer. More adventurous hunters speared hippopotamuses and crocodiles along the Nile. Egyptians also captured quail with nets. They used boomerangs to knock down flying ducks and geese. A boomerang is a curved stick that returns to the person who threw it. Eventually, Egyptians equipped their reed boats with sails and oars. The Nile then became a highway. The rivers current was slow, so boaters used paddles to go faster when they traveled north with the current. Going south, they raised a sail and let the winds that blew in that direction push them. The Nile provided so well for Egyptians that sometimes they had surpluses, or more goods than they needed. They began to trade with each other. Ancient Egypt had no money, so people exchanged goods that they grew or made. This method of trade is called bartering. Egypt prospered along the Nile. This prosperity made life easier and provided greater opportunities for many Egyptians. When farmers produce food surpluses, the societys economy begins to expand. Cities emerge as centers of culture and power, and people learn to do jobs that do not involve agriculture. For example, some ancient Egyptians learned to be scribes, people whose job was to write and keep records. As Egyptian civilization grew more complex, people took on jobs other than that of a farmer or scribe. Some skilled artisans erected stone or brick houses and temples. Other artisans made pottery, incense, mats, furniture, linen clothing, sandals, or jewelry. A few Egyptians traveled to the upper Nile to trade with other Africans. These traders took Egyptian products such as scrolls, linen, gold, and jewelry. They brought back exotic woods, animal skins, and live beasts. As Egypt grew, so did its need to organize. Egyptians created a government that divided the empire into  provinces. Many officials worked to keep the provinces running smoothly. Egypt also created an army to defend itself. One of the highest jobs in Egypt was to be a priest. Priests followed formal rituals and took care of the temples. Before entering a temple, a priest bathed and put on special linen garments and white sandals. Priests cleaned the sacred statues in temples, changed their clothes, and even fed them meals. Together, the priests and the ruler held ceremonies to please the gods. Egyptians believed that if the gods were angry, the Nile would not flood. As a result, crops would not grow, and people would die. So the ruler and the priests tried hard to keep the gods happy. By doing so, they hoped to maintain the social and political order. Slaves were at the bottom of society. In Egypt, people became slaves if they owed a debt, committed a crime, or were captured in war. Egyptian slaves were usually freed after a period of time. One exception was the slaves who had to work in the mines. Many died from the exhausting labor. Egypt was one of the best places in the ancient world to be a woman. Unlike other ancient African cultures, in Egyptian society men and women had fairly equal rights. For example, they could both own and manage their own property. The main job of most women was to care for their children and home, but some did other jobs too. Some women wove cloth. Others worked with their husbands in fields or workshops. Some women, such as Queen Tiy, even rose to important positions in the government. Children in Egypt played with toys such as dolls, animal figures, board games, and marbles. Their parents made the toys from wood or clay. Boys and girls also played rough physical games with balls made of leather or reeds. Boys and some girls from wealthy families went to schools run by scribes or priests. Most other children learned their parents jobs. Almost all Egyptians married when they were in their early teens. As in many ancient societies, much of the knowledge of Egypt came about as priests studied the world to find ways to please the gods. Other advances came about because of practical discoveries. Egyptian priests studied the sky as part of their religion. About , years ago, they noticed that a star now called Sirius appeared shortly before the Nile began to flood. The star returned to the same position in  days. Based on that, Egyptians developed the worlds first practical calendar. The Egyptians developed some of the first geometry. Each year the Niles floods washed away land boundaries. To restore property lines, surveyors measured the land by using ropes that were knotted at regular intervals. Geometric shapes such as squares and triangles were sacred to Egyptians. Architects used them in the design of royal temples and monuments. Egyptian doctors often prepared dead bodies for burial, so they knew the parts of the body. That knowledge helped them perform some of the worlds first surgery. Some doctors specialized in using medicines made of herbs. Egyptian medicine was far from perfect. Doctors believed that the heart controlled thought and the brain circulated blood, which is the opposite of what is known now. Some Egyptian treatments would raise eyebrows today. One cure for an upset stomach was to eat a hogs tooth crushed inside sugar cakes Beginning about  B.C., Egyptians developed a writing system using hieroglyphs. Hieroglyphs Hieroglyphs are pictures that stand for different words or sounds. Early Egyptians created a hieroglyphic system with about  characters. Over time the system grew to include more than , symbols. The Egyptians also developed a paperlike material called papyrus papyrus from a reed of the same name. Egyptians cut the stems into strips, pressed them, and dried them into sheets that could be rolled into scrolls. Papyrus scrolls were light and easy to carry. With them, Egyptians created some of the first books. Legend says a king named Narmer united Upper and Lower Egypt. Some historians think Narmer actually represents several kings who gradually joined the two lands. After Egypt was united, its ruler wore the Double Crown. It combined the red Crown of Lower Egypt with the white Crown of Upper Egypt. The first dynasty of the Egyptian empire began about  B.C. A dynasty is a line of rulers from the same family. When a king died, one of his children usually took his place as ruler. The order in which members of a royal family inherit a throne is called the succession. More than  dynasties ruled ancient Egypt. Historians divide ancient Egyptian dynasties into the Old Kingdom, the Middle Kingdom, and the New Kingdom. The Old Kingdom started about  B.C., when the Egyptian empire was gaining strength. The king of Egypt became known as the pharaoh pharaoh. The word pharaoh meant great house, and it was originally used to describe the kings palace. Later it became the title of the king himself. The pharaoh ruled from the capital city of Memphis. The ancient Egyptians thought the pharaoh was a child of the gods and a god himself. Egyptians believed that if the pharaoh and his subjects honored the gods, their lives would be happy. If Egypt suffered hard times for a long period, the people blamed the pharaoh for angering the gods. In such a case, a rival might drive him from power and start a new dynasty. Because the pharaoh was thought to be a god, government and religion were not separate in ancient Egypt. Priests had much power in the government. Many high officials were priests. The first rulers of Egypt were often buried in an underground tomb topped by mud brick. Soon, kings wanted more permanent monuments. They replaced the mud brick with a small pyramid of brick or stone. A pyramid is a structure shaped like a triangle, with four sides that meet at a point. About  B.C., King Djoser built a much larger pyramid over his tomb. It is called a step pyramid because its sides rise in a series of giant steps. It is the oldestknown large stone structure in the world. About  years later, a pharaoh named Khufu decided he wanted a monument that would show the world how great he was. He ordered the construction of the largest pyramid ever built. Along its base, each side was about  feet long. The core was built from . million blocks of stone. Building the Great Pyramid was hard work. Miners cut the huge blocks of stone using copper saws and chisels. These tools were much softer than the iron tools developed later. Other teams of workers pulled the stone slabs up long, sloping ramps to their place on the pyramid. Near the top of the pyramid, the ramps ended. Workers dragged each heavy block hundreds of feet and then set it in place. Farmers did the heavy labor of hauling stone during the season when the Nile flooded their fields. Skilled stonecutters and overseers worked yearround. The Great Pyramid took nearly  years to build. An estimated , Egyptians worked on it. A city called Giza was built for the pyramid workers and the people who fed, clothed, and housed them. Eventually, Egyptians stopped building pyramids. One reason is that the pyramids drew attention to the tombs inside them. Grave robbers broke into the tombs to steal the treasure buried with the pharaohs. Sometimes they also stole the mummies. Egyptians believed that if a tomb was robbed, the person buried there could not have a happy afterlife. During the New Kingdom, pharaohs began building more secret tombs in an area called the Valley of the Kings. The burial chambers were hidden in mountains near the Nile. This way, the pharaohs hoped to protect their bodies and treasures from robbers. Both the pyramids and later tombs had several passageways leading to different rooms. This was to confuse grave robbers about which passage to take. Sometimes relatives, such as the queen, were buried in the extra rooms. Tombs were supposed to be the palaces of pharaohs in the afterlife. Mourners filled the tomb with objects ranging from food to furniture that the mummified pharaoh would need. Some tombs contained small statues that were supposed to be servants for the dead person. Egyptian artists decorated royal tombs with wall paintings and sculptures carved into the walls. Art was meant to glorify both the gods and the dead person. A sculpture of a dead pharaoh had perfect features, no matter how he really looked. Artists also followed strict rules about how to portray humans. Paintings showed a persons head, arms, and legs from the side. They showed the front of the body from the neck down to the waist. Wall paintings showed pharaohs enjoying themselves so they could have a happy afterlife. One favorite scene was of the pharaoh fishing in a papyrus marsh. Warlike kings were often portrayed in battle. Scenes might also show people providing for the needs of the dead person. Such activities included growing and preparing food, caring for animals, and building boats. As hard as the pharaohs tried to hide themselves, robbers stole the treasures from almost every tomb. Only a secret tomb built for a New Kingdom pharaoh was ever found with much of its treasure untouched. The dazzling riches found in this tomb show how much wealth the pharaohs spent preparing for the afterlife. By about  B.C., Egyptian kings began to lose their power to local rulers of the provinces. For about  more years, the kings held Egypt together, but with a much weaker central government. This period of Egyptian history is called the Middle Kingdom. Rulers during the Middle Kingdom also faced challenges from outside Egypt. A nomadic people called the Hyksos invaded Egypt from the northeast. Their army conquered by using better weapons and horsedrawn chariots, which were new to Egyptians. After about  years, the Egyptians drove out the Hyksos and began the New Kingdom.'"
            ],
            "application/vnd.google.colaboratory.intrinsic+json": {
              "type": "string"
            }
          },
          "metadata": {},
          "execution_count": 310
        }
      ]
    },
    {
      "cell_type": "code",
      "source": [
        "preprocessed_data = remove_underscores(new_data)\n",
        "print(preprocessed_data)"
      ],
      "metadata": {
        "colab": {
          "base_uri": "https://localhost:8080/"
        },
        "id": "BQNQoFM6Hoz8",
        "outputId": "92d146b8-8481-4af6-8cac-6f46077f7c98"
      },
      "execution_count": 311,
      "outputs": [
        {
          "output_type": "stream",
          "name": "stdout",
          "text": [
            "The Greek historian knew what he was talking about. The Nile River fed Egyptian civilization for hundreds of years. The Longest River the Nile is , miles longthe worlds longest river. It begins near the equator in Africa and flows north to the Mediterranean Sea. In the south the Nile churns with cataracts. A cataract is a waterfall. Near the sea the Nile branches into a delta. A delta is an area near a rivers mouth where the water deposits fine soil called silt. In the delta, the Nile divides into many streams. The river is called the upper Nile in the south and the lower Nile in the north. For centuries, heavy rains in Ethiopia caused the Nile to flood every summer. The floods deposited rich soil along the Niles shores. This soil was fertile, which means it was good for growing crops. Unlike the Tigris and Euphrates, the Nile River flooded at the same time every year, so farmers could predict when to plant their crops. Red Land, Black Land The ancient Egyptians lived in narrow bands of land on each side of the Nile. They called this region the black land because of the fertile soil that the floods deposited. The red land was the barren desert beyond the fertile region. Weather in Egypt was almost always the same. Eight months of the year were sunny and hot. The four months of winter were sunny but cooler. Most of the region received only an inch of rain a year. The parts of Egypt not near the Nile were a desert. Isolation The harsh desert acted as a barrier to keep out enemies. The Mediterranean coast was swampy and lacked good harbors. For these reasons, early Egyptians stayed close to home. Each year, Egyptian farmers watched for white birds called ibises, which flew up from the south. When the birds arrived, the annual flood waters would soon follow. After the waters drained away, farmers could plant seeds in the fertile soil. Agricultural Techniques By about  B.C., farmers used technology to expand their farmland. Working together, they dug irrigation canals that carried river water to dry areas. Then they used a tool called a shaduf to spread the water across the fields. These innovative, or new, techniques gave them more farmland. Egyptian Crops Ancient Egyptians grew a large variety of foods. They were the first to grind wheat into flour and to mix the flour with yeast and water to make dough rise into bread. They grew vegetables such as lettuce, radishes, asparagus, and cucumbers. Fruits included dates, figs, grapes, and watermelons. Egyptians also grew the materials for their clothes. They were the first to weave fibers from flax plants into a fabric called linen. Lightweight linen cloth was perfect for hot Egyptian days. Men wore linen wraps around their waists. Women wore loose, sleeveless dresses. Egyptians also wove marsh grasses into sandals. Egyptian Houses Egyptians built houses using bricks made of mud from the Nile mixed with chopped straw. They placed narrow windows high in the walls to reduce bright sunlight. Egyptians often painted walls white to reflect the blazing heat. They wove sticks and palm trees to make roofs. Inside, woven reed mats covered the dirt floor. Most Egyptians slept on mats covered with linen sheets. Wealthy citizens enjoyed bed frames and cushions. Egyptian nobles had fancier homes with treelined courtyards for shade. Some had a pool filled with lotus blossoms and fish. Poorer Egyptians simply went to the roof to cool off after sunset. They often cooked, ate, and even slept outside. Egypts economy depended on farming. However, the natural resources of the area allowed other economic activities to develop too. The Egyptians wanted valuable metals that were not found in the black land. For example, they wanted copper to make tools and weapons. Egyptians looked for copper as early as  B.C. Later they learned that iron was stronger, and they sought it as well. Ancient Egyptians also desired gold for its bright beauty. The Egyptian word for gold was nub. Nubia was the Egyptian name for the area of the upper Nile that had the richest gold mines in Africa. Mining minerals was difficult. Veins long streaks of copper, iron, and bronze were hidden inside desert mountains in the hot Sinai Peninsula, east of Egypt. Even during the cool season, chipping minerals out of the rock was miserable work. Egyptians mined precious stones too. They were probably the first people in the world to mine turquoise. The Egyptians also mined lapis lazuli. These beautiful blue stones were used in jewelry.The Nile had fish and other wildlife that Egyptians wanted. To go on the river, Egyptians made lightweight rafts by binding together reeds. They used everything from nets to harpoons to catch fish. One ancient painting even shows a man ready to hit a catfish with a wooden hammer. More adventurous hunters speared hippopotamuses and crocodiles along the Nile. Egyptians also captured quail with nets. They used boomerangs to knock down flying ducks and geese. A boomerang is a curved stick that returns to the person who threw it. Eventually, Egyptians equipped their reed boats with sails and oars. The Nile then became a highway. The rivers current was slow, so boaters used paddles to go faster when they traveled north with the current. Going south, they raised a sail and let the winds that blew in that direction push them. The Nile provided so well for Egyptians that sometimes they had surpluses, or more goods than they needed. They began to trade with each other. Ancient Egypt had no money, so people exchanged goods that they grew or made. This method of trade is called bartering. Egypt prospered along the Nile. This prosperity made life easier and provided greater opportunities for many Egyptians. When farmers produce food surpluses, the societys economy begins to expand. Cities emerge as centers of culture and power, and people learn to do jobs that do not involve agriculture. For example, some ancient Egyptians learned to be scribes, people whose job was to write and keep records. As Egyptian civilization grew more complex, people took on jobs other than that of a farmer or scribe. Some skilled artisans erected stone or brick houses and temples. Other artisans made pottery, incense, mats, furniture, linen clothing, sandals, or jewelry. A few Egyptians traveled to the upper Nile to trade with other Africans. These traders took Egyptian products such as scrolls, linen, gold, and jewelry. They brought back exotic woods, animal skins, and live beasts. As Egypt grew, so did its need to organize. Egyptians created a government that divided the empire into  provinces. Many officials worked to keep the provinces running smoothly. Egypt also created an army to defend itself. One of the highest jobs in Egypt was to be a priest. Priests followed formal rituals and took care of the temples. Before entering a temple, a priest bathed and put on special linen garments and white sandals. Priests cleaned the sacred statues in temples, changed their clothes, and even fed them meals. Together, the priests and the ruler held ceremonies to please the gods. Egyptians believed that if the gods were angry, the Nile would not flood. As a result, crops would not grow, and people would die. So the ruler and the priests tried hard to keep the gods happy. By doing so, they hoped to maintain the social and political order. Slaves were at the bottom of society. In Egypt, people became slaves if they owed a debt, committed a crime, or were captured in war. Egyptian slaves were usually freed after a period of time. One exception was the slaves who had to work in the mines. Many died from the exhausting labor. Egypt was one of the best places in the ancient world to be a woman. Unlike other ancient African cultures, in Egyptian society men and women had fairly equal rights. For example, they could both own and manage their own property. The main job of most women was to care for their children and home, but some did other jobs too. Some women wove cloth. Others worked with their husbands in fields or workshops. Some women, such as Queen Tiy, even rose to important positions in the government. Children in Egypt played with toys such as dolls, animal figures, board games, and marbles. Their parents made the toys from wood or clay. Boys and girls also played rough physical games with balls made of leather or reeds. Boys and some girls from wealthy families went to schools run by scribes or priests. Most other children learned their parents jobs. Almost all Egyptians married when they were in their early teens. As in many ancient societies, much of the knowledge of Egypt came about as priests studied the world to find ways to please the gods. Other advances came about because of practical discoveries. Egyptian priests studied the sky as part of their religion. About , years ago, they noticed that a star now called Sirius appeared shortly before the Nile began to flood. The star returned to the same position in  days. Based on that, Egyptians developed the worlds first practical calendar. The Egyptians developed some of the first geometry. Each year the Niles floods washed away land boundaries. To restore property lines, surveyors measured the land by using ropes that were knotted at regular intervals. Geometric shapes such as squares and triangles were sacred to Egyptians. Architects used them in the design of royal temples and monuments. Egyptian doctors often prepared dead bodies for burial, so they knew the parts of the body. That knowledge helped them perform some of the worlds first surgery. Some doctors specialized in using medicines made of herbs. Egyptian medicine was far from perfect. Doctors believed that the heart controlled thought and the brain circulated blood, which is the opposite of what is known now. Some Egyptian treatments would raise eyebrows today. One cure for an upset stomach was to eat a hogs tooth crushed inside sugar cakes Beginning about  B.C., Egyptians developed a writing system using hieroglyphs. Hieroglyphs Hieroglyphs are pictures that stand for different words or sounds. Early Egyptians created a hieroglyphic system with about  characters. Over time the system grew to include more than , symbols. The Egyptians also developed a paperlike material called papyrus papyrus from a reed of the same name. Egyptians cut the stems into strips, pressed them, and dried them into sheets that could be rolled into scrolls. Papyrus scrolls were light and easy to carry. With them, Egyptians created some of the first books. Legend says a king named Narmer united Upper and Lower Egypt. Some historians think Narmer actually represents several kings who gradually joined the two lands. After Egypt was united, its ruler wore the Double Crown. It combined the red Crown of Lower Egypt with the white Crown of Upper Egypt. The first dynasty of the Egyptian empire began about  B.C. A dynasty is a line of rulers from the same family. When a king died, one of his children usually took his place as ruler. The order in which members of a royal family inherit a throne is called the succession. More than  dynasties ruled ancient Egypt. Historians divide ancient Egyptian dynasties into the Old Kingdom, the Middle Kingdom, and the New Kingdom. The Old Kingdom started about  B.C., when the Egyptian empire was gaining strength. The king of Egypt became known as the pharaoh pharaoh. The word pharaoh meant great house, and it was originally used to describe the kings palace. Later it became the title of the king himself. The pharaoh ruled from the capital city of Memphis. The ancient Egyptians thought the pharaoh was a child of the gods and a god himself. Egyptians believed that if the pharaoh and his subjects honored the gods, their lives would be happy. If Egypt suffered hard times for a long period, the people blamed the pharaoh for angering the gods. In such a case, a rival might drive him from power and start a new dynasty. Because the pharaoh was thought to be a god, government and religion were not separate in ancient Egypt. Priests had much power in the government. Many high officials were priests. The first rulers of Egypt were often buried in an underground tomb topped by mud brick. Soon, kings wanted more permanent monuments. They replaced the mud brick with a small pyramid of brick or stone. A pyramid is a structure shaped like a triangle, with four sides that meet at a point. About  B.C., King Djoser built a much larger pyramid over his tomb. It is called a step pyramid because its sides rise in a series of giant steps. It is the oldestknown large stone structure in the world. About  years later, a pharaoh named Khufu decided he wanted a monument that would show the world how great he was. He ordered the construction of the largest pyramid ever built. Along its base, each side was about  feet long. The core was built from . million blocks of stone. Building the Great Pyramid was hard work. Miners cut the huge blocks of stone using copper saws and chisels. These tools were much softer than the iron tools developed later. Other teams of workers pulled the stone slabs up long, sloping ramps to their place on the pyramid. Near the top of the pyramid, the ramps ended. Workers dragged each heavy block hundreds of feet and then set it in place. Farmers did the heavy labor of hauling stone during the season when the Nile flooded their fields. Skilled stonecutters and overseers worked yearround. The Great Pyramid took nearly  years to build. An estimated , Egyptians worked on it. A city called Giza was built for the pyramid workers and the people who fed, clothed, and housed them. Eventually, Egyptians stopped building pyramids. One reason is that the pyramids drew attention to the tombs inside them. Grave robbers broke into the tombs to steal the treasure buried with the pharaohs. Sometimes they also stole the mummies. Egyptians believed that if a tomb was robbed, the person buried there could not have a happy afterlife. During the New Kingdom, pharaohs began building more secret tombs in an area called the Valley of the Kings. The burial chambers were hidden in mountains near the Nile. This way, the pharaohs hoped to protect their bodies and treasures from robbers. Both the pyramids and later tombs had several passageways leading to different rooms. This was to confuse grave robbers about which passage to take. Sometimes relatives, such as the queen, were buried in the extra rooms. Tombs were supposed to be the palaces of pharaohs in the afterlife. Mourners filled the tomb with objects ranging from food to furniture that the mummified pharaoh would need. Some tombs contained small statues that were supposed to be servants for the dead person. Egyptian artists decorated royal tombs with wall paintings and sculptures carved into the walls. Art was meant to glorify both the gods and the dead person. A sculpture of a dead pharaoh had perfect features, no matter how he really looked. Artists also followed strict rules about how to portray humans. Paintings showed a persons head, arms, and legs from the side. They showed the front of the body from the neck down to the waist. Wall paintings showed pharaohs enjoying themselves so they could have a happy afterlife. One favorite scene was of the pharaoh fishing in a papyrus marsh. Warlike kings were often portrayed in battle. Scenes might also show people providing for the needs of the dead person. Such activities included growing and preparing food, caring for animals, and building boats. As hard as the pharaohs tried to hide themselves, robbers stole the treasures from almost every tomb. Only a secret tomb built for a New Kingdom pharaoh was ever found with much of its treasure untouched. The dazzling riches found in this tomb show how much wealth the pharaohs spent preparing for the afterlife. By about  B.C., Egyptian kings began to lose their power to local rulers of the provinces. For about  more years, the kings held Egypt together, but with a much weaker central government. This period of Egyptian history is called the Middle Kingdom. Rulers during the Middle Kingdom also faced challenges from outside Egypt. A nomadic people called the Hyksos invaded Egypt from the northeast. Their army conquered by using better weapons and horsedrawn chariots, which were new to Egyptians. After about  years, the Egyptians drove out the Hyksos and began the New Kingdom.\n"
          ]
        }
      ]
    },
    {
      "cell_type": "code",
      "source": [
        "our_data= new_data.lower()\n",
        "our_data"
      ],
      "metadata": {
        "id": "80iIqoTKIawZ",
        "colab": {
          "base_uri": "https://localhost:8080/",
          "height": 157
        },
        "outputId": "6283d155-9538-424f-8937-209b5b72a98f"
      },
      "execution_count": 312,
      "outputs": [
        {
          "output_type": "execute_result",
          "data": {
            "text/plain": [
              "'the greek historian knew what he was talking about. the nile river fed egyptian civilization for hundreds of years. the longest river the nile is , miles longthe worlds longest river. it begins near the equator in africa and flows north to the mediterranean sea. in the south the nile churns with cataracts. a cataract is a waterfall. near the sea the nile branches into a delta. a delta is an area near a rivers mouth where the water deposits fine soil called silt. in the delta, the nile divides into many streams. the river is called the upper nile in the south and the lower nile in the north. for centuries, heavy rains in ethiopia caused the nile to flood every summer. the floods deposited rich soil along the niles shores. this soil was fertile, which means it was good for growing crops. unlike the tigris and euphrates, the nile river flooded at the same time every year, so farmers could predict when to plant their crops. red land, black land the ancient egyptians lived in narrow bands of land on each side of the nile. they called this region the black land because of the fertile soil that the floods deposited. the red land was the barren desert beyond the fertile region. weather in egypt was almost always the same. eight months of the year were sunny and hot. the four months of winter were sunny but cooler. most of the region received only an inch of rain a year. the parts of egypt not near the nile were a desert. isolation the harsh desert acted as a barrier to keep out enemies. the mediterranean coast was swampy and lacked good harbors. for these reasons, early egyptians stayed close to home. each year, egyptian farmers watched for white birds called ibises, which flew up from the south. when the birds arrived, the annual flood waters would soon follow. after the waters drained away, farmers could plant seeds in the fertile soil. agricultural techniques by about  b.c., farmers used technology to expand their farmland. working together, they dug irrigation canals that carried river water to dry areas. then they used a tool called a shaduf to spread the water across the fields. these innovative, or new, techniques gave them more farmland. egyptian crops ancient egyptians grew a large variety of foods. they were the first to grind wheat into flour and to mix the flour with yeast and water to make dough rise into bread. they grew vegetables such as lettuce, radishes, asparagus, and cucumbers. fruits included dates, figs, grapes, and watermelons. egyptians also grew the materials for their clothes. they were the first to weave fibers from flax plants into a fabric called linen. lightweight linen cloth was perfect for hot egyptian days. men wore linen wraps around their waists. women wore loose, sleeveless dresses. egyptians also wove marsh grasses into sandals. egyptian houses egyptians built houses using bricks made of mud from the nile mixed with chopped straw. they placed narrow windows high in the walls to reduce bright sunlight. egyptians often painted walls white to reflect the blazing heat. they wove sticks and palm trees to make roofs. inside, woven reed mats covered the dirt floor. most egyptians slept on mats covered with linen sheets. wealthy citizens enjoyed bed frames and cushions. egyptian nobles had fancier homes with treelined courtyards for shade. some had a pool filled with lotus blossoms and fish. poorer egyptians simply went to the roof to cool off after sunset. they often cooked, ate, and even slept outside. egypts economy depended on farming. however, the natural resources of the area allowed other economic activities to develop too. the egyptians wanted valuable metals that were not found in the black land. for example, they wanted copper to make tools and weapons. egyptians looked for copper as early as  b.c. later they learned that iron was stronger, and they sought it as well. ancient egyptians also desired gold for its bright beauty. the egyptian word for gold was nub. nubia was the egyptian name for the area of the upper nile that had the richest gold mines in africa. mining minerals was difficult. veins long streaks of copper, iron, and bronze were hidden inside desert mountains in the hot sinai peninsula, east of egypt. even during the cool season, chipping minerals out of the rock was miserable work. egyptians mined precious stones too. they were probably the first people in the world to mine turquoise. the egyptians also mined lapis lazuli. these beautiful blue stones were used in jewelry.the nile had fish and other wildlife that egyptians wanted. to go on the river, egyptians made lightweight rafts by binding together reeds. they used everything from nets to harpoons to catch fish. one ancient painting even shows a man ready to hit a catfish with a wooden hammer. more adventurous hunters speared hippopotamuses and crocodiles along the nile. egyptians also captured quail with nets. they used boomerangs to knock down flying ducks and geese. a boomerang is a curved stick that returns to the person who threw it. eventually, egyptians equipped their reed boats with sails and oars. the nile then became a highway. the rivers current was slow, so boaters used paddles to go faster when they traveled north with the current. going south, they raised a sail and let the winds that blew in that direction push them. the nile provided so well for egyptians that sometimes they had surpluses, or more goods than they needed. they began to trade with each other. ancient egypt had no money, so people exchanged goods that they grew or made. this method of trade is called bartering. egypt prospered along the nile. this prosperity made life easier and provided greater opportunities for many egyptians. when farmers produce food surpluses, the societys economy begins to expand. cities emerge as centers of culture and power, and people learn to do jobs that do not involve agriculture. for example, some ancient egyptians learned to be scribes, people whose job was to write and keep records. as egyptian civilization grew more complex, people took on jobs other than that of a farmer or scribe. some skilled artisans erected stone or brick houses and temples. other artisans made pottery, incense, mats, furniture, linen clothing, sandals, or jewelry. a few egyptians traveled to the upper nile to trade with other africans. these traders took egyptian products such as scrolls, linen, gold, and jewelry. they brought back exotic woods, animal skins, and live beasts. as egypt grew, so did its need to organize. egyptians created a government that divided the empire into  provinces. many officials worked to keep the provinces running smoothly. egypt also created an army to defend itself. one of the highest jobs in egypt was to be a priest. priests followed formal rituals and took care of the temples. before entering a temple, a priest bathed and put on special linen garments and white sandals. priests cleaned the sacred statues in temples, changed their clothes, and even fed them meals. together, the priests and the ruler held ceremonies to please the gods. egyptians believed that if the gods were angry, the nile would not flood. as a result, crops would not grow, and people would die. so the ruler and the priests tried hard to keep the gods happy. by doing so, they hoped to maintain the social and political order. slaves were at the bottom of society. in egypt, people became slaves if they owed a debt, committed a crime, or were captured in war. egyptian slaves were usually freed after a period of time. one exception was the slaves who had to work in the mines. many died from the exhausting labor. egypt was one of the best places in the ancient world to be a woman. unlike other ancient african cultures, in egyptian society men and women had fairly equal rights. for example, they could both own and manage their own property. the main job of most women was to care for their children and home, but some did other jobs too. some women wove cloth. others worked with their husbands in fields or workshops. some women, such as queen tiy, even rose to important positions in the government. children in egypt played with toys such as dolls, animal figures, board games, and marbles. their parents made the toys from wood or clay. boys and girls also played rough physical games with balls made of leather or reeds. boys and some girls from wealthy families went to schools run by scribes or priests. most other children learned their parents jobs. almost all egyptians married when they were in their early teens. as in many ancient societies, much of the knowledge of egypt came about as priests studied the world to find ways to please the gods. other advances came about because of practical discoveries. egyptian priests studied the sky as part of their religion. about , years ago, they noticed that a star now called sirius appeared shortly before the nile began to flood. the star returned to the same position in  days. based on that, egyptians developed the worlds first practical calendar. the egyptians developed some of the first geometry. each year the niles floods washed away land boundaries. to restore property lines, surveyors measured the land by using ropes that were knotted at regular intervals. geometric shapes such as squares and triangles were sacred to egyptians. architects used them in the design of royal temples and monuments. egyptian doctors often prepared dead bodies for burial, so they knew the parts of the body. that knowledge helped them perform some of the worlds first surgery. some doctors specialized in using medicines made of herbs. egyptian medicine was far from perfect. doctors believed that the heart controlled thought and the brain circulated blood, which is the opposite of what is known now. some egyptian treatments would raise eyebrows today. one cure for an upset stomach was to eat a hogs tooth crushed inside sugar cakes beginning about  b.c., egyptians developed a writing system using hieroglyphs. hieroglyphs hieroglyphs are pictures that stand for different words or sounds. early egyptians created a hieroglyphic system with about  characters. over time the system grew to include more than , symbols. the egyptians also developed a paperlike material called papyrus papyrus from a reed of the same name. egyptians cut the stems into strips, pressed them, and dried them into sheets that could be rolled into scrolls. papyrus scrolls were light and easy to carry. with them, egyptians created some of the first books. legend says a king named narmer united upper and lower egypt. some historians think narmer actually represents several kings who gradually joined the two lands. after egypt was united, its ruler wore the double crown. it combined the red crown of lower egypt with the white crown of upper egypt. the first dynasty of the egyptian empire began about  b.c. a dynasty is a line of rulers from the same family. when a king died, one of his children usually took his place as ruler. the order in which members of a royal family inherit a throne is called the succession. more than  dynasties ruled ancient egypt. historians divide ancient egyptian dynasties into the old kingdom, the middle kingdom, and the new kingdom. the old kingdom started about  b.c., when the egyptian empire was gaining strength. the king of egypt became known as the pharaoh pharaoh. the word pharaoh meant great house, and it was originally used to describe the kings palace. later it became the title of the king himself. the pharaoh ruled from the capital city of memphis. the ancient egyptians thought the pharaoh was a child of the gods and a god himself. egyptians believed that if the pharaoh and his subjects honored the gods, their lives would be happy. if egypt suffered hard times for a long period, the people blamed the pharaoh for angering the gods. in such a case, a rival might drive him from power and start a new dynasty. because the pharaoh was thought to be a god, government and religion were not separate in ancient egypt. priests had much power in the government. many high officials were priests. the first rulers of egypt were often buried in an underground tomb topped by mud brick. soon, kings wanted more permanent monuments. they replaced the mud brick with a small pyramid of brick or stone. a pyramid is a structure shaped like a triangle, with four sides that meet at a point. about  b.c., king djoser built a much larger pyramid over his tomb. it is called a step pyramid because its sides rise in a series of giant steps. it is the oldestknown large stone structure in the world. about  years later, a pharaoh named khufu decided he wanted a monument that would show the world how great he was. he ordered the construction of the largest pyramid ever built. along its base, each side was about  feet long. the core was built from . million blocks of stone. building the great pyramid was hard work. miners cut the huge blocks of stone using copper saws and chisels. these tools were much softer than the iron tools developed later. other teams of workers pulled the stone slabs up long, sloping ramps to their place on the pyramid. near the top of the pyramid, the ramps ended. workers dragged each heavy block hundreds of feet and then set it in place. farmers did the heavy labor of hauling stone during the season when the nile flooded their fields. skilled stonecutters and overseers worked yearround. the great pyramid took nearly  years to build. an estimated , egyptians worked on it. a city called giza was built for the pyramid workers and the people who fed, clothed, and housed them. eventually, egyptians stopped building pyramids. one reason is that the pyramids drew attention to the tombs inside them. grave robbers broke into the tombs to steal the treasure buried with the pharaohs. sometimes they also stole the mummies. egyptians believed that if a tomb was robbed, the person buried there could not have a happy afterlife. during the new kingdom, pharaohs began building more secret tombs in an area called the valley of the kings. the burial chambers were hidden in mountains near the nile. this way, the pharaohs hoped to protect their bodies and treasures from robbers. both the pyramids and later tombs had several passageways leading to different rooms. this was to confuse grave robbers about which passage to take. sometimes relatives, such as the queen, were buried in the extra rooms. tombs were supposed to be the palaces of pharaohs in the afterlife. mourners filled the tomb with objects ranging from food to furniture that the mummified pharaoh would need. some tombs contained small statues that were supposed to be servants for the dead person. egyptian artists decorated royal tombs with wall paintings and sculptures carved into the walls. art was meant to glorify both the gods and the dead person. a sculpture of a dead pharaoh had perfect features, no matter how he really looked. artists also followed strict rules about how to portray humans. paintings showed a persons head, arms, and legs from the side. they showed the front of the body from the neck down to the waist. wall paintings showed pharaohs enjoying themselves so they could have a happy afterlife. one favorite scene was of the pharaoh fishing in a papyrus marsh. warlike kings were often portrayed in battle. scenes might also show people providing for the needs of the dead person. such activities included growing and preparing food, caring for animals, and building boats. as hard as the pharaohs tried to hide themselves, robbers stole the treasures from almost every tomb. only a secret tomb built for a new kingdom pharaoh was ever found with much of its treasure untouched. the dazzling riches found in this tomb show how much wealth the pharaohs spent preparing for the afterlife. by about  b.c., egyptian kings began to lose their power to local rulers of the provinces. for about  more years, the kings held egypt together, but with a much weaker central government. this period of egyptian history is called the middle kingdom. rulers during the middle kingdom also faced challenges from outside egypt. a nomadic people called the hyksos invaded egypt from the northeast. their army conquered by using better weapons and horsedrawn chariots, which were new to egyptians. after about  years, the egyptians drove out the hyksos and began the new kingdom.'"
            ],
            "application/vnd.google.colaboratory.intrinsic+json": {
              "type": "string"
            }
          },
          "metadata": {},
          "execution_count": 312
        }
      ]
    },
    {
      "cell_type": "code",
      "source": [
        "### Key phrase extraction is  a collection of machine learning and AI algorithms in the cloud for developing intelligent applications that involve written language. Use key phrase extraction to quickly identify the main concepts in text. "
      ],
      "metadata": {
        "id": "HIDAQC8TNTOW"
      },
      "execution_count": 313,
      "outputs": []
    },
    {
      "cell_type": "code",
      "source": [
        "!pip install git+https://github.com/boudinfl/pke.git\n",
        "!pip install matplotlib\n",
        "!python -m spacy download en_core_web_sm"
      ],
      "metadata": {
        "colab": {
          "base_uri": "https://localhost:8080/"
        },
        "id": "bDmB10ShP4NX",
        "outputId": "fbdcab80-bd2c-47fd-892b-6f7e485f10e7"
      },
      "execution_count": 314,
      "outputs": [
        {
          "output_type": "stream",
          "name": "stdout",
          "text": [
            "Looking in indexes: https://pypi.org/simple, https://us-python.pkg.dev/colab-wheels/public/simple/\n",
            "Collecting git+https://github.com/boudinfl/pke.git\n",
            "  Cloning https://github.com/boudinfl/pke.git to /tmp/pip-req-build-7jk17gm_\n",
            "  Running command git clone -q https://github.com/boudinfl/pke.git /tmp/pip-req-build-7jk17gm_\n",
            "Requirement already satisfied: nltk in /usr/local/lib/python3.7/dist-packages (from pke==2.0.0) (3.7)\n",
            "Requirement already satisfied: networkx in /usr/local/lib/python3.7/dist-packages (from pke==2.0.0) (2.6.3)\n",
            "Requirement already satisfied: numpy in /usr/local/lib/python3.7/dist-packages (from pke==2.0.0) (1.21.6)\n",
            "Requirement already satisfied: scipy in /usr/local/lib/python3.7/dist-packages (from pke==2.0.0) (1.7.3)\n",
            "Requirement already satisfied: sklearn in /usr/local/lib/python3.7/dist-packages (from pke==2.0.0) (0.0)\n",
            "Requirement already satisfied: unidecode in /usr/local/lib/python3.7/dist-packages (from pke==2.0.0) (1.3.4)\n",
            "Requirement already satisfied: future in /usr/local/lib/python3.7/dist-packages (from pke==2.0.0) (0.16.0)\n",
            "Requirement already satisfied: joblib in /usr/local/lib/python3.7/dist-packages (from pke==2.0.0) (1.1.0)\n",
            "Requirement already satisfied: spacy>=3.2.3 in /usr/local/lib/python3.7/dist-packages (from pke==2.0.0) (3.4.1)\n",
            "Requirement already satisfied: packaging>=20.0 in /usr/local/lib/python3.7/dist-packages (from spacy>=3.2.3->pke==2.0.0) (21.3)\n",
            "Requirement already satisfied: pathy>=0.3.5 in /usr/local/lib/python3.7/dist-packages (from spacy>=3.2.3->pke==2.0.0) (0.6.2)\n",
            "Requirement already satisfied: srsly<3.0.0,>=2.4.3 in /usr/local/lib/python3.7/dist-packages (from spacy>=3.2.3->pke==2.0.0) (2.4.4)\n",
            "Requirement already satisfied: langcodes<4.0.0,>=3.2.0 in /usr/local/lib/python3.7/dist-packages (from spacy>=3.2.3->pke==2.0.0) (3.3.0)\n",
            "Requirement already satisfied: preshed<3.1.0,>=3.0.2 in /usr/local/lib/python3.7/dist-packages (from spacy>=3.2.3->pke==2.0.0) (3.0.7)\n",
            "Requirement already satisfied: thinc<8.2.0,>=8.1.0 in /usr/local/lib/python3.7/dist-packages (from spacy>=3.2.3->pke==2.0.0) (8.1.0)\n",
            "Requirement already satisfied: setuptools in /usr/local/lib/python3.7/dist-packages (from spacy>=3.2.3->pke==2.0.0) (57.4.0)\n",
            "Requirement already satisfied: wasabi<1.1.0,>=0.9.1 in /usr/local/lib/python3.7/dist-packages (from spacy>=3.2.3->pke==2.0.0) (0.10.1)\n",
            "Requirement already satisfied: pydantic!=1.8,!=1.8.1,<1.10.0,>=1.7.4 in /usr/local/lib/python3.7/dist-packages (from spacy>=3.2.3->pke==2.0.0) (1.9.2)\n",
            "Requirement already satisfied: typing-extensions<4.2.0,>=3.7.4 in /usr/local/lib/python3.7/dist-packages (from spacy>=3.2.3->pke==2.0.0) (4.1.1)\n",
            "Requirement already satisfied: typer<0.5.0,>=0.3.0 in /usr/local/lib/python3.7/dist-packages (from spacy>=3.2.3->pke==2.0.0) (0.4.2)\n",
            "Requirement already satisfied: cymem<2.1.0,>=2.0.2 in /usr/local/lib/python3.7/dist-packages (from spacy>=3.2.3->pke==2.0.0) (2.0.6)\n",
            "Requirement already satisfied: requests<3.0.0,>=2.13.0 in /usr/local/lib/python3.7/dist-packages (from spacy>=3.2.3->pke==2.0.0) (2.23.0)\n",
            "Requirement already satisfied: jinja2 in /usr/local/lib/python3.7/dist-packages (from spacy>=3.2.3->pke==2.0.0) (2.11.3)\n",
            "Requirement already satisfied: catalogue<2.1.0,>=2.0.6 in /usr/local/lib/python3.7/dist-packages (from spacy>=3.2.3->pke==2.0.0) (2.0.8)\n",
            "Requirement already satisfied: tqdm<5.0.0,>=4.38.0 in /usr/local/lib/python3.7/dist-packages (from spacy>=3.2.3->pke==2.0.0) (4.64.1)\n",
            "Requirement already satisfied: spacy-legacy<3.1.0,>=3.0.9 in /usr/local/lib/python3.7/dist-packages (from spacy>=3.2.3->pke==2.0.0) (3.0.10)\n",
            "Requirement already satisfied: murmurhash<1.1.0,>=0.28.0 in /usr/local/lib/python3.7/dist-packages (from spacy>=3.2.3->pke==2.0.0) (1.0.8)\n",
            "Requirement already satisfied: spacy-loggers<2.0.0,>=1.0.0 in /usr/local/lib/python3.7/dist-packages (from spacy>=3.2.3->pke==2.0.0) (1.0.3)\n",
            "Requirement already satisfied: zipp>=0.5 in /usr/local/lib/python3.7/dist-packages (from catalogue<2.1.0,>=2.0.6->spacy>=3.2.3->pke==2.0.0) (3.8.1)\n",
            "Requirement already satisfied: pyparsing!=3.0.5,>=2.0.2 in /usr/local/lib/python3.7/dist-packages (from packaging>=20.0->spacy>=3.2.3->pke==2.0.0) (3.0.9)\n",
            "Requirement already satisfied: smart-open<6.0.0,>=5.2.1 in /usr/local/lib/python3.7/dist-packages (from pathy>=0.3.5->spacy>=3.2.3->pke==2.0.0) (5.2.1)\n",
            "Requirement already satisfied: idna<3,>=2.5 in /usr/local/lib/python3.7/dist-packages (from requests<3.0.0,>=2.13.0->spacy>=3.2.3->pke==2.0.0) (2.10)\n",
            "Requirement already satisfied: certifi>=2017.4.17 in /usr/local/lib/python3.7/dist-packages (from requests<3.0.0,>=2.13.0->spacy>=3.2.3->pke==2.0.0) (2022.6.15)\n",
            "Requirement already satisfied: urllib3!=1.25.0,!=1.25.1,<1.26,>=1.21.1 in /usr/local/lib/python3.7/dist-packages (from requests<3.0.0,>=2.13.0->spacy>=3.2.3->pke==2.0.0) (1.24.3)\n",
            "Requirement already satisfied: chardet<4,>=3.0.2 in /usr/local/lib/python3.7/dist-packages (from requests<3.0.0,>=2.13.0->spacy>=3.2.3->pke==2.0.0) (3.0.4)\n",
            "Requirement already satisfied: blis<0.8.0,>=0.7.8 in /usr/local/lib/python3.7/dist-packages (from thinc<8.2.0,>=8.1.0->spacy>=3.2.3->pke==2.0.0) (0.7.8)\n",
            "Requirement already satisfied: click<9.0.0,>=7.1.1 in /usr/local/lib/python3.7/dist-packages (from typer<0.5.0,>=0.3.0->spacy>=3.2.3->pke==2.0.0) (7.1.2)\n",
            "Requirement already satisfied: MarkupSafe>=0.23 in /usr/local/lib/python3.7/dist-packages (from jinja2->spacy>=3.2.3->pke==2.0.0) (2.0.1)\n",
            "Requirement already satisfied: regex>=2021.8.3 in /usr/local/lib/python3.7/dist-packages (from nltk->pke==2.0.0) (2022.6.2)\n",
            "Requirement already satisfied: scikit-learn in /usr/local/lib/python3.7/dist-packages (from sklearn->pke==2.0.0) (1.0.2)\n",
            "Requirement already satisfied: threadpoolctl>=2.0.0 in /usr/local/lib/python3.7/dist-packages (from scikit-learn->sklearn->pke==2.0.0) (3.1.0)\n",
            "Looking in indexes: https://pypi.org/simple, https://us-python.pkg.dev/colab-wheels/public/simple/\n",
            "Requirement already satisfied: matplotlib in /usr/local/lib/python3.7/dist-packages (3.2.2)\n",
            "Requirement already satisfied: python-dateutil>=2.1 in /usr/local/lib/python3.7/dist-packages (from matplotlib) (2.8.2)\n",
            "Requirement already satisfied: numpy>=1.11 in /usr/local/lib/python3.7/dist-packages (from matplotlib) (1.21.6)\n",
            "Requirement already satisfied: pyparsing!=2.0.4,!=2.1.2,!=2.1.6,>=2.0.1 in /usr/local/lib/python3.7/dist-packages (from matplotlib) (3.0.9)\n",
            "Requirement already satisfied: kiwisolver>=1.0.1 in /usr/local/lib/python3.7/dist-packages (from matplotlib) (1.4.4)\n",
            "Requirement already satisfied: cycler>=0.10 in /usr/local/lib/python3.7/dist-packages (from matplotlib) (0.11.0)\n",
            "Requirement already satisfied: typing-extensions in /usr/local/lib/python3.7/dist-packages (from kiwisolver>=1.0.1->matplotlib) (4.1.1)\n",
            "Requirement already satisfied: six>=1.5 in /usr/local/lib/python3.7/dist-packages (from python-dateutil>=2.1->matplotlib) (1.15.0)\n",
            "2022-09-22 13:15:40.251836: E tensorflow/stream_executor/cuda/cuda_driver.cc:271] failed call to cuInit: CUDA_ERROR_NO_DEVICE: no CUDA-capable device is detected\n",
            "Looking in indexes: https://pypi.org/simple, https://us-python.pkg.dev/colab-wheels/public/simple/\n",
            "Collecting en-core-web-sm==3.4.0\n",
            "  Downloading https://github.com/explosion/spacy-models/releases/download/en_core_web_sm-3.4.0/en_core_web_sm-3.4.0-py3-none-any.whl (12.8 MB)\n",
            "\u001b[K     |████████████████████████████████| 12.8 MB 24.0 MB/s \n",
            "\u001b[?25hRequirement already satisfied: spacy<3.5.0,>=3.4.0 in /usr/local/lib/python3.7/dist-packages (from en-core-web-sm==3.4.0) (3.4.1)\n",
            "Requirement already satisfied: requests<3.0.0,>=2.13.0 in /usr/local/lib/python3.7/dist-packages (from spacy<3.5.0,>=3.4.0->en-core-web-sm==3.4.0) (2.23.0)\n",
            "Requirement already satisfied: jinja2 in /usr/local/lib/python3.7/dist-packages (from spacy<3.5.0,>=3.4.0->en-core-web-sm==3.4.0) (2.11.3)\n",
            "Requirement already satisfied: wasabi<1.1.0,>=0.9.1 in /usr/local/lib/python3.7/dist-packages (from spacy<3.5.0,>=3.4.0->en-core-web-sm==3.4.0) (0.10.1)\n",
            "Requirement already satisfied: pathy>=0.3.5 in /usr/local/lib/python3.7/dist-packages (from spacy<3.5.0,>=3.4.0->en-core-web-sm==3.4.0) (0.6.2)\n",
            "Requirement already satisfied: pydantic!=1.8,!=1.8.1,<1.10.0,>=1.7.4 in /usr/local/lib/python3.7/dist-packages (from spacy<3.5.0,>=3.4.0->en-core-web-sm==3.4.0) (1.9.2)\n",
            "Requirement already satisfied: typing-extensions<4.2.0,>=3.7.4 in /usr/local/lib/python3.7/dist-packages (from spacy<3.5.0,>=3.4.0->en-core-web-sm==3.4.0) (4.1.1)\n",
            "Requirement already satisfied: typer<0.5.0,>=0.3.0 in /usr/local/lib/python3.7/dist-packages (from spacy<3.5.0,>=3.4.0->en-core-web-sm==3.4.0) (0.4.2)\n",
            "Requirement already satisfied: thinc<8.2.0,>=8.1.0 in /usr/local/lib/python3.7/dist-packages (from spacy<3.5.0,>=3.4.0->en-core-web-sm==3.4.0) (8.1.0)\n",
            "Requirement already satisfied: setuptools in /usr/local/lib/python3.7/dist-packages (from spacy<3.5.0,>=3.4.0->en-core-web-sm==3.4.0) (57.4.0)\n",
            "Requirement already satisfied: spacy-loggers<2.0.0,>=1.0.0 in /usr/local/lib/python3.7/dist-packages (from spacy<3.5.0,>=3.4.0->en-core-web-sm==3.4.0) (1.0.3)\n",
            "Requirement already satisfied: numpy>=1.15.0 in /usr/local/lib/python3.7/dist-packages (from spacy<3.5.0,>=3.4.0->en-core-web-sm==3.4.0) (1.21.6)\n",
            "Requirement already satisfied: preshed<3.1.0,>=3.0.2 in /usr/local/lib/python3.7/dist-packages (from spacy<3.5.0,>=3.4.0->en-core-web-sm==3.4.0) (3.0.7)\n",
            "Requirement already satisfied: catalogue<2.1.0,>=2.0.6 in /usr/local/lib/python3.7/dist-packages (from spacy<3.5.0,>=3.4.0->en-core-web-sm==3.4.0) (2.0.8)\n",
            "Requirement already satisfied: murmurhash<1.1.0,>=0.28.0 in /usr/local/lib/python3.7/dist-packages (from spacy<3.5.0,>=3.4.0->en-core-web-sm==3.4.0) (1.0.8)\n",
            "Requirement already satisfied: cymem<2.1.0,>=2.0.2 in /usr/local/lib/python3.7/dist-packages (from spacy<3.5.0,>=3.4.0->en-core-web-sm==3.4.0) (2.0.6)\n",
            "Requirement already satisfied: spacy-legacy<3.1.0,>=3.0.9 in /usr/local/lib/python3.7/dist-packages (from spacy<3.5.0,>=3.4.0->en-core-web-sm==3.4.0) (3.0.10)\n",
            "Requirement already satisfied: langcodes<4.0.0,>=3.2.0 in /usr/local/lib/python3.7/dist-packages (from spacy<3.5.0,>=3.4.0->en-core-web-sm==3.4.0) (3.3.0)\n",
            "Requirement already satisfied: srsly<3.0.0,>=2.4.3 in /usr/local/lib/python3.7/dist-packages (from spacy<3.5.0,>=3.4.0->en-core-web-sm==3.4.0) (2.4.4)\n",
            "Requirement already satisfied: tqdm<5.0.0,>=4.38.0 in /usr/local/lib/python3.7/dist-packages (from spacy<3.5.0,>=3.4.0->en-core-web-sm==3.4.0) (4.64.1)\n",
            "Requirement already satisfied: packaging>=20.0 in /usr/local/lib/python3.7/dist-packages (from spacy<3.5.0,>=3.4.0->en-core-web-sm==3.4.0) (21.3)\n",
            "Requirement already satisfied: zipp>=0.5 in /usr/local/lib/python3.7/dist-packages (from catalogue<2.1.0,>=2.0.6->spacy<3.5.0,>=3.4.0->en-core-web-sm==3.4.0) (3.8.1)\n",
            "Requirement already satisfied: pyparsing!=3.0.5,>=2.0.2 in /usr/local/lib/python3.7/dist-packages (from packaging>=20.0->spacy<3.5.0,>=3.4.0->en-core-web-sm==3.4.0) (3.0.9)\n",
            "Requirement already satisfied: smart-open<6.0.0,>=5.2.1 in /usr/local/lib/python3.7/dist-packages (from pathy>=0.3.5->spacy<3.5.0,>=3.4.0->en-core-web-sm==3.4.0) (5.2.1)\n",
            "Requirement already satisfied: certifi>=2017.4.17 in /usr/local/lib/python3.7/dist-packages (from requests<3.0.0,>=2.13.0->spacy<3.5.0,>=3.4.0->en-core-web-sm==3.4.0) (2022.6.15)\n",
            "Requirement already satisfied: idna<3,>=2.5 in /usr/local/lib/python3.7/dist-packages (from requests<3.0.0,>=2.13.0->spacy<3.5.0,>=3.4.0->en-core-web-sm==3.4.0) (2.10)\n",
            "Requirement already satisfied: urllib3!=1.25.0,!=1.25.1,<1.26,>=1.21.1 in /usr/local/lib/python3.7/dist-packages (from requests<3.0.0,>=2.13.0->spacy<3.5.0,>=3.4.0->en-core-web-sm==3.4.0) (1.24.3)\n",
            "Requirement already satisfied: chardet<4,>=3.0.2 in /usr/local/lib/python3.7/dist-packages (from requests<3.0.0,>=2.13.0->spacy<3.5.0,>=3.4.0->en-core-web-sm==3.4.0) (3.0.4)\n",
            "Requirement already satisfied: blis<0.8.0,>=0.7.8 in /usr/local/lib/python3.7/dist-packages (from thinc<8.2.0,>=8.1.0->spacy<3.5.0,>=3.4.0->en-core-web-sm==3.4.0) (0.7.8)\n",
            "Requirement already satisfied: click<9.0.0,>=7.1.1 in /usr/local/lib/python3.7/dist-packages (from typer<0.5.0,>=0.3.0->spacy<3.5.0,>=3.4.0->en-core-web-sm==3.4.0) (7.1.2)\n",
            "Requirement already satisfied: MarkupSafe>=0.23 in /usr/local/lib/python3.7/dist-packages (from jinja2->spacy<3.5.0,>=3.4.0->en-core-web-sm==3.4.0) (2.0.1)\n",
            "\u001b[38;5;2m✔ Download and installation successful\u001b[0m\n",
            "You can now load the package via spacy.load('en_core_web_sm')\n"
          ]
        }
      ]
    },
    {
      "cell_type": "code",
      "source": [
        "import pke "
      ],
      "metadata": {
        "id": "vgD2zqX9QDEu"
      },
      "execution_count": 315,
      "outputs": []
    },
    {
      "cell_type": "code",
      "source": [
        "def pke_model(model , data):\n",
        "  model.load_document(input=data , language=\"en\")       \n",
        "  model.candidate_selection()           \n",
        "  model.candidate_weighting()             \n",
        "  keyphrases = model.get_n_best(n=20)\n",
        "  return keyphrases"
      ],
      "metadata": {
        "id": "rMx4WuPjg9vM"
      },
      "execution_count": 316,
      "outputs": []
    },
    {
      "cell_type": "code",
      "source": [
        "model=pke.unsupervised.TfIdf() \n",
        "keyphrases=pke_model(model , our_data)"
      ],
      "metadata": {
        "colab": {
          "base_uri": "https://localhost:8080/"
        },
        "id": "-BYts8zghipa",
        "outputId": "58c58723-5a27-45e9-993f-112acad1c0d9"
      },
      "execution_count": 317,
      "outputs": [
        {
          "output_type": "stream",
          "name": "stderr",
          "text": [
            "WARNING:root:LoadFile._df_counts is hard coded to /usr/local/lib/python3.7/dist-packages/pke/models/df-semeval2010.tsv.gz\n"
          ]
        }
      ]
    },
    {
      "cell_type": "code",
      "source": [
        "y=[]\n",
        "def for_function(model):\n",
        "  for i in model:\n",
        "    y.append(i[0])"
      ],
      "metadata": {
        "id": "_1i3FnUCj9Tb"
      },
      "execution_count": 318,
      "outputs": []
    },
    {
      "cell_type": "code",
      "source": [
        "for_function(keyphrases)"
      ],
      "metadata": {
        "id": "wO25O9sTkiro"
      },
      "execution_count": 319,
      "outputs": []
    },
    {
      "cell_type": "code",
      "source": [
        "y"
      ],
      "metadata": {
        "colab": {
          "base_uri": "https://localhost:8080/"
        },
        "id": "zDInqZRXoBGt",
        "outputId": "b4844028-0678-4b43-f3cf-97e3f7073e92"
      },
      "execution_count": 320,
      "outputs": [
        {
          "output_type": "execute_result",
          "data": {
            "text/plain": [
              "['egyptian',\n",
              " 'nile',\n",
              " 'egypt',\n",
              " 'pharaoh',\n",
              " 'tomb',\n",
              " 'pyramid',\n",
              " 'priest',\n",
              " 'king',\n",
              " 'ancient',\n",
              " 'gods',\n",
              " 'river',\n",
              " 'kingdom',\n",
              " 'ruler',\n",
              " 'stones',\n",
              " 'linen',\n",
              " 'farmers',\n",
              " 'grew',\n",
              " 'water',\n",
              " 'ancient egyptians',\n",
              " 'land']"
            ]
          },
          "metadata": {},
          "execution_count": 320
        }
      ]
    },
    {
      "cell_type": "code",
      "source": [
        "model_2= pke.unsupervised.FirstPhrases()\n",
        "keyphrases_2=pke_model(model_2, our_data)"
      ],
      "metadata": {
        "id": "BUiSGgGVRfl8"
      },
      "execution_count": 321,
      "outputs": []
    },
    {
      "cell_type": "code",
      "source": [
        "for_function(keyphrases_2)"
      ],
      "metadata": {
        "id": "mKCqCz2JnTdw"
      },
      "execution_count": 322,
      "outputs": []
    },
    {
      "cell_type": "code",
      "source": [
        "y"
      ],
      "metadata": {
        "id": "JZbXc0bxR5bc",
        "colab": {
          "base_uri": "https://localhost:8080/"
        },
        "outputId": "74d84476-dc19-49d0-9843-ad5f2b47ca9a"
      },
      "execution_count": 323,
      "outputs": [
        {
          "output_type": "execute_result",
          "data": {
            "text/plain": [
              "['egyptian',\n",
              " 'nile',\n",
              " 'egypt',\n",
              " 'pharaoh',\n",
              " 'tomb',\n",
              " 'pyramid',\n",
              " 'priest',\n",
              " 'king',\n",
              " 'ancient',\n",
              " 'gods',\n",
              " 'river',\n",
              " 'kingdom',\n",
              " 'ruler',\n",
              " 'stones',\n",
              " 'linen',\n",
              " 'farmers',\n",
              " 'grew',\n",
              " 'water',\n",
              " 'ancient egyptians',\n",
              " 'land',\n",
              " 'greek historian',\n",
              " 'nile river',\n",
              " 'egyptian civilization',\n",
              " 'hundreds',\n",
              " 'years',\n",
              " 'longest river',\n",
              " 'nile',\n",
              " 'miles longthe worlds longest',\n",
              " 'equator',\n",
              " 'africa',\n",
              " 'mediterranean sea',\n",
              " 'south',\n",
              " 'nile churns',\n",
              " 'cataracts',\n",
              " 'waterfall',\n",
              " 'sea',\n",
              " 'nile branches',\n",
              " 'delta',\n",
              " 'area',\n",
              " 'rivers mouth']"
            ]
          },
          "metadata": {},
          "execution_count": 323
        }
      ]
    },
    {
      "cell_type": "code",
      "source": [
        "model_3=pke.unsupervised.TopicRank()\n",
        "keyphrases_3=pke_model(model_3, our_data)"
      ],
      "metadata": {
        "id": "QEGKXIoDpJs-"
      },
      "execution_count": 324,
      "outputs": []
    },
    {
      "cell_type": "code",
      "source": [
        "for_function(keyphrases_3)"
      ],
      "metadata": {
        "id": "nTfYKH1PqB6j"
      },
      "execution_count": 325,
      "outputs": []
    },
    {
      "cell_type": "code",
      "source": [
        "y"
      ],
      "metadata": {
        "colab": {
          "base_uri": "https://localhost:8080/"
        },
        "id": "Y76VuQi4qSxE",
        "outputId": "a5e4ad9a-e84e-41b4-a40c-2189b98935cc"
      },
      "execution_count": 326,
      "outputs": [
        {
          "output_type": "execute_result",
          "data": {
            "text/plain": [
              "['egyptian',\n",
              " 'nile',\n",
              " 'egypt',\n",
              " 'pharaoh',\n",
              " 'tomb',\n",
              " 'pyramid',\n",
              " 'priest',\n",
              " 'king',\n",
              " 'ancient',\n",
              " 'gods',\n",
              " 'river',\n",
              " 'kingdom',\n",
              " 'ruler',\n",
              " 'stones',\n",
              " 'linen',\n",
              " 'farmers',\n",
              " 'grew',\n",
              " 'water',\n",
              " 'ancient egyptians',\n",
              " 'land',\n",
              " 'greek historian',\n",
              " 'nile river',\n",
              " 'egyptian civilization',\n",
              " 'hundreds',\n",
              " 'years',\n",
              " 'longest river',\n",
              " 'nile',\n",
              " 'miles longthe worlds longest',\n",
              " 'equator',\n",
              " 'africa',\n",
              " 'mediterranean sea',\n",
              " 'south',\n",
              " 'nile churns',\n",
              " 'cataracts',\n",
              " 'waterfall',\n",
              " 'sea',\n",
              " 'nile branches',\n",
              " 'delta',\n",
              " 'area',\n",
              " 'rivers mouth',\n",
              " 'egyptian civilization',\n",
              " 'egypt',\n",
              " 'nile',\n",
              " 'word pharaoh',\n",
              " 'underground tomb',\n",
              " 'small pyramid',\n",
              " 'priest',\n",
              " 'people',\n",
              " 'years',\n",
              " 'gods',\n",
              " 'king',\n",
              " 'red land',\n",
              " 'precious stones',\n",
              " 'farmers',\n",
              " 'ruler',\n",
              " 'linen',\n",
              " 'clothes',\n",
              " 'person',\n",
              " 'nile river',\n",
              " 'water']"
            ]
          },
          "metadata": {},
          "execution_count": 326
        }
      ]
    },
    {
      "cell_type": "code",
      "source": [
        "pip install flashtext"
      ],
      "metadata": {
        "colab": {
          "base_uri": "https://localhost:8080/"
        },
        "id": "uuJyDKq5r3TT",
        "outputId": "e247a3f7-ca08-4030-9ca3-acccf946359b"
      },
      "execution_count": 327,
      "outputs": [
        {
          "output_type": "stream",
          "name": "stdout",
          "text": [
            "Looking in indexes: https://pypi.org/simple, https://us-python.pkg.dev/colab-wheels/public/simple/\n",
            "Requirement already satisfied: flashtext in /usr/local/lib/python3.7/dist-packages (2.7)\n"
          ]
        }
      ]
    },
    {
      "cell_type": "code",
      "source": [
        "import nltk\n",
        "nltk.download('punkt')"
      ],
      "metadata": {
        "colab": {
          "base_uri": "https://localhost:8080/"
        },
        "id": "AcN-eOiIsXs0",
        "outputId": "8b24e8cc-6080-4afe-f05c-f7ed187049f7"
      },
      "execution_count": 328,
      "outputs": [
        {
          "output_type": "stream",
          "name": "stderr",
          "text": [
            "[nltk_data] Downloading package punkt to /root/nltk_data...\n",
            "[nltk_data]   Package punkt is already up-to-date!\n"
          ]
        },
        {
          "output_type": "execute_result",
          "data": {
            "text/plain": [
              "True"
            ]
          },
          "metadata": {},
          "execution_count": 328
        }
      ]
    },
    {
      "cell_type": "code",
      "source": [
        "from nltk.tokenize import sent_tokenize\n",
        "from flashtext import KeywordProcessor\n",
        "\n",
        "def tokenize_sentences(text):\n",
        "    sentences = [sent_tokenize(text)]\n",
        "    sentences = [y for x in sentences for y in x]\n",
        "    # Remove any short sentences less than 20 letters.\n",
        "    sentences = [sentence.strip() for sentence in sentences if len(sentence) > 20]\n",
        "    return sentences\n",
        "\n",
        "def get_sentences_for_keyword(keywords, sentences):\n",
        "    keyword_processor = KeywordProcessor()\n",
        "    keyword_sentences = {}\n",
        "    for word in keywords:\n",
        "        keyword_sentences[word] = []\n",
        "        keyword_processor.add_keyword(word)\n",
        "    for sentence in sentences:\n",
        "        keywords_found = keyword_processor.extract_keywords(sentence)\n",
        "        for key in keywords_found:\n",
        "            keyword_sentences[key].append(sentence)\n",
        "\n",
        "    for key in keyword_sentences.keys():\n",
        "        values = keyword_sentences[key]\n",
        "        values = sorted(values, key=len, reverse=True)\n",
        "        keyword_sentences[key] = values\n",
        "    return keyword_sentences\n",
        "\n",
        "sentences = tokenize_sentences(our_data)\n",
        "keyword_sentence_mapping = get_sentences_for_keyword(y, sentences)\n",
        "        \n",
        "print (keyword_sentence_mapping)"
      ],
      "metadata": {
        "colab": {
          "base_uri": "https://localhost:8080/"
        },
        "id": "qzNvmD4Erwi-",
        "outputId": "37386d98-9398-4865-de90-2d0d117c553c"
      },
      "execution_count": 329,
      "outputs": [
        {
          "output_type": "stream",
          "name": "stdout",
          "text": [
            "{'egyptian': ['historians divide ancient egyptian dynasties into the old kingdom, the middle kingdom, and the new kingdom.', 'egyptian houses egyptians built houses using bricks made of mud from the nile mixed with chopped straw.', 'nubia was the egyptian name for the area of the upper nile that had the richest gold mines in africa.', 'unlike other ancient african cultures, in egyptian society men and women had fairly equal rights.', 'each year, egyptian farmers watched for white birds called ibises, which flew up from the south.', 'egyptian artists decorated royal tombs with wall paintings and sculptures carved into the walls.', 'egyptian doctors often prepared dead bodies for burial, so they knew the parts of the body.', 'by about  b.c., egyptian kings began to lose their power to local rulers of the provinces.', 'the old kingdom started about  b.c., when the egyptian empire was gaining strength.', 'these traders took egyptian products such as scrolls, linen, gold, and jewelry.', 'egyptian nobles had fancier homes with treelined courtyards for shade.', 'egyptian crops ancient egyptians grew a large variety of foods.', 'this period of egyptian history is called the middle kingdom.', 'egyptian priests studied the sky as part of their religion.', 'lightweight linen cloth was perfect for hot egyptian days.', 'egyptian slaves were usually freed after a period of time.', 'the first dynasty of the egyptian empire began about  b.c.', 'some egyptian treatments would raise eyebrows today.', 'egyptian medicine was far from perfect.', 'the egyptian word for gold was nub.'], 'nile': ['about , years ago, they noticed that a star now called sirius appeared shortly before the nile began to flood.', 'these beautiful blue stones were used in jewelry.the nile had fish and other wildlife that egyptians wanted.', 'the nile provided so well for egyptians that sometimes they had surpluses, or more goods than they needed.', 'egyptian houses egyptians built houses using bricks made of mud from the nile mixed with chopped straw.', 'nubia was the egyptian name for the area of the upper nile that had the richest gold mines in africa.', 'red land, black land the ancient egyptians lived in narrow bands of land on each side of the nile.', 'farmers did the heavy labor of hauling stone during the season when the nile flooded their fields.', 'the river is called the upper nile in the south and the lower nile in the north.', 'the river is called the upper nile in the south and the lower nile in the north.', 'more adventurous hunters speared hippopotamuses and crocodiles along the nile.', 'for centuries, heavy rains in ethiopia caused the nile to flood every summer.', 'egyptians believed that if the gods were angry, the nile would not flood.', 'a few egyptians traveled to the upper nile to trade with other africans.', 'the longest river the nile is , miles longthe worlds longest river.', 'the burial chambers were hidden in mountains near the nile.', 'the parts of egypt not near the nile were a desert.', 'in the delta, the nile divides into many streams.', 'the nile then became a highway.', 'egypt prospered along the nile.'], 'egypt': ['as in many ancient societies, much of the knowledge of egypt came about as priests studied the world to find ways to please the gods.', 'veins long streaks of copper, iron, and bronze were hidden inside desert mountains in the hot sinai peninsula, east of egypt.', 'because the pharaoh was thought to be a god, government and religion were not separate in ancient egypt.', 'if egypt suffered hard times for a long period, the people blamed the pharaoh for angering the gods.', 'for about  more years, the kings held egypt together, but with a much weaker central government.', 'in egypt, people became slaves if they owed a debt, committed a crime, or were captured in war.', 'children in egypt played with toys such as dolls, animal figures, board games, and marbles.', 'the first rulers of egypt were often buried in an underground tomb topped by mud brick.', 'ancient egypt had no money, so people exchanged goods that they grew or made.', 'it combined the red crown of lower egypt with the white crown of upper egypt.', 'it combined the red crown of lower egypt with the white crown of upper egypt.', 'rulers during the middle kingdom also faced challenges from outside egypt.', 'egypt was one of the best places in the ancient world to be a woman.', 'a nomadic people called the hyksos invaded egypt from the northeast.', 'legend says a king named narmer united upper and lower egypt.', 'after egypt was united, its ruler wore the double crown.', 'the king of egypt became known as the pharaoh pharaoh.', 'one of the highest jobs in egypt was to be a priest.', 'the parts of egypt not near the nile were a desert.', 'weather in egypt was almost always the same.', 'egypt also created an army to defend itself.', 'as egypt grew, so did its need to organize.', 'more than  dynasties ruled ancient egypt.', 'egypt prospered along the nile.'], 'pharaoh': ['about  years later, a pharaoh named khufu decided he wanted a monument that would show the world how great he was.', 'mourners filled the tomb with objects ranging from food to furniture that the mummified pharaoh would need.', 'because the pharaoh was thought to be a god, government and religion were not separate in ancient egypt.', 'only a secret tomb built for a new kingdom pharaoh was ever found with much of its treasure untouched.', 'egyptians believed that if the pharaoh and his subjects honored the gods, their lives would be happy.', 'if egypt suffered hard times for a long period, the people blamed the pharaoh for angering the gods.', 'the ancient egyptians thought the pharaoh was a child of the gods and a god himself.', 'a sculpture of a dead pharaoh had perfect features, no matter how he really looked.', 'one favorite scene was of the pharaoh fishing in a papyrus marsh.', 'the king of egypt became known as the pharaoh pharaoh.', 'the king of egypt became known as the pharaoh pharaoh.', 'the pharaoh ruled from the capital city of memphis.'], 'tomb': ['mourners filled the tomb with objects ranging from food to furniture that the mummified pharaoh would need.', 'the dazzling riches found in this tomb show how much wealth the pharaohs spent preparing for the afterlife.', 'egyptians believed that if a tomb was robbed, the person buried there could not have a happy afterlife.', 'only a secret tomb built for a new kingdom pharaoh was ever found with much of its treasure untouched.', 'as hard as the pharaohs tried to hide themselves, robbers stole the treasures from almost every tomb.', 'about  b.c., king djoser built a much larger pyramid over his tomb.'], 'pyramid': ['a city called giza was built for the pyramid workers and the people who fed, clothed, and housed them.', 'other teams of workers pulled the stone slabs up long, sloping ramps to their place on the pyramid.', 'a pyramid is a structure shaped like a triangle, with four sides that meet at a point.', 'it is called a step pyramid because its sides rise in a series of giant steps.', 'about  b.c., king djoser built a much larger pyramid over his tomb.', 'he ordered the construction of the largest pyramid ever built.', 'the great pyramid took nearly  years to build.', 'near the top of the pyramid, the ramps ended.', 'building the great pyramid was hard work.'], 'priest': ['before entering a temple, a priest bathed and put on special linen garments and white sandals.', 'one of the highest jobs in egypt was to be a priest.'], 'king': ['when a king died, one of his children usually took his place as ruler.', 'about  b.c., king djoser built a much larger pyramid over his tomb.', 'legend says a king named narmer united upper and lower egypt.', 'the king of egypt became known as the pharaoh pharaoh.', 'later it became the title of the king himself.'], 'ancient': ['as in many ancient societies, much of the knowledge of egypt came about as priests studied the world to find ways to please the gods.', 'historians divide ancient egyptian dynasties into the old kingdom, the middle kingdom, and the new kingdom.', 'because the pharaoh was thought to be a god, government and religion were not separate in ancient egypt.', 'unlike other ancient african cultures, in egyptian society men and women had fairly equal rights.', 'one ancient painting even shows a man ready to hit a catfish with a wooden hammer.', 'ancient egypt had no money, so people exchanged goods that they grew or made.', 'egypt was one of the best places in the ancient world to be a woman.', 'more than  dynasties ruled ancient egypt.'], 'gods': ['as in many ancient societies, much of the knowledge of egypt came about as priests studied the world to find ways to please the gods.', 'egyptians believed that if the pharaoh and his subjects honored the gods, their lives would be happy.', 'if egypt suffered hard times for a long period, the people blamed the pharaoh for angering the gods.', 'the ancient egyptians thought the pharaoh was a child of the gods and a god himself.', 'egyptians believed that if the gods were angry, the nile would not flood.', 'together, the priests and the ruler held ceremonies to please the gods.', 'so the ruler and the priests tried hard to keep the gods happy.', 'art was meant to glorify both the gods and the dead person.'], 'river': ['working together, they dug irrigation canals that carried river water to dry areas.', 'the river is called the upper nile in the south and the lower nile in the north.', 'to go on the river, egyptians made lightweight rafts by binding together reeds.', 'the longest river the nile is , miles longthe worlds longest river.'], 'kingdom': ['during the new kingdom, pharaohs began building more secret tombs in an area called the valley of the kings.', 'historians divide ancient egyptian dynasties into the old kingdom, the middle kingdom, and the new kingdom.', 'historians divide ancient egyptian dynasties into the old kingdom, the middle kingdom, and the new kingdom.', 'historians divide ancient egyptian dynasties into the old kingdom, the middle kingdom, and the new kingdom.', 'only a secret tomb built for a new kingdom pharaoh was ever found with much of its treasure untouched.', 'the old kingdom started about  b.c., when the egyptian empire was gaining strength.', 'after about  years, the egyptians drove out the hyksos and began the new kingdom.', 'rulers during the middle kingdom also faced challenges from outside egypt.', 'this period of egyptian history is called the middle kingdom.'], 'ruler': ['together, the priests and the ruler held ceremonies to please the gods.', 'when a king died, one of his children usually took his place as ruler.', 'so the ruler and the priests tried hard to keep the gods happy.', 'after egypt was united, its ruler wore the double crown.'], 'stones': ['these beautiful blue stones were used in jewelry.the nile had fish and other wildlife that egyptians wanted.'], 'linen': ['before entering a temple, a priest bathed and put on special linen garments and white sandals.', 'other artisans made pottery, incense, mats, furniture, linen clothing, sandals, or jewelry.', 'they were the first to weave fibers from flax plants into a fabric called linen.', 'these traders took egyptian products such as scrolls, linen, gold, and jewelry.', 'lightweight linen cloth was perfect for hot egyptian days.', 'most egyptians slept on mats covered with linen sheets.', 'men wore linen wraps around their waists.'], 'farmers': ['unlike the tigris and euphrates, the nile river flooded at the same time every year, so farmers could predict when to plant their crops.', 'farmers did the heavy labor of hauling stone during the season when the nile flooded their fields.', 'each year, egyptian farmers watched for white birds called ibises, which flew up from the south.', 'agricultural techniques by about  b.c., farmers used technology to expand their farmland.', 'after the waters drained away, farmers could plant seeds in the fertile soil.', 'when farmers produce food surpluses, the societys economy begins to expand.'], 'grew': ['as egyptian civilization grew more complex, people took on jobs other than that of a farmer or scribe.', 'ancient egypt had no money, so people exchanged goods that they grew or made.', 'they grew vegetables such as lettuce, radishes, asparagus, and cucumbers.', 'egyptian crops ancient egyptians grew a large variety of foods.', 'over time the system grew to include more than , symbols.', 'egyptians also grew the materials for their clothes.', 'as egypt grew, so did its need to organize.'], 'water': ['they were the first to grind wheat into flour and to mix the flour with yeast and water to make dough rise into bread.', 'a delta is an area near a rivers mouth where the water deposits fine soil called silt.', 'working together, they dug irrigation canals that carried river water to dry areas.', 'then they used a tool called a shaduf to spread the water across the fields.'], 'ancient egyptians': ['for example, some ancient egyptians learned to be scribes, people whose job was to write and keep records.', 'red land, black land the ancient egyptians lived in narrow bands of land on each side of the nile.', 'the ancient egyptians thought the pharaoh was a child of the gods and a god himself.', 'egyptian crops ancient egyptians grew a large variety of foods.', 'ancient egyptians also desired gold for its bright beauty.'], 'land': ['to restore property lines, surveyors measured the land by using ropes that were knotted at regular intervals.', 'red land, black land the ancient egyptians lived in narrow bands of land on each side of the nile.', 'red land, black land the ancient egyptians lived in narrow bands of land on each side of the nile.', 'they called this region the black land because of the fertile soil that the floods deposited.', 'the egyptians wanted valuable metals that were not found in the black land.', 'each year the niles floods washed away land boundaries.'], 'greek historian': ['the greek historian knew what he was talking about.'], 'nile river': ['unlike the tigris and euphrates, the nile river flooded at the same time every year, so farmers could predict when to plant their crops.', 'the nile river fed egyptian civilization for hundreds of years.'], 'egyptian civilization': ['as egyptian civilization grew more complex, people took on jobs other than that of a farmer or scribe.', 'the nile river fed egyptian civilization for hundreds of years.'], 'hundreds': ['workers dragged each heavy block hundreds of feet and then set it in place.', 'the nile river fed egyptian civilization for hundreds of years.'], 'years': ['about  years later, a pharaoh named khufu decided he wanted a monument that would show the world how great he was.', 'about , years ago, they noticed that a star now called sirius appeared shortly before the nile began to flood.', 'for about  more years, the kings held egypt together, but with a much weaker central government.', 'after about  years, the egyptians drove out the hyksos and began the new kingdom.', 'the nile river fed egyptian civilization for hundreds of years.', 'the great pyramid took nearly  years to build.'], 'longest river': ['the longest river the nile is , miles longthe worlds longest river.'], 'miles longthe worlds longest': ['the longest river the nile is , miles longthe worlds longest river.'], 'equator': ['it begins near the equator in africa and flows north to the mediterranean sea.'], 'africa': ['nubia was the egyptian name for the area of the upper nile that had the richest gold mines in africa.', 'it begins near the equator in africa and flows north to the mediterranean sea.'], 'mediterranean sea': ['it begins near the equator in africa and flows north to the mediterranean sea.'], 'south': ['each year, egyptian farmers watched for white birds called ibises, which flew up from the south.', 'going south, they raised a sail and let the winds that blew in that direction push them.', 'the river is called the upper nile in the south and the lower nile in the north.', 'in the south the nile churns with cataracts.'], 'nile churns': ['in the south the nile churns with cataracts.'], 'cataracts': ['in the south the nile churns with cataracts.'], 'waterfall': ['a cataract is a waterfall.'], 'sea': ['near the sea the nile branches into a delta.'], 'nile branches': ['near the sea the nile branches into a delta.'], 'delta': ['a delta is an area near a rivers mouth where the water deposits fine soil called silt.', 'in the delta, the nile divides into many streams.', 'near the sea the nile branches into a delta.'], 'area': ['during the new kingdom, pharaohs began building more secret tombs in an area called the valley of the kings.', 'nubia was the egyptian name for the area of the upper nile that had the richest gold mines in africa.', 'however, the natural resources of the area allowed other economic activities to develop too.', 'a delta is an area near a rivers mouth where the water deposits fine soil called silt.'], 'rivers mouth': ['a delta is an area near a rivers mouth where the water deposits fine soil called silt.'], 'word pharaoh': ['the word pharaoh meant great house, and it was originally used to describe the kings palace.'], 'underground tomb': ['the first rulers of egypt were often buried in an underground tomb topped by mud brick.'], 'small pyramid': ['they replaced the mud brick with a small pyramid of brick or stone.'], 'people': ['cities emerge as centers of culture and power, and people learn to do jobs that do not involve agriculture.', 'for example, some ancient egyptians learned to be scribes, people whose job was to write and keep records.', 'as egyptian civilization grew more complex, people took on jobs other than that of a farmer or scribe.', 'a city called giza was built for the pyramid workers and the people who fed, clothed, and housed them.', 'if egypt suffered hard times for a long period, the people blamed the pharaoh for angering the gods.', 'in egypt, people became slaves if they owed a debt, committed a crime, or were captured in war.', 'ancient egypt had no money, so people exchanged goods that they grew or made.', 'scenes might also show people providing for the needs of the dead person.', 'a nomadic people called the hyksos invaded egypt from the northeast.', 'they were probably the first people in the world to mine turquoise.', 'as a result, crops would not grow, and people would die.'], 'red land': ['red land, black land the ancient egyptians lived in narrow bands of land on each side of the nile.', 'the red land was the barren desert beyond the fertile region.'], 'precious stones': ['egyptians mined precious stones too.'], 'clothes': ['priests cleaned the sacred statues in temples, changed their clothes, and even fed them meals.', 'egyptians also grew the materials for their clothes.'], 'person': ['egyptians believed that if a tomb was robbed, the person buried there could not have a happy afterlife.', 'some tombs contained small statues that were supposed to be servants for the dead person.', 'scenes might also show people providing for the needs of the dead person.', 'a boomerang is a curved stick that returns to the person who threw it.', 'art was meant to glorify both the gods and the dead person.']}\n"
          ]
        }
      ]
    },
    {
      "cell_type": "code",
      "source": [],
      "metadata": {
        "id": "W0I62F_dLk1q"
      },
      "execution_count": 329,
      "outputs": []
    },
    {
      "cell_type": "code",
      "source": [
        "paragraphs = []\n",
        "p = []\n",
        "def parargraph_function(keyword_sentence_mapping):\n",
        "  \n",
        "  for x in keyword_sentence_mapping:\n",
        "    try:\n",
        "      paragraphs.append(keyword_sentence_mapping[x][0])\n",
        "      p.append(x)\n",
        "    except:\n",
        "      pass\n"
      ],
      "metadata": {
        "id": "POOA8InQyK-u"
      },
      "execution_count": 330,
      "outputs": []
    },
    {
      "cell_type": "code",
      "source": [
        " parargraph_function(keyword_sentence_mapping)"
      ],
      "metadata": {
        "id": "wEJzTqZCyn44"
      },
      "execution_count": 331,
      "outputs": []
    },
    {
      "cell_type": "code",
      "source": [
        "p"
      ],
      "metadata": {
        "colab": {
          "base_uri": "https://localhost:8080/"
        },
        "id": "te17x8yMsx1j",
        "outputId": "0deae71b-f861-46d6-b901-5982a0f28c9d"
      },
      "execution_count": 332,
      "outputs": [
        {
          "output_type": "execute_result",
          "data": {
            "text/plain": [
              "['egyptian',\n",
              " 'nile',\n",
              " 'egypt',\n",
              " 'pharaoh',\n",
              " 'tomb',\n",
              " 'pyramid',\n",
              " 'priest',\n",
              " 'king',\n",
              " 'ancient',\n",
              " 'gods',\n",
              " 'river',\n",
              " 'kingdom',\n",
              " 'ruler',\n",
              " 'stones',\n",
              " 'linen',\n",
              " 'farmers',\n",
              " 'grew',\n",
              " 'water',\n",
              " 'ancient egyptians',\n",
              " 'land',\n",
              " 'greek historian',\n",
              " 'nile river',\n",
              " 'egyptian civilization',\n",
              " 'hundreds',\n",
              " 'years',\n",
              " 'longest river',\n",
              " 'miles longthe worlds longest',\n",
              " 'equator',\n",
              " 'africa',\n",
              " 'mediterranean sea',\n",
              " 'south',\n",
              " 'nile churns',\n",
              " 'cataracts',\n",
              " 'waterfall',\n",
              " 'sea',\n",
              " 'nile branches',\n",
              " 'delta',\n",
              " 'area',\n",
              " 'rivers mouth',\n",
              " 'word pharaoh',\n",
              " 'underground tomb',\n",
              " 'small pyramid',\n",
              " 'people',\n",
              " 'red land',\n",
              " 'precious stones',\n",
              " 'clothes',\n",
              " 'person']"
            ]
          },
          "metadata": {},
          "execution_count": 332
        }
      ]
    },
    {
      "cell_type": "code",
      "source": [
        "def common_KP(keyphrases):\n",
        "  common_KP = {\n",
        "    \n",
        "  }\n",
        "  for i, (candidate, score) in enumerate(keyphrases):\n",
        "    \n",
        "      if common_KP.get(candidate) != None:\n",
        "          common_KP[candidate] = common_KP[candidate] = common_KP[candidate]+1\n",
        "      else:\n",
        "         common_KP[candidate] = 1\n",
        "  return common_KP"
      ],
      "metadata": {
        "id": "SZFTt64BTBGW"
      },
      "execution_count": 333,
      "outputs": []
    },
    {
      "cell_type": "code",
      "source": [
        "keyphrses_all=[]\n",
        "keyphrses_all.append(common_KP(keyphrases))"
      ],
      "metadata": {
        "id": "jVVetcOTTBqG"
      },
      "execution_count": 334,
      "outputs": []
    },
    {
      "cell_type": "code",
      "source": [
        "keyphrses_all.append(common_KP(keyphrases_2))\n"
      ],
      "metadata": {
        "id": "hEbQk8lYXxow"
      },
      "execution_count": 335,
      "outputs": []
    },
    {
      "cell_type": "code",
      "source": [
        "keyphrses_all"
      ],
      "metadata": {
        "colab": {
          "base_uri": "https://localhost:8080/"
        },
        "id": "ACQ-nfxTw57M",
        "outputId": "377564e6-f925-47d2-883f-b89abeb66230"
      },
      "execution_count": 336,
      "outputs": [
        {
          "output_type": "execute_result",
          "data": {
            "text/plain": [
              "[{'egyptian': 1,\n",
              "  'nile': 1,\n",
              "  'egypt': 1,\n",
              "  'pharaoh': 1,\n",
              "  'tomb': 1,\n",
              "  'pyramid': 1,\n",
              "  'priest': 1,\n",
              "  'king': 1,\n",
              "  'ancient': 1,\n",
              "  'gods': 1,\n",
              "  'river': 1,\n",
              "  'kingdom': 1,\n",
              "  'ruler': 1,\n",
              "  'stones': 1,\n",
              "  'linen': 1,\n",
              "  'farmers': 1,\n",
              "  'grew': 1,\n",
              "  'water': 1,\n",
              "  'ancient egyptians': 1,\n",
              "  'land': 1},\n",
              " {'greek historian': 1,\n",
              "  'nile river': 1,\n",
              "  'egyptian civilization': 1,\n",
              "  'hundreds': 1,\n",
              "  'years': 1,\n",
              "  'longest river': 1,\n",
              "  'nile': 1,\n",
              "  'miles longthe worlds longest': 1,\n",
              "  'equator': 1,\n",
              "  'africa': 1,\n",
              "  'mediterranean sea': 1,\n",
              "  'south': 1,\n",
              "  'nile churns': 1,\n",
              "  'cataracts': 1,\n",
              "  'waterfall': 1,\n",
              "  'sea': 1,\n",
              "  'nile branches': 1,\n",
              "  'delta': 1,\n",
              "  'area': 1,\n",
              "  'rivers mouth': 1}]"
            ]
          },
          "metadata": {},
          "execution_count": 336
        }
      ]
    },
    {
      "cell_type": "code",
      "source": [
        "keyphrses_all.append(common_KP(keyphrases_3))"
      ],
      "metadata": {
        "id": "uREFvv_9wgan"
      },
      "execution_count": 337,
      "outputs": []
    },
    {
      "cell_type": "code",
      "source": [
        "#generate guestion\n"
      ],
      "metadata": {
        "id": "Nq3K1X-1XzVd"
      },
      "execution_count": 338,
      "outputs": []
    },
    {
      "cell_type": "code",
      "source": [
        "!pip install -U transformers==3.0.0"
      ],
      "metadata": {
        "colab": {
          "base_uri": "https://localhost:8080/"
        },
        "id": "JcDMxppoYKrT",
        "outputId": "524a3598-fd59-46b0-a103-adc28753daa8"
      },
      "execution_count": 339,
      "outputs": [
        {
          "output_type": "stream",
          "name": "stdout",
          "text": [
            "Looking in indexes: https://pypi.org/simple, https://us-python.pkg.dev/colab-wheels/public/simple/\n",
            "Requirement already satisfied: transformers==3.0.0 in /usr/local/lib/python3.7/dist-packages (3.0.0)\n",
            "Requirement already satisfied: numpy in /usr/local/lib/python3.7/dist-packages (from transformers==3.0.0) (1.21.6)\n",
            "Requirement already satisfied: tqdm>=4.27 in /usr/local/lib/python3.7/dist-packages (from transformers==3.0.0) (4.64.1)\n",
            "Requirement already satisfied: sentencepiece in /usr/local/lib/python3.7/dist-packages (from transformers==3.0.0) (0.1.97)\n",
            "Requirement already satisfied: requests in /usr/local/lib/python3.7/dist-packages (from transformers==3.0.0) (2.23.0)\n",
            "Requirement already satisfied: packaging in /usr/local/lib/python3.7/dist-packages (from transformers==3.0.0) (21.3)\n",
            "Requirement already satisfied: regex!=2019.12.17 in /usr/local/lib/python3.7/dist-packages (from transformers==3.0.0) (2022.6.2)\n",
            "Requirement already satisfied: tokenizers==0.8.0-rc4 in /usr/local/lib/python3.7/dist-packages (from transformers==3.0.0) (0.8.0rc4)\n",
            "Requirement already satisfied: filelock in /usr/local/lib/python3.7/dist-packages (from transformers==3.0.0) (3.8.0)\n",
            "Requirement already satisfied: sacremoses in /usr/local/lib/python3.7/dist-packages (from transformers==3.0.0) (0.0.53)\n",
            "Requirement already satisfied: pyparsing!=3.0.5,>=2.0.2 in /usr/local/lib/python3.7/dist-packages (from packaging->transformers==3.0.0) (3.0.9)\n",
            "Requirement already satisfied: chardet<4,>=3.0.2 in /usr/local/lib/python3.7/dist-packages (from requests->transformers==3.0.0) (3.0.4)\n",
            "Requirement already satisfied: certifi>=2017.4.17 in /usr/local/lib/python3.7/dist-packages (from requests->transformers==3.0.0) (2022.6.15)\n",
            "Requirement already satisfied: idna<3,>=2.5 in /usr/local/lib/python3.7/dist-packages (from requests->transformers==3.0.0) (2.10)\n",
            "Requirement already satisfied: urllib3!=1.25.0,!=1.25.1,<1.26,>=1.21.1 in /usr/local/lib/python3.7/dist-packages (from requests->transformers==3.0.0) (1.24.3)\n",
            "Requirement already satisfied: click in /usr/local/lib/python3.7/dist-packages (from sacremoses->transformers==3.0.0) (7.1.2)\n",
            "Requirement already satisfied: six in /usr/local/lib/python3.7/dist-packages (from sacremoses->transformers==3.0.0) (1.15.0)\n",
            "Requirement already satisfied: joblib in /usr/local/lib/python3.7/dist-packages (from sacremoses->transformers==3.0.0) (1.1.0)\n"
          ]
        }
      ]
    },
    {
      "cell_type": "code",
      "source": [
        "!python -m nltk.downloader punkt"
      ],
      "metadata": {
        "colab": {
          "base_uri": "https://localhost:8080/"
        },
        "id": "mo5cIVpHYLZ3",
        "outputId": "194cd156-de74-48f2-ee8e-f97c84918b44"
      },
      "execution_count": 340,
      "outputs": [
        {
          "output_type": "stream",
          "name": "stdout",
          "text": [
            "/usr/lib/python3.7/runpy.py:125: RuntimeWarning: 'nltk.downloader' found in sys.modules after import of package 'nltk', but prior to execution of 'nltk.downloader'; this may result in unpredictable behaviour\n",
            "  warn(RuntimeWarning(msg))\n",
            "[nltk_data] Downloading package punkt to /root/nltk_data...\n",
            "[nltk_data]   Package punkt is already up-to-date!\n"
          ]
        }
      ]
    },
    {
      "cell_type": "code",
      "source": [
        "!git clone https://github.com/patil-suraj/question_generation.git"
      ],
      "metadata": {
        "colab": {
          "base_uri": "https://localhost:8080/"
        },
        "id": "IIs2J9iDYZsJ",
        "outputId": "8ea77fbf-db7d-47a9-ba1c-ee3a9ddfa793"
      },
      "execution_count": 341,
      "outputs": [
        {
          "output_type": "stream",
          "name": "stdout",
          "text": [
            "Cloning into 'question_generation'...\n",
            "remote: Enumerating objects: 268, done.\u001b[K\n",
            "Receiving objects:   0% (1/268)   \rReceiving objects:   1% (3/268)   \rReceiving objects:   2% (6/268)   \rReceiving objects:   3% (9/268)   \rReceiving objects:   4% (11/268)   \rReceiving objects:   5% (14/268)   \rReceiving objects:   6% (17/268)   \rReceiving objects:   7% (19/268)   \rReceiving objects:   8% (22/268)   \rReceiving objects:   9% (25/268)   \rReceiving objects:  10% (27/268)   \rReceiving objects:  11% (30/268)   \rReceiving objects:  12% (33/268)   \rReceiving objects:  13% (35/268)   \rReceiving objects:  14% (38/268)   \rReceiving objects:  15% (41/268)   \rReceiving objects:  16% (43/268)   \rReceiving objects:  17% (46/268)   \rReceiving objects:  18% (49/268)   \rReceiving objects:  19% (51/268)   \rReceiving objects:  20% (54/268)   \rReceiving objects:  21% (57/268)   \rReceiving objects:  22% (59/268)   \rReceiving objects:  23% (62/268)   \rReceiving objects:  24% (65/268)   \rReceiving objects:  25% (67/268)   \rReceiving objects:  26% (70/268)   \rReceiving objects:  27% (73/268)   \rReceiving objects:  28% (76/268)   \rReceiving objects:  29% (78/268)   \rReceiving objects:  30% (81/268)   \rReceiving objects:  31% (84/268)   \rReceiving objects:  32% (86/268)   \rReceiving objects:  33% (89/268)   \rReceiving objects:  34% (92/268)   \rReceiving objects:  35% (94/268)   \rReceiving objects:  36% (97/268)   \rReceiving objects:  37% (100/268)   \rReceiving objects:  38% (102/268)   \rReceiving objects:  39% (105/268)   \rReceiving objects:  40% (108/268)   \rReceiving objects:  41% (110/268)   \rReceiving objects:  42% (113/268)   \rReceiving objects:  43% (116/268)   \rReceiving objects:  44% (118/268)   \rReceiving objects:  45% (121/268)   \rReceiving objects:  46% (124/268)   \rReceiving objects:  47% (126/268)   \rReceiving objects:  48% (129/268)   \rReceiving objects:  49% (132/268)   \rReceiving objects:  50% (134/268)   \rReceiving objects:  51% (137/268)   \rReceiving objects:  52% (140/268)   \rReceiving objects:  53% (143/268)   \rReceiving objects:  54% (145/268)   \rReceiving objects:  55% (148/268)   \rReceiving objects:  56% (151/268)   \rremote: Total 268 (delta 0), reused 0 (delta 0), pack-reused 268\u001b[K\n",
            "Receiving objects:  57% (153/268)   \rReceiving objects:  58% (156/268)   \rReceiving objects:  59% (159/268)   \rReceiving objects:  60% (161/268)   \rReceiving objects:  61% (164/268)   \rReceiving objects:  62% (167/268)   \rReceiving objects:  63% (169/268)   \rReceiving objects:  64% (172/268)   \rReceiving objects:  65% (175/268)   \rReceiving objects:  66% (177/268)   \rReceiving objects:  67% (180/268)   \rReceiving objects:  68% (183/268)   \rReceiving objects:  69% (185/268)   \rReceiving objects:  70% (188/268)   \rReceiving objects:  71% (191/268)   \rReceiving objects:  72% (193/268)   \rReceiving objects:  73% (196/268)   \rReceiving objects:  74% (199/268)   \rReceiving objects:  75% (201/268)   \rReceiving objects:  76% (204/268)   \rReceiving objects:  77% (207/268)   \rReceiving objects:  78% (210/268)   \rReceiving objects:  79% (212/268)   \rReceiving objects:  80% (215/268)   \rReceiving objects:  81% (218/268)   \rReceiving objects:  82% (220/268)   \rReceiving objects:  83% (223/268)   \rReceiving objects:  84% (226/268)   \rReceiving objects:  85% (228/268)   \rReceiving objects:  86% (231/268)   \rReceiving objects:  87% (234/268)   \rReceiving objects:  88% (236/268)   \rReceiving objects:  89% (239/268)   \rReceiving objects:  90% (242/268)   \rReceiving objects:  91% (244/268)   \rReceiving objects:  92% (247/268)   \rReceiving objects:  93% (250/268)   \rReceiving objects:  94% (252/268)   \rReceiving objects:  95% (255/268)   \rReceiving objects:  96% (258/268)   \rReceiving objects:  97% (260/268)   \rReceiving objects:  98% (263/268)   \rReceiving objects:  99% (266/268)   \rReceiving objects: 100% (268/268)   \rReceiving objects: 100% (268/268), 299.04 KiB | 14.95 MiB/s, done.\n",
            "Resolving deltas:   0% (0/140)   \rResolving deltas:   1% (2/140)   \rResolving deltas:   2% (3/140)   \rResolving deltas:   4% (6/140)   \rResolving deltas:  12% (18/140)   \rResolving deltas:  14% (20/140)   \rResolving deltas:  15% (21/140)   \rResolving deltas:  17% (24/140)   \rResolving deltas:  22% (32/140)   \rResolving deltas:  24% (34/140)   \rResolving deltas:  63% (89/140)   \rResolving deltas:  65% (91/140)   \rResolving deltas:  71% (100/140)   \rResolving deltas:  77% (108/140)   \rResolving deltas:  79% (111/140)   \rResolving deltas:  85% (120/140)   \rResolving deltas:  87% (122/140)   \rResolving deltas:  90% (127/140)   \rResolving deltas:  97% (137/140)   \rResolving deltas: 100% (140/140)   \rResolving deltas: 100% (140/140), done.\n"
          ]
        }
      ]
    },
    {
      "cell_type": "code",
      "source": [
        "#Single task QA"
      ],
      "metadata": {
        "id": "ha5w1_YoYd4P"
      },
      "execution_count": 342,
      "outputs": []
    },
    {
      "cell_type": "code",
      "source": [
        "%cd question_generation"
      ],
      "metadata": {
        "colab": {
          "base_uri": "https://localhost:8080/"
        },
        "id": "lk3RaIpZacrF",
        "outputId": "aede6ad8-417a-43b1-c9ba-94bc492f7790"
      },
      "execution_count": 343,
      "outputs": [
        {
          "output_type": "stream",
          "name": "stdout",
          "text": [
            "/content/question_generation/question_generation/question_generation/question_generation/question_generation\n"
          ]
        }
      ]
    },
    {
      "cell_type": "code",
      "source": [
        "from pipelines import pipeline"
      ],
      "metadata": {
        "id": "zmTyqGNOalYE"
      },
      "execution_count": 344,
      "outputs": []
    },
    {
      "cell_type": "code",
      "source": [
        "nlp = pipeline(\"question-generation\")"
      ],
      "metadata": {
        "id": "11OTyFDvanpH"
      },
      "execution_count": 345,
      "outputs": []
    },
    {
      "cell_type": "code",
      "source": [
        "nlp(paragraphs[1])"
      ],
      "metadata": {
        "id": "acIn2J-4ap30",
        "colab": {
          "base_uri": "https://localhost:8080/"
        },
        "outputId": "fececcb0-0656-479c-e18a-d8b70f26bfa1"
      },
      "execution_count": 346,
      "outputs": [
        {
          "output_type": "stream",
          "name": "stderr",
          "text": [
            "/usr/local/lib/python3.7/dist-packages/transformers/modeling_utils.py:1500: UserWarning: __floordiv__ is deprecated, and its behavior will change in a future version of pytorch. It currently rounds toward 0 (like the 'trunc' function NOT 'floor'). This results in incorrect rounding for negative values. To keep the current behavior, use torch.div(a, b, rounding_mode='trunc'), or for actual floor division, use torch.div(a, b, rounding_mode='floor').\n",
            "  beam_id = beam_token_id // vocab_size\n"
          ]
        },
        {
          "output_type": "execute_result",
          "data": {
            "text/plain": [
              "[{'answer': 'sirius',\n",
              "  'question': 'What star appeared before the nile began to flood?'}]"
            ]
          },
          "metadata": {},
          "execution_count": 346
        }
      ]
    },
    {
      "cell_type": "code",
      "source": [
        "k = []\n",
        "para = []\n",
        "for x in paragraphs:\n",
        "  try:\n",
        "    para.append(x)\n",
        "    k.append(nlp(x))\n",
        "  except:\n",
        "    pass"
      ],
      "metadata": {
        "id": "lopcAZN_a9-x"
      },
      "execution_count": 347,
      "outputs": []
    },
    {
      "cell_type": "code",
      "source": [
        "para"
      ],
      "metadata": {
        "id": "ZmV7ns1xWggs",
        "outputId": "07fa4a35-0127-451b-9bf2-08319bfbaffc",
        "colab": {
          "base_uri": "https://localhost:8080/"
        }
      },
      "execution_count": 348,
      "outputs": [
        {
          "output_type": "execute_result",
          "data": {
            "text/plain": [
              "['historians divide ancient egyptian dynasties into the old kingdom, the middle kingdom, and the new kingdom.',\n",
              " 'about , years ago, they noticed that a star now called sirius appeared shortly before the nile began to flood.',\n",
              " 'as in many ancient societies, much of the knowledge of egypt came about as priests studied the world to find ways to please the gods.',\n",
              " 'about  years later, a pharaoh named khufu decided he wanted a monument that would show the world how great he was.',\n",
              " 'mourners filled the tomb with objects ranging from food to furniture that the mummified pharaoh would need.',\n",
              " 'a city called giza was built for the pyramid workers and the people who fed, clothed, and housed them.',\n",
              " 'before entering a temple, a priest bathed and put on special linen garments and white sandals.',\n",
              " 'when a king died, one of his children usually took his place as ruler.',\n",
              " 'as in many ancient societies, much of the knowledge of egypt came about as priests studied the world to find ways to please the gods.',\n",
              " 'as in many ancient societies, much of the knowledge of egypt came about as priests studied the world to find ways to please the gods.',\n",
              " 'working together, they dug irrigation canals that carried river water to dry areas.',\n",
              " 'during the new kingdom, pharaohs began building more secret tombs in an area called the valley of the kings.',\n",
              " 'together, the priests and the ruler held ceremonies to please the gods.',\n",
              " 'these beautiful blue stones were used in jewelry.the nile had fish and other wildlife that egyptians wanted.',\n",
              " 'before entering a temple, a priest bathed and put on special linen garments and white sandals.',\n",
              " 'unlike the tigris and euphrates, the nile river flooded at the same time every year, so farmers could predict when to plant their crops.',\n",
              " 'as egyptian civilization grew more complex, people took on jobs other than that of a farmer or scribe.',\n",
              " 'they were the first to grind wheat into flour and to mix the flour with yeast and water to make dough rise into bread.',\n",
              " 'for example, some ancient egyptians learned to be scribes, people whose job was to write and keep records.',\n",
              " 'to restore property lines, surveyors measured the land by using ropes that were knotted at regular intervals.',\n",
              " 'the greek historian knew what he was talking about.',\n",
              " 'unlike the tigris and euphrates, the nile river flooded at the same time every year, so farmers could predict when to plant their crops.',\n",
              " 'as egyptian civilization grew more complex, people took on jobs other than that of a farmer or scribe.',\n",
              " 'workers dragged each heavy block hundreds of feet and then set it in place.',\n",
              " 'about  years later, a pharaoh named khufu decided he wanted a monument that would show the world how great he was.',\n",
              " 'the longest river the nile is , miles longthe worlds longest river.',\n",
              " 'the longest river the nile is , miles longthe worlds longest river.',\n",
              " 'it begins near the equator in africa and flows north to the mediterranean sea.',\n",
              " 'nubia was the egyptian name for the area of the upper nile that had the richest gold mines in africa.',\n",
              " 'it begins near the equator in africa and flows north to the mediterranean sea.',\n",
              " 'each year, egyptian farmers watched for white birds called ibises, which flew up from the south.',\n",
              " 'in the south the nile churns with cataracts.',\n",
              " 'in the south the nile churns with cataracts.',\n",
              " 'a cataract is a waterfall.',\n",
              " 'near the sea the nile branches into a delta.',\n",
              " 'near the sea the nile branches into a delta.',\n",
              " 'a delta is an area near a rivers mouth where the water deposits fine soil called silt.',\n",
              " 'during the new kingdom, pharaohs began building more secret tombs in an area called the valley of the kings.',\n",
              " 'a delta is an area near a rivers mouth where the water deposits fine soil called silt.',\n",
              " 'the word pharaoh meant great house, and it was originally used to describe the kings palace.',\n",
              " 'the first rulers of egypt were often buried in an underground tomb topped by mud brick.',\n",
              " 'they replaced the mud brick with a small pyramid of brick or stone.',\n",
              " 'cities emerge as centers of culture and power, and people learn to do jobs that do not involve agriculture.',\n",
              " 'red land, black land the ancient egyptians lived in narrow bands of land on each side of the nile.',\n",
              " 'egyptians mined precious stones too.',\n",
              " 'priests cleaned the sacred statues in temples, changed their clothes, and even fed them meals.',\n",
              " 'egyptians believed that if a tomb was robbed, the person buried there could not have a happy afterlife.']"
            ]
          },
          "metadata": {},
          "execution_count": 348
        }
      ]
    },
    {
      "cell_type": "code",
      "source": [
        "#Build a QA System Without Elasticsearchn"
      ],
      "metadata": {
        "id": "_83dI0tfawT0"
      },
      "execution_count": 349,
      "outputs": []
    },
    {
      "cell_type": "code",
      "source": [
        "import pandas as pd\n"
      ],
      "metadata": {
        "id": "JylCG0-NHQf2"
      },
      "execution_count": 350,
      "outputs": []
    },
    {
      "cell_type": "code",
      "source": [
        "all_phrases = []\n",
        "for key in range(len(keyphrses_all)):\n",
        "  for key2 in keyphrses_all[key]:\n",
        "    print(key2)"
      ],
      "metadata": {
        "id": "vEslnAwiKFFA",
        "outputId": "b9535c3b-18bd-4216-b17a-caaa6d3c001f",
        "colab": {
          "base_uri": "https://localhost:8080/"
        }
      },
      "execution_count": 351,
      "outputs": [
        {
          "output_type": "stream",
          "name": "stdout",
          "text": [
            "egyptian\n",
            "nile\n",
            "egypt\n",
            "pharaoh\n",
            "tomb\n",
            "pyramid\n",
            "priest\n",
            "king\n",
            "ancient\n",
            "gods\n",
            "river\n",
            "kingdom\n",
            "ruler\n",
            "stones\n",
            "linen\n",
            "farmers\n",
            "grew\n",
            "water\n",
            "ancient egyptians\n",
            "land\n",
            "greek historian\n",
            "nile river\n",
            "egyptian civilization\n",
            "hundreds\n",
            "years\n",
            "longest river\n",
            "nile\n",
            "miles longthe worlds longest\n",
            "equator\n",
            "africa\n",
            "mediterranean sea\n",
            "south\n",
            "nile churns\n",
            "cataracts\n",
            "waterfall\n",
            "sea\n",
            "nile branches\n",
            "delta\n",
            "area\n",
            "rivers mouth\n",
            "egyptian civilization\n",
            "egypt\n",
            "nile\n",
            "word pharaoh\n",
            "underground tomb\n",
            "small pyramid\n",
            "priest\n",
            "people\n",
            "years\n",
            "gods\n",
            "king\n",
            "red land\n",
            "precious stones\n",
            "farmers\n",
            "ruler\n",
            "linen\n",
            "clothes\n",
            "person\n",
            "nile river\n",
            "water\n"
          ]
        }
      ]
    },
    {
      "cell_type": "code",
      "source": [
        "dict_df = {\n",
        "    \"Phrases\" : p,\n",
        "    \"Pargraphs\" : paragraphs\n",
        "}"
      ],
      "metadata": {
        "id": "_xI3ND-wJsAT"
      },
      "execution_count": 352,
      "outputs": []
    },
    {
      "cell_type": "code",
      "source": [
        "df = pd.DataFrame(dict_df)"
      ],
      "metadata": {
        "id": "kw9Vg40aJ0rc"
      },
      "execution_count": 353,
      "outputs": []
    },
    {
      "cell_type": "code",
      "source": [
        "df.head()"
      ],
      "metadata": {
        "id": "8zmGVGflJ3sC",
        "outputId": "18ac7622-9a9f-493f-9120-0c84949d8446",
        "colab": {
          "base_uri": "https://localhost:8080/",
          "height": 206
        }
      },
      "execution_count": 354,
      "outputs": [
        {
          "output_type": "execute_result",
          "data": {
            "text/plain": [
              "    Phrases                                          Pargraphs\n",
              "0  egyptian  historians divide ancient egyptian dynasties i...\n",
              "1      nile  about , years ago, they noticed that a star no...\n",
              "2     egypt  as in many ancient societies, much of the know...\n",
              "3   pharaoh  about  years later, a pharaoh named khufu deci...\n",
              "4      tomb  mourners filled the tomb with objects ranging ..."
            ],
            "text/html": [
              "\n",
              "  <div id=\"df-c07d2e49-6bd3-4ace-83a4-9cd9a50868da\">\n",
              "    <div class=\"colab-df-container\">\n",
              "      <div>\n",
              "<style scoped>\n",
              "    .dataframe tbody tr th:only-of-type {\n",
              "        vertical-align: middle;\n",
              "    }\n",
              "\n",
              "    .dataframe tbody tr th {\n",
              "        vertical-align: top;\n",
              "    }\n",
              "\n",
              "    .dataframe thead th {\n",
              "        text-align: right;\n",
              "    }\n",
              "</style>\n",
              "<table border=\"1\" class=\"dataframe\">\n",
              "  <thead>\n",
              "    <tr style=\"text-align: right;\">\n",
              "      <th></th>\n",
              "      <th>Phrases</th>\n",
              "      <th>Pargraphs</th>\n",
              "    </tr>\n",
              "  </thead>\n",
              "  <tbody>\n",
              "    <tr>\n",
              "      <th>0</th>\n",
              "      <td>egyptian</td>\n",
              "      <td>historians divide ancient egyptian dynasties i...</td>\n",
              "    </tr>\n",
              "    <tr>\n",
              "      <th>1</th>\n",
              "      <td>nile</td>\n",
              "      <td>about , years ago, they noticed that a star no...</td>\n",
              "    </tr>\n",
              "    <tr>\n",
              "      <th>2</th>\n",
              "      <td>egypt</td>\n",
              "      <td>as in many ancient societies, much of the know...</td>\n",
              "    </tr>\n",
              "    <tr>\n",
              "      <th>3</th>\n",
              "      <td>pharaoh</td>\n",
              "      <td>about  years later, a pharaoh named khufu deci...</td>\n",
              "    </tr>\n",
              "    <tr>\n",
              "      <th>4</th>\n",
              "      <td>tomb</td>\n",
              "      <td>mourners filled the tomb with objects ranging ...</td>\n",
              "    </tr>\n",
              "  </tbody>\n",
              "</table>\n",
              "</div>\n",
              "      <button class=\"colab-df-convert\" onclick=\"convertToInteractive('df-c07d2e49-6bd3-4ace-83a4-9cd9a50868da')\"\n",
              "              title=\"Convert this dataframe to an interactive table.\"\n",
              "              style=\"display:none;\">\n",
              "        \n",
              "  <svg xmlns=\"http://www.w3.org/2000/svg\" height=\"24px\"viewBox=\"0 0 24 24\"\n",
              "       width=\"24px\">\n",
              "    <path d=\"M0 0h24v24H0V0z\" fill=\"none\"/>\n",
              "    <path d=\"M18.56 5.44l.94 2.06.94-2.06 2.06-.94-2.06-.94-.94-2.06-.94 2.06-2.06.94zm-11 1L8.5 8.5l.94-2.06 2.06-.94-2.06-.94L8.5 2.5l-.94 2.06-2.06.94zm10 10l.94 2.06.94-2.06 2.06-.94-2.06-.94-.94-2.06-.94 2.06-2.06.94z\"/><path d=\"M17.41 7.96l-1.37-1.37c-.4-.4-.92-.59-1.43-.59-.52 0-1.04.2-1.43.59L10.3 9.45l-7.72 7.72c-.78.78-.78 2.05 0 2.83L4 21.41c.39.39.9.59 1.41.59.51 0 1.02-.2 1.41-.59l7.78-7.78 2.81-2.81c.8-.78.8-2.07 0-2.86zM5.41 20L4 18.59l7.72-7.72 1.47 1.35L5.41 20z\"/>\n",
              "  </svg>\n",
              "      </button>\n",
              "      \n",
              "  <style>\n",
              "    .colab-df-container {\n",
              "      display:flex;\n",
              "      flex-wrap:wrap;\n",
              "      gap: 12px;\n",
              "    }\n",
              "\n",
              "    .colab-df-convert {\n",
              "      background-color: #E8F0FE;\n",
              "      border: none;\n",
              "      border-radius: 50%;\n",
              "      cursor: pointer;\n",
              "      display: none;\n",
              "      fill: #1967D2;\n",
              "      height: 32px;\n",
              "      padding: 0 0 0 0;\n",
              "      width: 32px;\n",
              "    }\n",
              "\n",
              "    .colab-df-convert:hover {\n",
              "      background-color: #E2EBFA;\n",
              "      box-shadow: 0px 1px 2px rgba(60, 64, 67, 0.3), 0px 1px 3px 1px rgba(60, 64, 67, 0.15);\n",
              "      fill: #174EA6;\n",
              "    }\n",
              "\n",
              "    [theme=dark] .colab-df-convert {\n",
              "      background-color: #3B4455;\n",
              "      fill: #D2E3FC;\n",
              "    }\n",
              "\n",
              "    [theme=dark] .colab-df-convert:hover {\n",
              "      background-color: #434B5C;\n",
              "      box-shadow: 0px 1px 3px 1px rgba(0, 0, 0, 0.15);\n",
              "      filter: drop-shadow(0px 1px 2px rgba(0, 0, 0, 0.3));\n",
              "      fill: #FFFFFF;\n",
              "    }\n",
              "  </style>\n",
              "\n",
              "      <script>\n",
              "        const buttonEl =\n",
              "          document.querySelector('#df-c07d2e49-6bd3-4ace-83a4-9cd9a50868da button.colab-df-convert');\n",
              "        buttonEl.style.display =\n",
              "          google.colab.kernel.accessAllowed ? 'block' : 'none';\n",
              "\n",
              "        async function convertToInteractive(key) {\n",
              "          const element = document.querySelector('#df-c07d2e49-6bd3-4ace-83a4-9cd9a50868da');\n",
              "          const dataTable =\n",
              "            await google.colab.kernel.invokeFunction('convertToInteractive',\n",
              "                                                     [key], {});\n",
              "          if (!dataTable) return;\n",
              "\n",
              "          const docLinkHtml = 'Like what you see? Visit the ' +\n",
              "            '<a target=\"_blank\" href=https://colab.research.google.com/notebooks/data_table.ipynb>data table notebook</a>'\n",
              "            + ' to learn more about interactive tables.';\n",
              "          element.innerHTML = '';\n",
              "          dataTable['output_type'] = 'display_data';\n",
              "          await google.colab.output.renderOutput(dataTable, element);\n",
              "          const docLink = document.createElement('div');\n",
              "          docLink.innerHTML = docLinkHtml;\n",
              "          element.appendChild(docLink);\n",
              "        }\n",
              "      </script>\n",
              "    </div>\n",
              "  </div>\n",
              "  "
            ]
          },
          "metadata": {},
          "execution_count": 354
        }
      ]
    },
    {
      "cell_type": "code",
      "source": [
        "df.to_csv(\"paragraph.csv\")"
      ],
      "metadata": {
        "id": "2I4iaQnYMAL1"
      },
      "execution_count": 355,
      "outputs": []
    },
    {
      "cell_type": "code",
      "source": [
        "dict_df_2 = {\n",
        "    \"question\" : k,\n",
        "    \"Pargraphs\" : para\n",
        "}"
      ],
      "metadata": {
        "id": "5xaQP23mbxtV"
      },
      "execution_count": 356,
      "outputs": []
    },
    {
      "cell_type": "code",
      "source": [
        "df = pd.DataFrame(dict_df_2)"
      ],
      "metadata": {
        "id": "pa_9uq5_b83Q"
      },
      "execution_count": 357,
      "outputs": []
    },
    {
      "cell_type": "code",
      "source": [
        "len(k)"
      ],
      "metadata": {
        "id": "oVVU_7nVb_Ll",
        "outputId": "7c949428-cb65-4a1b-a688-2c07fd043fcb",
        "colab": {
          "base_uri": "https://localhost:8080/"
        }
      },
      "execution_count": 358,
      "outputs": [
        {
          "output_type": "execute_result",
          "data": {
            "text/plain": [
              "47"
            ]
          },
          "metadata": {},
          "execution_count": 358
        }
      ]
    },
    {
      "cell_type": "code",
      "source": [
        "len(para)"
      ],
      "metadata": {
        "id": "fnplg2WqcL5p",
        "outputId": "b98e32d4-7912-4f1d-d046-b5070431faa2",
        "colab": {
          "base_uri": "https://localhost:8080/"
        }
      },
      "execution_count": 359,
      "outputs": [
        {
          "output_type": "execute_result",
          "data": {
            "text/plain": [
              "47"
            ]
          },
          "metadata": {},
          "execution_count": 359
        }
      ]
    },
    {
      "cell_type": "code",
      "source": [
        "df.head()"
      ],
      "metadata": {
        "colab": {
          "base_uri": "https://localhost:8080/",
          "height": 206
        },
        "id": "ZFKR2ZyX305w",
        "outputId": "d990ed1d-e09c-4cab-fefb-008016a9e6e5"
      },
      "execution_count": 360,
      "outputs": [
        {
          "output_type": "execute_result",
          "data": {
            "text/plain": [
              "                                            question  \\\n",
              "0  [{'answer': 'ancient egyptian dynasties', 'que...   \n",
              "1  [{'answer': 'sirius', 'question': 'What star a...   \n",
              "2  [{'answer': 'priests', 'question': 'Who studie...   \n",
              "3  [{'answer': 'khufu', 'question': 'Who wanted a...   \n",
              "4  [{'answer': 'food', 'question': 'What type of ...   \n",
              "\n",
              "                                           Pargraphs  \n",
              "0  historians divide ancient egyptian dynasties i...  \n",
              "1  about , years ago, they noticed that a star no...  \n",
              "2  as in many ancient societies, much of the know...  \n",
              "3  about  years later, a pharaoh named khufu deci...  \n",
              "4  mourners filled the tomb with objects ranging ...  "
            ],
            "text/html": [
              "\n",
              "  <div id=\"df-dff9cf04-0534-483f-abdc-20b47340344c\">\n",
              "    <div class=\"colab-df-container\">\n",
              "      <div>\n",
              "<style scoped>\n",
              "    .dataframe tbody tr th:only-of-type {\n",
              "        vertical-align: middle;\n",
              "    }\n",
              "\n",
              "    .dataframe tbody tr th {\n",
              "        vertical-align: top;\n",
              "    }\n",
              "\n",
              "    .dataframe thead th {\n",
              "        text-align: right;\n",
              "    }\n",
              "</style>\n",
              "<table border=\"1\" class=\"dataframe\">\n",
              "  <thead>\n",
              "    <tr style=\"text-align: right;\">\n",
              "      <th></th>\n",
              "      <th>question</th>\n",
              "      <th>Pargraphs</th>\n",
              "    </tr>\n",
              "  </thead>\n",
              "  <tbody>\n",
              "    <tr>\n",
              "      <th>0</th>\n",
              "      <td>[{'answer': 'ancient egyptian dynasties', 'que...</td>\n",
              "      <td>historians divide ancient egyptian dynasties i...</td>\n",
              "    </tr>\n",
              "    <tr>\n",
              "      <th>1</th>\n",
              "      <td>[{'answer': 'sirius', 'question': 'What star a...</td>\n",
              "      <td>about , years ago, they noticed that a star no...</td>\n",
              "    </tr>\n",
              "    <tr>\n",
              "      <th>2</th>\n",
              "      <td>[{'answer': 'priests', 'question': 'Who studie...</td>\n",
              "      <td>as in many ancient societies, much of the know...</td>\n",
              "    </tr>\n",
              "    <tr>\n",
              "      <th>3</th>\n",
              "      <td>[{'answer': 'khufu', 'question': 'Who wanted a...</td>\n",
              "      <td>about  years later, a pharaoh named khufu deci...</td>\n",
              "    </tr>\n",
              "    <tr>\n",
              "      <th>4</th>\n",
              "      <td>[{'answer': 'food', 'question': 'What type of ...</td>\n",
              "      <td>mourners filled the tomb with objects ranging ...</td>\n",
              "    </tr>\n",
              "  </tbody>\n",
              "</table>\n",
              "</div>\n",
              "      <button class=\"colab-df-convert\" onclick=\"convertToInteractive('df-dff9cf04-0534-483f-abdc-20b47340344c')\"\n",
              "              title=\"Convert this dataframe to an interactive table.\"\n",
              "              style=\"display:none;\">\n",
              "        \n",
              "  <svg xmlns=\"http://www.w3.org/2000/svg\" height=\"24px\"viewBox=\"0 0 24 24\"\n",
              "       width=\"24px\">\n",
              "    <path d=\"M0 0h24v24H0V0z\" fill=\"none\"/>\n",
              "    <path d=\"M18.56 5.44l.94 2.06.94-2.06 2.06-.94-2.06-.94-.94-2.06-.94 2.06-2.06.94zm-11 1L8.5 8.5l.94-2.06 2.06-.94-2.06-.94L8.5 2.5l-.94 2.06-2.06.94zm10 10l.94 2.06.94-2.06 2.06-.94-2.06-.94-.94-2.06-.94 2.06-2.06.94z\"/><path d=\"M17.41 7.96l-1.37-1.37c-.4-.4-.92-.59-1.43-.59-.52 0-1.04.2-1.43.59L10.3 9.45l-7.72 7.72c-.78.78-.78 2.05 0 2.83L4 21.41c.39.39.9.59 1.41.59.51 0 1.02-.2 1.41-.59l7.78-7.78 2.81-2.81c.8-.78.8-2.07 0-2.86zM5.41 20L4 18.59l7.72-7.72 1.47 1.35L5.41 20z\"/>\n",
              "  </svg>\n",
              "      </button>\n",
              "      \n",
              "  <style>\n",
              "    .colab-df-container {\n",
              "      display:flex;\n",
              "      flex-wrap:wrap;\n",
              "      gap: 12px;\n",
              "    }\n",
              "\n",
              "    .colab-df-convert {\n",
              "      background-color: #E8F0FE;\n",
              "      border: none;\n",
              "      border-radius: 50%;\n",
              "      cursor: pointer;\n",
              "      display: none;\n",
              "      fill: #1967D2;\n",
              "      height: 32px;\n",
              "      padding: 0 0 0 0;\n",
              "      width: 32px;\n",
              "    }\n",
              "\n",
              "    .colab-df-convert:hover {\n",
              "      background-color: #E2EBFA;\n",
              "      box-shadow: 0px 1px 2px rgba(60, 64, 67, 0.3), 0px 1px 3px 1px rgba(60, 64, 67, 0.15);\n",
              "      fill: #174EA6;\n",
              "    }\n",
              "\n",
              "    [theme=dark] .colab-df-convert {\n",
              "      background-color: #3B4455;\n",
              "      fill: #D2E3FC;\n",
              "    }\n",
              "\n",
              "    [theme=dark] .colab-df-convert:hover {\n",
              "      background-color: #434B5C;\n",
              "      box-shadow: 0px 1px 3px 1px rgba(0, 0, 0, 0.15);\n",
              "      filter: drop-shadow(0px 1px 2px rgba(0, 0, 0, 0.3));\n",
              "      fill: #FFFFFF;\n",
              "    }\n",
              "  </style>\n",
              "\n",
              "      <script>\n",
              "        const buttonEl =\n",
              "          document.querySelector('#df-dff9cf04-0534-483f-abdc-20b47340344c button.colab-df-convert');\n",
              "        buttonEl.style.display =\n",
              "          google.colab.kernel.accessAllowed ? 'block' : 'none';\n",
              "\n",
              "        async function convertToInteractive(key) {\n",
              "          const element = document.querySelector('#df-dff9cf04-0534-483f-abdc-20b47340344c');\n",
              "          const dataTable =\n",
              "            await google.colab.kernel.invokeFunction('convertToInteractive',\n",
              "                                                     [key], {});\n",
              "          if (!dataTable) return;\n",
              "\n",
              "          const docLinkHtml = 'Like what you see? Visit the ' +\n",
              "            '<a target=\"_blank\" href=https://colab.research.google.com/notebooks/data_table.ipynb>data table notebook</a>'\n",
              "            + ' to learn more about interactive tables.';\n",
              "          element.innerHTML = '';\n",
              "          dataTable['output_type'] = 'display_data';\n",
              "          await google.colab.output.renderOutput(dataTable, element);\n",
              "          const docLink = document.createElement('div');\n",
              "          docLink.innerHTML = docLinkHtml;\n",
              "          element.appendChild(docLink);\n",
              "        }\n",
              "      </script>\n",
              "    </div>\n",
              "  </div>\n",
              "  "
            ]
          },
          "metadata": {},
          "execution_count": 360
        }
      ]
    },
    {
      "cell_type": "code",
      "source": [
        "df.to_csv(\"question\")"
      ],
      "metadata": {
        "id": "aOgL46Ws326a"
      },
      "execution_count": 361,
      "outputs": []
    },
    {
      "cell_type": "code",
      "source": [
        "questions = []\n",
        "for x in k:\n",
        "  for i in x:\n",
        "    questions.append(i['question'])\n",
        "\n",
        "questions"
      ],
      "metadata": {
        "colab": {
          "base_uri": "https://localhost:8080/"
        },
        "id": "9yxAMRtR4SI3",
        "outputId": "339bcd83-f11a-4ec0-8a09-7683bd0b504e"
      },
      "execution_count": 362,
      "outputs": [
        {
          "output_type": "execute_result",
          "data": {
            "text/plain": [
              "['What dynasties divide historians into the old kingdom, the middle kingdom, and the new kingdom?',\n",
              " 'What star appeared before the nile began to flood?',\n",
              " 'Who studied the world to find ways to please the gods?',\n",
              " 'Who wanted a monument that would show the world how great he was?',\n",
              " 'What did khufu want to show the world how great he was?',\n",
              " 'What type of items did mourners fill the tomb with?',\n",
              " 'What type of items would the mummified pharaoh need?',\n",
              " 'What type of items did mourners fill the tomb with?',\n",
              " 'What city was built for pyramid workers?',\n",
              " 'Who built giza?',\n",
              " 'Who bathed before entering a temple?',\n",
              " 'Who took his place as ruler when a king died?',\n",
              " 'Who studied the world to find ways to please the gods?',\n",
              " 'Who studied the world to find ways to please the gods?',\n",
              " 'What did river water go to dry areas?',\n",
              " 'Where did pharaohs begin building more secret tombs?',\n",
              " 'Where did pharaohs begin building more secret tombs?',\n",
              " 'Who held ceremonies to please the gods?',\n",
              " 'What type of stones were used in jewelry?',\n",
              " 'What type of stone had fish and other wildlife that egyptians wanted?',\n",
              " 'Who bathed before entering a temple?',\n",
              " 'What river flooded every year?',\n",
              " 'What river flooded every year?',\n",
              " 'What kind of civilization grew more complex?',\n",
              " 'What did the first batch of wheat grind into?',\n",
              " 'What did the first batch of wheat grind into?',\n",
              " 'The first to grind wheat into flour and mix it with what?',\n",
              " 'What did some ancient egyptians learn to be?',\n",
              " 'What did surveyors use to measure the land?',\n",
              " 'Who knew what he was talking about?',\n",
              " 'What river flooded every year?',\n",
              " 'What river flooded every year?',\n",
              " 'What kind of civilization grew more complex?',\n",
              " 'How many feet did workers drag each heavy block?',\n",
              " 'Who wanted a monument that would show the world how great he was?',\n",
              " 'What did khufu want to show the world how great he was?',\n",
              " 'How long is the longest river in the world?',\n",
              " 'How long is the longest river in the world?',\n",
              " 'How long is the longest river in the world?',\n",
              " 'How long is the longest river in the world?',\n",
              " 'Where does the equator flow north to?',\n",
              " 'What was the egyptian name for the area of the upper nile that had the richest gold mines in africa?',\n",
              " 'Where does the equator flow north to?',\n",
              " 'What white bird flew up from the south?',\n",
              " 'Where did ibises fly?',\n",
              " 'Where does the nile churn with cataracts?',\n",
              " 'What churns with cataracts in the south?',\n",
              " 'Where does the nile churn with cataracts?',\n",
              " 'What churns with cataracts in the south?',\n",
              " 'What is a cataract?',\n",
              " 'What is a waterfall?',\n",
              " 'Where does the nile branch into near the sea?',\n",
              " 'Where does the nile branch into a delta?',\n",
              " 'Where does the nile branch into near the sea?',\n",
              " 'Where does the nile branch into a delta?',\n",
              " 'What is an area near a rivers mouth where the water deposits fine soil called silt?',\n",
              " 'What is the name of a delta?',\n",
              " 'Where did pharaohs begin building more secret tombs?',\n",
              " 'Where did pharaohs begin building more secret tombs?',\n",
              " 'What is an area near a rivers mouth where the water deposits fine soil called silt?',\n",
              " 'What is the name of a delta?',\n",
              " 'What was the word pharaoh meant?',\n",
              " 'What word meant great house?',\n",
              " 'What was the name of the tomb topped by the first rulers of egypt?',\n",
              " 'Where were the first rulers of egypt often buried?',\n",
              " 'What was the name of the tomb topped by the first rulers of egypt?',\n",
              " 'Where were the first rulers of egypt often buried?',\n",
              " 'What type of brick did the mud brick replace?',\n",
              " 'What cities emerge as centers of culture and power?',\n",
              " 'What type of land did the ancient egyptians live in?',\n",
              " 'What type of land did the ancient egyptians live in?',\n",
              " 'What did egyptians mine?',\n",
              " 'Who cleaned the sacred statues in temples?',\n",
              " 'What did egyptians believe the person buried there could not have a happy afterlife?',\n",
              " 'What did egyptians believe the person buried there could not have if a tomb was robbed?']"
            ]
          },
          "metadata": {},
          "execution_count": 362
        }
      ]
    },
    {
      "cell_type": "code",
      "source": [
        "len (k)"
      ],
      "metadata": {
        "id": "BvI5744S5yDs",
        "outputId": "cd5d762b-dac7-4dc4-d0bc-13f2867b1165",
        "colab": {
          "base_uri": "https://localhost:8080/"
        }
      },
      "execution_count": 363,
      "outputs": [
        {
          "output_type": "execute_result",
          "data": {
            "text/plain": [
              "47"
            ]
          },
          "metadata": {},
          "execution_count": 363
        }
      ]
    },
    {
      "cell_type": "code",
      "source": [
        "answer = []\n",
        "for x in k:\n",
        "  for i in x:\n",
        "    answer.append(i['answer'])\n",
        "\n",
        "answer"
      ],
      "metadata": {
        "colab": {
          "base_uri": "https://localhost:8080/"
        },
        "id": "4IbNzJ79Kqhy",
        "outputId": "7a9f9b7c-42a2-462c-c5a7-45c3abfd1958"
      },
      "execution_count": 364,
      "outputs": [
        {
          "output_type": "execute_result",
          "data": {
            "text/plain": [
              "['ancient egyptian dynasties',\n",
              " 'sirius',\n",
              " 'priests',\n",
              " 'khufu',\n",
              " 'monument',\n",
              " 'food',\n",
              " 'furniture',\n",
              " 'food',\n",
              " 'giza',\n",
              " 'pyramid workers',\n",
              " 'a priest',\n",
              " 'one of his children',\n",
              " 'priests',\n",
              " 'priests',\n",
              " 'dug irrigation canals',\n",
              " 'valley of the kings',\n",
              " 'valley of the kings',\n",
              " 'the priests and the ruler',\n",
              " 'blue stones',\n",
              " 'nile',\n",
              " 'a priest',\n",
              " 'nile river',\n",
              " 'nile river',\n",
              " 'egyptian civilization',\n",
              " 'flour',\n",
              " 'flour',\n",
              " 'yeast',\n",
              " 'scribes',\n",
              " 'ropes',\n",
              " 'greek historian',\n",
              " 'nile river',\n",
              " 'nile river',\n",
              " 'egyptian civilization',\n",
              " 'hundreds of feet',\n",
              " 'khufu',\n",
              " 'monument',\n",
              " 'miles',\n",
              " 'miles',\n",
              " 'miles',\n",
              " 'miles',\n",
              " 'mediterranean sea',\n",
              " 'nubia',\n",
              " 'mediterranean sea',\n",
              " 'ibises',\n",
              " 'south',\n",
              " 'south',\n",
              " 'nile',\n",
              " 'south',\n",
              " 'nile',\n",
              " 'waterfall',\n",
              " 'cataract',\n",
              " 'delta',\n",
              " 'near the sea',\n",
              " 'delta',\n",
              " 'near the sea',\n",
              " 'delta',\n",
              " 'silt',\n",
              " 'valley of the kings',\n",
              " 'valley of the kings',\n",
              " 'delta',\n",
              " 'silt',\n",
              " 'great house',\n",
              " 'pharaoh',\n",
              " 'mud brick',\n",
              " 'underground',\n",
              " 'mud brick',\n",
              " 'underground',\n",
              " 'pyramid',\n",
              " 'cities',\n",
              " 'black',\n",
              " 'red',\n",
              " 'precious stones',\n",
              " 'priests',\n",
              " 'if a tomb was robbed',\n",
              " 'a happy afterlife']"
            ]
          },
          "metadata": {},
          "execution_count": 364
        }
      ]
    },
    {
      "cell_type": "code",
      "source": [
        "len(questions)"
      ],
      "metadata": {
        "colab": {
          "base_uri": "https://localhost:8080/"
        },
        "id": "u9cD8Nt8QKHU",
        "outputId": "6336900d-c6a5-4546-fa8e-e9dc1340b5f3"
      },
      "execution_count": 365,
      "outputs": [
        {
          "output_type": "execute_result",
          "data": {
            "text/plain": [
              "75"
            ]
          },
          "metadata": {},
          "execution_count": 365
        }
      ]
    },
    {
      "cell_type": "code",
      "source": [
        "\n",
        "questions= list(dict.fromkeys(questions))\n",
        "print(len(questions))"
      ],
      "metadata": {
        "colab": {
          "base_uri": "https://localhost:8080/"
        },
        "id": "uKVRf80EQNbl",
        "outputId": "d1c2e791-66b0-469d-e0ff-489d0c495a62"
      },
      "execution_count": 366,
      "outputs": [
        {
          "output_type": "stream",
          "name": "stdout",
          "text": [
            "48\n"
          ]
        }
      ]
    },
    {
      "cell_type": "code",
      "source": [
        "questions.pop(-1)\n",
        "print(len(questions))"
      ],
      "metadata": {
        "colab": {
          "base_uri": "https://localhost:8080/"
        },
        "id": "aOCX2gkBQZ6t",
        "outputId": "d8eb36ee-f7d6-47a2-a191-2fa33b7ff484"
      },
      "execution_count": 367,
      "outputs": [
        {
          "output_type": "stream",
          "name": "stdout",
          "text": [
            "47\n"
          ]
        }
      ]
    },
    {
      "cell_type": "code",
      "source": [
        "answer = list(dict.fromkeys(answer))\n",
        "print(len(answer))"
      ],
      "metadata": {
        "colab": {
          "base_uri": "https://localhost:8080/"
        },
        "id": "mvK9YhsjQoRF",
        "outputId": "b0b69bd5-b977-41a7-8a02-c192fa2e11ed"
      },
      "execution_count": 368,
      "outputs": [
        {
          "output_type": "stream",
          "name": "stdout",
          "text": [
            "45\n"
          ]
        }
      ]
    },
    {
      "cell_type": "code",
      "source": [
        "answer.append(\"no answer generation\")\n",
        "answer.append(\"no answer generation\")"
      ],
      "metadata": {
        "id": "cHdY25xSQ2uq"
      },
      "execution_count": 369,
      "outputs": []
    },
    {
      "cell_type": "code",
      "source": [
        "df[\"answer\"]=answer"
      ],
      "metadata": {
        "id": "vmW4pah6Q-qR"
      },
      "execution_count": 370,
      "outputs": []
    },
    {
      "cell_type": "code",
      "source": [
        "df"
      ],
      "metadata": {
        "colab": {
          "base_uri": "https://localhost:8080/",
          "height": 1000
        },
        "id": "dDi2iu95RJvW",
        "outputId": "ca66fc6d-9434-4bc2-a9f7-8a067bf0cbde"
      },
      "execution_count": 371,
      "outputs": [
        {
          "output_type": "execute_result",
          "data": {
            "text/plain": [
              "                                             question  \\\n",
              "0   [{'answer': 'ancient egyptian dynasties', 'que...   \n",
              "1   [{'answer': 'sirius', 'question': 'What star a...   \n",
              "2   [{'answer': 'priests', 'question': 'Who studie...   \n",
              "3   [{'answer': 'khufu', 'question': 'Who wanted a...   \n",
              "4   [{'answer': 'food', 'question': 'What type of ...   \n",
              "5   [{'answer': 'giza', 'question': 'What city was...   \n",
              "6   [{'answer': 'a priest', 'question': 'Who bathe...   \n",
              "7   [{'answer': 'one of his children', 'question':...   \n",
              "8   [{'answer': 'priests', 'question': 'Who studie...   \n",
              "9   [{'answer': 'priests', 'question': 'Who studie...   \n",
              "10  [{'answer': 'dug irrigation canals', 'question...   \n",
              "11  [{'answer': 'valley of the kings', 'question':...   \n",
              "12  [{'answer': 'the priests and the ruler', 'ques...   \n",
              "13  [{'answer': 'blue stones', 'question': 'What t...   \n",
              "14  [{'answer': 'a priest', 'question': 'Who bathe...   \n",
              "15  [{'answer': 'nile river', 'question': 'What ri...   \n",
              "16  [{'answer': 'egyptian civilization', 'question...   \n",
              "17  [{'answer': 'flour', 'question': 'What did the...   \n",
              "18  [{'answer': 'scribes', 'question': 'What did s...   \n",
              "19  [{'answer': 'ropes', 'question': 'What did sur...   \n",
              "20  [{'answer': 'greek historian', 'question': 'Wh...   \n",
              "21  [{'answer': 'nile river', 'question': 'What ri...   \n",
              "22  [{'answer': 'egyptian civilization', 'question...   \n",
              "23  [{'answer': 'hundreds of feet', 'question': 'H...   \n",
              "24  [{'answer': 'khufu', 'question': 'Who wanted a...   \n",
              "25  [{'answer': 'miles', 'question': 'How long is ...   \n",
              "26  [{'answer': 'miles', 'question': 'How long is ...   \n",
              "27  [{'answer': 'mediterranean sea', 'question': '...   \n",
              "28  [{'answer': 'nubia', 'question': 'What was the...   \n",
              "29  [{'answer': 'mediterranean sea', 'question': '...   \n",
              "30  [{'answer': 'ibises', 'question': 'What white ...   \n",
              "31  [{'answer': 'south', 'question': 'Where does t...   \n",
              "32  [{'answer': 'south', 'question': 'Where does t...   \n",
              "33  [{'answer': 'waterfall', 'question': 'What is ...   \n",
              "34  [{'answer': 'delta', 'question': 'Where does t...   \n",
              "35  [{'answer': 'delta', 'question': 'Where does t...   \n",
              "36  [{'answer': 'delta', 'question': 'What is an a...   \n",
              "37  [{'answer': 'valley of the kings', 'question':...   \n",
              "38  [{'answer': 'delta', 'question': 'What is an a...   \n",
              "39  [{'answer': 'great house', 'question': 'What w...   \n",
              "40  [{'answer': 'mud brick', 'question': 'What was...   \n",
              "41  [{'answer': 'pyramid', 'question': 'What type ...   \n",
              "42  [{'answer': 'cities', 'question': 'What cities...   \n",
              "43  [{'answer': 'black', 'question': 'What type of...   \n",
              "44  [{'answer': 'precious stones', 'question': 'Wh...   \n",
              "45  [{'answer': 'priests', 'question': 'Who cleane...   \n",
              "46  [{'answer': 'if a tomb was robbed', 'question'...   \n",
              "\n",
              "                                            Pargraphs  \\\n",
              "0   historians divide ancient egyptian dynasties i...   \n",
              "1   about , years ago, they noticed that a star no...   \n",
              "2   as in many ancient societies, much of the know...   \n",
              "3   about  years later, a pharaoh named khufu deci...   \n",
              "4   mourners filled the tomb with objects ranging ...   \n",
              "5   a city called giza was built for the pyramid w...   \n",
              "6   before entering a temple, a priest bathed and ...   \n",
              "7   when a king died, one of his children usually ...   \n",
              "8   as in many ancient societies, much of the know...   \n",
              "9   as in many ancient societies, much of the know...   \n",
              "10  working together, they dug irrigation canals t...   \n",
              "11  during the new kingdom, pharaohs began buildin...   \n",
              "12  together, the priests and the ruler held cerem...   \n",
              "13  these beautiful blue stones were used in jewel...   \n",
              "14  before entering a temple, a priest bathed and ...   \n",
              "15  unlike the tigris and euphrates, the nile rive...   \n",
              "16  as egyptian civilization grew more complex, pe...   \n",
              "17  they were the first to grind wheat into flour ...   \n",
              "18  for example, some ancient egyptians learned to...   \n",
              "19  to restore property lines, surveyors measured ...   \n",
              "20  the greek historian knew what he was talking a...   \n",
              "21  unlike the tigris and euphrates, the nile rive...   \n",
              "22  as egyptian civilization grew more complex, pe...   \n",
              "23  workers dragged each heavy block hundreds of f...   \n",
              "24  about  years later, a pharaoh named khufu deci...   \n",
              "25  the longest river the nile is , miles longthe ...   \n",
              "26  the longest river the nile is , miles longthe ...   \n",
              "27  it begins near the equator in africa and flows...   \n",
              "28  nubia was the egyptian name for the area of th...   \n",
              "29  it begins near the equator in africa and flows...   \n",
              "30  each year, egyptian farmers watched for white ...   \n",
              "31       in the south the nile churns with cataracts.   \n",
              "32       in the south the nile churns with cataracts.   \n",
              "33                         a cataract is a waterfall.   \n",
              "34       near the sea the nile branches into a delta.   \n",
              "35       near the sea the nile branches into a delta.   \n",
              "36  a delta is an area near a rivers mouth where t...   \n",
              "37  during the new kingdom, pharaohs began buildin...   \n",
              "38  a delta is an area near a rivers mouth where t...   \n",
              "39  the word pharaoh meant great house, and it was...   \n",
              "40  the first rulers of egypt were often buried in...   \n",
              "41  they replaced the mud brick with a small pyram...   \n",
              "42  cities emerge as centers of culture and power,...   \n",
              "43  red land, black land the ancient egyptians liv...   \n",
              "44               egyptians mined precious stones too.   \n",
              "45  priests cleaned the sacred statues in temples,...   \n",
              "46  egyptians believed that if a tomb was robbed, ...   \n",
              "\n",
              "                        answer  \n",
              "0   ancient egyptian dynasties  \n",
              "1                       sirius  \n",
              "2                      priests  \n",
              "3                        khufu  \n",
              "4                     monument  \n",
              "5                         food  \n",
              "6                    furniture  \n",
              "7                         giza  \n",
              "8              pyramid workers  \n",
              "9                     a priest  \n",
              "10         one of his children  \n",
              "11       dug irrigation canals  \n",
              "12         valley of the kings  \n",
              "13   the priests and the ruler  \n",
              "14                 blue stones  \n",
              "15                        nile  \n",
              "16                  nile river  \n",
              "17       egyptian civilization  \n",
              "18                       flour  \n",
              "19                       yeast  \n",
              "20                     scribes  \n",
              "21                       ropes  \n",
              "22             greek historian  \n",
              "23            hundreds of feet  \n",
              "24                       miles  \n",
              "25           mediterranean sea  \n",
              "26                       nubia  \n",
              "27                      ibises  \n",
              "28                       south  \n",
              "29                   waterfall  \n",
              "30                    cataract  \n",
              "31                       delta  \n",
              "32                near the sea  \n",
              "33                        silt  \n",
              "34                 great house  \n",
              "35                     pharaoh  \n",
              "36                   mud brick  \n",
              "37                 underground  \n",
              "38                     pyramid  \n",
              "39                      cities  \n",
              "40                       black  \n",
              "41                         red  \n",
              "42             precious stones  \n",
              "43        if a tomb was robbed  \n",
              "44           a happy afterlife  \n",
              "45        no answer generation  \n",
              "46        no answer generation  "
            ],
            "text/html": [
              "\n",
              "  <div id=\"df-7698c1d8-e985-4616-a78b-a30ce88b87e2\">\n",
              "    <div class=\"colab-df-container\">\n",
              "      <div>\n",
              "<style scoped>\n",
              "    .dataframe tbody tr th:only-of-type {\n",
              "        vertical-align: middle;\n",
              "    }\n",
              "\n",
              "    .dataframe tbody tr th {\n",
              "        vertical-align: top;\n",
              "    }\n",
              "\n",
              "    .dataframe thead th {\n",
              "        text-align: right;\n",
              "    }\n",
              "</style>\n",
              "<table border=\"1\" class=\"dataframe\">\n",
              "  <thead>\n",
              "    <tr style=\"text-align: right;\">\n",
              "      <th></th>\n",
              "      <th>question</th>\n",
              "      <th>Pargraphs</th>\n",
              "      <th>answer</th>\n",
              "    </tr>\n",
              "  </thead>\n",
              "  <tbody>\n",
              "    <tr>\n",
              "      <th>0</th>\n",
              "      <td>[{'answer': 'ancient egyptian dynasties', 'que...</td>\n",
              "      <td>historians divide ancient egyptian dynasties i...</td>\n",
              "      <td>ancient egyptian dynasties</td>\n",
              "    </tr>\n",
              "    <tr>\n",
              "      <th>1</th>\n",
              "      <td>[{'answer': 'sirius', 'question': 'What star a...</td>\n",
              "      <td>about , years ago, they noticed that a star no...</td>\n",
              "      <td>sirius</td>\n",
              "    </tr>\n",
              "    <tr>\n",
              "      <th>2</th>\n",
              "      <td>[{'answer': 'priests', 'question': 'Who studie...</td>\n",
              "      <td>as in many ancient societies, much of the know...</td>\n",
              "      <td>priests</td>\n",
              "    </tr>\n",
              "    <tr>\n",
              "      <th>3</th>\n",
              "      <td>[{'answer': 'khufu', 'question': 'Who wanted a...</td>\n",
              "      <td>about  years later, a pharaoh named khufu deci...</td>\n",
              "      <td>khufu</td>\n",
              "    </tr>\n",
              "    <tr>\n",
              "      <th>4</th>\n",
              "      <td>[{'answer': 'food', 'question': 'What type of ...</td>\n",
              "      <td>mourners filled the tomb with objects ranging ...</td>\n",
              "      <td>monument</td>\n",
              "    </tr>\n",
              "    <tr>\n",
              "      <th>5</th>\n",
              "      <td>[{'answer': 'giza', 'question': 'What city was...</td>\n",
              "      <td>a city called giza was built for the pyramid w...</td>\n",
              "      <td>food</td>\n",
              "    </tr>\n",
              "    <tr>\n",
              "      <th>6</th>\n",
              "      <td>[{'answer': 'a priest', 'question': 'Who bathe...</td>\n",
              "      <td>before entering a temple, a priest bathed and ...</td>\n",
              "      <td>furniture</td>\n",
              "    </tr>\n",
              "    <tr>\n",
              "      <th>7</th>\n",
              "      <td>[{'answer': 'one of his children', 'question':...</td>\n",
              "      <td>when a king died, one of his children usually ...</td>\n",
              "      <td>giza</td>\n",
              "    </tr>\n",
              "    <tr>\n",
              "      <th>8</th>\n",
              "      <td>[{'answer': 'priests', 'question': 'Who studie...</td>\n",
              "      <td>as in many ancient societies, much of the know...</td>\n",
              "      <td>pyramid workers</td>\n",
              "    </tr>\n",
              "    <tr>\n",
              "      <th>9</th>\n",
              "      <td>[{'answer': 'priests', 'question': 'Who studie...</td>\n",
              "      <td>as in many ancient societies, much of the know...</td>\n",
              "      <td>a priest</td>\n",
              "    </tr>\n",
              "    <tr>\n",
              "      <th>10</th>\n",
              "      <td>[{'answer': 'dug irrigation canals', 'question...</td>\n",
              "      <td>working together, they dug irrigation canals t...</td>\n",
              "      <td>one of his children</td>\n",
              "    </tr>\n",
              "    <tr>\n",
              "      <th>11</th>\n",
              "      <td>[{'answer': 'valley of the kings', 'question':...</td>\n",
              "      <td>during the new kingdom, pharaohs began buildin...</td>\n",
              "      <td>dug irrigation canals</td>\n",
              "    </tr>\n",
              "    <tr>\n",
              "      <th>12</th>\n",
              "      <td>[{'answer': 'the priests and the ruler', 'ques...</td>\n",
              "      <td>together, the priests and the ruler held cerem...</td>\n",
              "      <td>valley of the kings</td>\n",
              "    </tr>\n",
              "    <tr>\n",
              "      <th>13</th>\n",
              "      <td>[{'answer': 'blue stones', 'question': 'What t...</td>\n",
              "      <td>these beautiful blue stones were used in jewel...</td>\n",
              "      <td>the priests and the ruler</td>\n",
              "    </tr>\n",
              "    <tr>\n",
              "      <th>14</th>\n",
              "      <td>[{'answer': 'a priest', 'question': 'Who bathe...</td>\n",
              "      <td>before entering a temple, a priest bathed and ...</td>\n",
              "      <td>blue stones</td>\n",
              "    </tr>\n",
              "    <tr>\n",
              "      <th>15</th>\n",
              "      <td>[{'answer': 'nile river', 'question': 'What ri...</td>\n",
              "      <td>unlike the tigris and euphrates, the nile rive...</td>\n",
              "      <td>nile</td>\n",
              "    </tr>\n",
              "    <tr>\n",
              "      <th>16</th>\n",
              "      <td>[{'answer': 'egyptian civilization', 'question...</td>\n",
              "      <td>as egyptian civilization grew more complex, pe...</td>\n",
              "      <td>nile river</td>\n",
              "    </tr>\n",
              "    <tr>\n",
              "      <th>17</th>\n",
              "      <td>[{'answer': 'flour', 'question': 'What did the...</td>\n",
              "      <td>they were the first to grind wheat into flour ...</td>\n",
              "      <td>egyptian civilization</td>\n",
              "    </tr>\n",
              "    <tr>\n",
              "      <th>18</th>\n",
              "      <td>[{'answer': 'scribes', 'question': 'What did s...</td>\n",
              "      <td>for example, some ancient egyptians learned to...</td>\n",
              "      <td>flour</td>\n",
              "    </tr>\n",
              "    <tr>\n",
              "      <th>19</th>\n",
              "      <td>[{'answer': 'ropes', 'question': 'What did sur...</td>\n",
              "      <td>to restore property lines, surveyors measured ...</td>\n",
              "      <td>yeast</td>\n",
              "    </tr>\n",
              "    <tr>\n",
              "      <th>20</th>\n",
              "      <td>[{'answer': 'greek historian', 'question': 'Wh...</td>\n",
              "      <td>the greek historian knew what he was talking a...</td>\n",
              "      <td>scribes</td>\n",
              "    </tr>\n",
              "    <tr>\n",
              "      <th>21</th>\n",
              "      <td>[{'answer': 'nile river', 'question': 'What ri...</td>\n",
              "      <td>unlike the tigris and euphrates, the nile rive...</td>\n",
              "      <td>ropes</td>\n",
              "    </tr>\n",
              "    <tr>\n",
              "      <th>22</th>\n",
              "      <td>[{'answer': 'egyptian civilization', 'question...</td>\n",
              "      <td>as egyptian civilization grew more complex, pe...</td>\n",
              "      <td>greek historian</td>\n",
              "    </tr>\n",
              "    <tr>\n",
              "      <th>23</th>\n",
              "      <td>[{'answer': 'hundreds of feet', 'question': 'H...</td>\n",
              "      <td>workers dragged each heavy block hundreds of f...</td>\n",
              "      <td>hundreds of feet</td>\n",
              "    </tr>\n",
              "    <tr>\n",
              "      <th>24</th>\n",
              "      <td>[{'answer': 'khufu', 'question': 'Who wanted a...</td>\n",
              "      <td>about  years later, a pharaoh named khufu deci...</td>\n",
              "      <td>miles</td>\n",
              "    </tr>\n",
              "    <tr>\n",
              "      <th>25</th>\n",
              "      <td>[{'answer': 'miles', 'question': 'How long is ...</td>\n",
              "      <td>the longest river the nile is , miles longthe ...</td>\n",
              "      <td>mediterranean sea</td>\n",
              "    </tr>\n",
              "    <tr>\n",
              "      <th>26</th>\n",
              "      <td>[{'answer': 'miles', 'question': 'How long is ...</td>\n",
              "      <td>the longest river the nile is , miles longthe ...</td>\n",
              "      <td>nubia</td>\n",
              "    </tr>\n",
              "    <tr>\n",
              "      <th>27</th>\n",
              "      <td>[{'answer': 'mediterranean sea', 'question': '...</td>\n",
              "      <td>it begins near the equator in africa and flows...</td>\n",
              "      <td>ibises</td>\n",
              "    </tr>\n",
              "    <tr>\n",
              "      <th>28</th>\n",
              "      <td>[{'answer': 'nubia', 'question': 'What was the...</td>\n",
              "      <td>nubia was the egyptian name for the area of th...</td>\n",
              "      <td>south</td>\n",
              "    </tr>\n",
              "    <tr>\n",
              "      <th>29</th>\n",
              "      <td>[{'answer': 'mediterranean sea', 'question': '...</td>\n",
              "      <td>it begins near the equator in africa and flows...</td>\n",
              "      <td>waterfall</td>\n",
              "    </tr>\n",
              "    <tr>\n",
              "      <th>30</th>\n",
              "      <td>[{'answer': 'ibises', 'question': 'What white ...</td>\n",
              "      <td>each year, egyptian farmers watched for white ...</td>\n",
              "      <td>cataract</td>\n",
              "    </tr>\n",
              "    <tr>\n",
              "      <th>31</th>\n",
              "      <td>[{'answer': 'south', 'question': 'Where does t...</td>\n",
              "      <td>in the south the nile churns with cataracts.</td>\n",
              "      <td>delta</td>\n",
              "    </tr>\n",
              "    <tr>\n",
              "      <th>32</th>\n",
              "      <td>[{'answer': 'south', 'question': 'Where does t...</td>\n",
              "      <td>in the south the nile churns with cataracts.</td>\n",
              "      <td>near the sea</td>\n",
              "    </tr>\n",
              "    <tr>\n",
              "      <th>33</th>\n",
              "      <td>[{'answer': 'waterfall', 'question': 'What is ...</td>\n",
              "      <td>a cataract is a waterfall.</td>\n",
              "      <td>silt</td>\n",
              "    </tr>\n",
              "    <tr>\n",
              "      <th>34</th>\n",
              "      <td>[{'answer': 'delta', 'question': 'Where does t...</td>\n",
              "      <td>near the sea the nile branches into a delta.</td>\n",
              "      <td>great house</td>\n",
              "    </tr>\n",
              "    <tr>\n",
              "      <th>35</th>\n",
              "      <td>[{'answer': 'delta', 'question': 'Where does t...</td>\n",
              "      <td>near the sea the nile branches into a delta.</td>\n",
              "      <td>pharaoh</td>\n",
              "    </tr>\n",
              "    <tr>\n",
              "      <th>36</th>\n",
              "      <td>[{'answer': 'delta', 'question': 'What is an a...</td>\n",
              "      <td>a delta is an area near a rivers mouth where t...</td>\n",
              "      <td>mud brick</td>\n",
              "    </tr>\n",
              "    <tr>\n",
              "      <th>37</th>\n",
              "      <td>[{'answer': 'valley of the kings', 'question':...</td>\n",
              "      <td>during the new kingdom, pharaohs began buildin...</td>\n",
              "      <td>underground</td>\n",
              "    </tr>\n",
              "    <tr>\n",
              "      <th>38</th>\n",
              "      <td>[{'answer': 'delta', 'question': 'What is an a...</td>\n",
              "      <td>a delta is an area near a rivers mouth where t...</td>\n",
              "      <td>pyramid</td>\n",
              "    </tr>\n",
              "    <tr>\n",
              "      <th>39</th>\n",
              "      <td>[{'answer': 'great house', 'question': 'What w...</td>\n",
              "      <td>the word pharaoh meant great house, and it was...</td>\n",
              "      <td>cities</td>\n",
              "    </tr>\n",
              "    <tr>\n",
              "      <th>40</th>\n",
              "      <td>[{'answer': 'mud brick', 'question': 'What was...</td>\n",
              "      <td>the first rulers of egypt were often buried in...</td>\n",
              "      <td>black</td>\n",
              "    </tr>\n",
              "    <tr>\n",
              "      <th>41</th>\n",
              "      <td>[{'answer': 'pyramid', 'question': 'What type ...</td>\n",
              "      <td>they replaced the mud brick with a small pyram...</td>\n",
              "      <td>red</td>\n",
              "    </tr>\n",
              "    <tr>\n",
              "      <th>42</th>\n",
              "      <td>[{'answer': 'cities', 'question': 'What cities...</td>\n",
              "      <td>cities emerge as centers of culture and power,...</td>\n",
              "      <td>precious stones</td>\n",
              "    </tr>\n",
              "    <tr>\n",
              "      <th>43</th>\n",
              "      <td>[{'answer': 'black', 'question': 'What type of...</td>\n",
              "      <td>red land, black land the ancient egyptians liv...</td>\n",
              "      <td>if a tomb was robbed</td>\n",
              "    </tr>\n",
              "    <tr>\n",
              "      <th>44</th>\n",
              "      <td>[{'answer': 'precious stones', 'question': 'Wh...</td>\n",
              "      <td>egyptians mined precious stones too.</td>\n",
              "      <td>a happy afterlife</td>\n",
              "    </tr>\n",
              "    <tr>\n",
              "      <th>45</th>\n",
              "      <td>[{'answer': 'priests', 'question': 'Who cleane...</td>\n",
              "      <td>priests cleaned the sacred statues in temples,...</td>\n",
              "      <td>no answer generation</td>\n",
              "    </tr>\n",
              "    <tr>\n",
              "      <th>46</th>\n",
              "      <td>[{'answer': 'if a tomb was robbed', 'question'...</td>\n",
              "      <td>egyptians believed that if a tomb was robbed, ...</td>\n",
              "      <td>no answer generation</td>\n",
              "    </tr>\n",
              "  </tbody>\n",
              "</table>\n",
              "</div>\n",
              "      <button class=\"colab-df-convert\" onclick=\"convertToInteractive('df-7698c1d8-e985-4616-a78b-a30ce88b87e2')\"\n",
              "              title=\"Convert this dataframe to an interactive table.\"\n",
              "              style=\"display:none;\">\n",
              "        \n",
              "  <svg xmlns=\"http://www.w3.org/2000/svg\" height=\"24px\"viewBox=\"0 0 24 24\"\n",
              "       width=\"24px\">\n",
              "    <path d=\"M0 0h24v24H0V0z\" fill=\"none\"/>\n",
              "    <path d=\"M18.56 5.44l.94 2.06.94-2.06 2.06-.94-2.06-.94-.94-2.06-.94 2.06-2.06.94zm-11 1L8.5 8.5l.94-2.06 2.06-.94-2.06-.94L8.5 2.5l-.94 2.06-2.06.94zm10 10l.94 2.06.94-2.06 2.06-.94-2.06-.94-.94-2.06-.94 2.06-2.06.94z\"/><path d=\"M17.41 7.96l-1.37-1.37c-.4-.4-.92-.59-1.43-.59-.52 0-1.04.2-1.43.59L10.3 9.45l-7.72 7.72c-.78.78-.78 2.05 0 2.83L4 21.41c.39.39.9.59 1.41.59.51 0 1.02-.2 1.41-.59l7.78-7.78 2.81-2.81c.8-.78.8-2.07 0-2.86zM5.41 20L4 18.59l7.72-7.72 1.47 1.35L5.41 20z\"/>\n",
              "  </svg>\n",
              "      </button>\n",
              "      \n",
              "  <style>\n",
              "    .colab-df-container {\n",
              "      display:flex;\n",
              "      flex-wrap:wrap;\n",
              "      gap: 12px;\n",
              "    }\n",
              "\n",
              "    .colab-df-convert {\n",
              "      background-color: #E8F0FE;\n",
              "      border: none;\n",
              "      border-radius: 50%;\n",
              "      cursor: pointer;\n",
              "      display: none;\n",
              "      fill: #1967D2;\n",
              "      height: 32px;\n",
              "      padding: 0 0 0 0;\n",
              "      width: 32px;\n",
              "    }\n",
              "\n",
              "    .colab-df-convert:hover {\n",
              "      background-color: #E2EBFA;\n",
              "      box-shadow: 0px 1px 2px rgba(60, 64, 67, 0.3), 0px 1px 3px 1px rgba(60, 64, 67, 0.15);\n",
              "      fill: #174EA6;\n",
              "    }\n",
              "\n",
              "    [theme=dark] .colab-df-convert {\n",
              "      background-color: #3B4455;\n",
              "      fill: #D2E3FC;\n",
              "    }\n",
              "\n",
              "    [theme=dark] .colab-df-convert:hover {\n",
              "      background-color: #434B5C;\n",
              "      box-shadow: 0px 1px 3px 1px rgba(0, 0, 0, 0.15);\n",
              "      filter: drop-shadow(0px 1px 2px rgba(0, 0, 0, 0.3));\n",
              "      fill: #FFFFFF;\n",
              "    }\n",
              "  </style>\n",
              "\n",
              "      <script>\n",
              "        const buttonEl =\n",
              "          document.querySelector('#df-7698c1d8-e985-4616-a78b-a30ce88b87e2 button.colab-df-convert');\n",
              "        buttonEl.style.display =\n",
              "          google.colab.kernel.accessAllowed ? 'block' : 'none';\n",
              "\n",
              "        async function convertToInteractive(key) {\n",
              "          const element = document.querySelector('#df-7698c1d8-e985-4616-a78b-a30ce88b87e2');\n",
              "          const dataTable =\n",
              "            await google.colab.kernel.invokeFunction('convertToInteractive',\n",
              "                                                     [key], {});\n",
              "          if (!dataTable) return;\n",
              "\n",
              "          const docLinkHtml = 'Like what you see? Visit the ' +\n",
              "            '<a target=\"_blank\" href=https://colab.research.google.com/notebooks/data_table.ipynb>data table notebook</a>'\n",
              "            + ' to learn more about interactive tables.';\n",
              "          element.innerHTML = '';\n",
              "          dataTable['output_type'] = 'display_data';\n",
              "          await google.colab.output.renderOutput(dataTable, element);\n",
              "          const docLink = document.createElement('div');\n",
              "          docLink.innerHTML = docLinkHtml;\n",
              "          element.appendChild(docLink);\n",
              "        }\n",
              "      </script>\n",
              "    </div>\n",
              "  </div>\n",
              "  "
            ]
          },
          "metadata": {},
          "execution_count": 371
        }
      ]
    },
    {
      "cell_type": "code",
      "source": [
        "df.drop(\"question\", axis=1,inplace=True)"
      ],
      "metadata": {
        "id": "ZsK-g5rBRKZc"
      },
      "execution_count": 372,
      "outputs": []
    },
    {
      "cell_type": "code",
      "source": [
        "df[\"questions\"]=questions"
      ],
      "metadata": {
        "id": "G_9ghJACRW5E"
      },
      "execution_count": 373,
      "outputs": []
    },
    {
      "cell_type": "code",
      "source": [
        "df"
      ],
      "metadata": {
        "colab": {
          "base_uri": "https://localhost:8080/",
          "height": 1000
        },
        "id": "8h0wdoylRiGz",
        "outputId": "d0fa1cb5-e068-48dc-dcb8-f6055ca84812"
      },
      "execution_count": 374,
      "outputs": [
        {
          "output_type": "execute_result",
          "data": {
            "text/plain": [
              "                                            Pargraphs  \\\n",
              "0   historians divide ancient egyptian dynasties i...   \n",
              "1   about , years ago, they noticed that a star no...   \n",
              "2   as in many ancient societies, much of the know...   \n",
              "3   about  years later, a pharaoh named khufu deci...   \n",
              "4   mourners filled the tomb with objects ranging ...   \n",
              "5   a city called giza was built for the pyramid w...   \n",
              "6   before entering a temple, a priest bathed and ...   \n",
              "7   when a king died, one of his children usually ...   \n",
              "8   as in many ancient societies, much of the know...   \n",
              "9   as in many ancient societies, much of the know...   \n",
              "10  working together, they dug irrigation canals t...   \n",
              "11  during the new kingdom, pharaohs began buildin...   \n",
              "12  together, the priests and the ruler held cerem...   \n",
              "13  these beautiful blue stones were used in jewel...   \n",
              "14  before entering a temple, a priest bathed and ...   \n",
              "15  unlike the tigris and euphrates, the nile rive...   \n",
              "16  as egyptian civilization grew more complex, pe...   \n",
              "17  they were the first to grind wheat into flour ...   \n",
              "18  for example, some ancient egyptians learned to...   \n",
              "19  to restore property lines, surveyors measured ...   \n",
              "20  the greek historian knew what he was talking a...   \n",
              "21  unlike the tigris and euphrates, the nile rive...   \n",
              "22  as egyptian civilization grew more complex, pe...   \n",
              "23  workers dragged each heavy block hundreds of f...   \n",
              "24  about  years later, a pharaoh named khufu deci...   \n",
              "25  the longest river the nile is , miles longthe ...   \n",
              "26  the longest river the nile is , miles longthe ...   \n",
              "27  it begins near the equator in africa and flows...   \n",
              "28  nubia was the egyptian name for the area of th...   \n",
              "29  it begins near the equator in africa and flows...   \n",
              "30  each year, egyptian farmers watched for white ...   \n",
              "31       in the south the nile churns with cataracts.   \n",
              "32       in the south the nile churns with cataracts.   \n",
              "33                         a cataract is a waterfall.   \n",
              "34       near the sea the nile branches into a delta.   \n",
              "35       near the sea the nile branches into a delta.   \n",
              "36  a delta is an area near a rivers mouth where t...   \n",
              "37  during the new kingdom, pharaohs began buildin...   \n",
              "38  a delta is an area near a rivers mouth where t...   \n",
              "39  the word pharaoh meant great house, and it was...   \n",
              "40  the first rulers of egypt were often buried in...   \n",
              "41  they replaced the mud brick with a small pyram...   \n",
              "42  cities emerge as centers of culture and power,...   \n",
              "43  red land, black land the ancient egyptians liv...   \n",
              "44               egyptians mined precious stones too.   \n",
              "45  priests cleaned the sacred statues in temples,...   \n",
              "46  egyptians believed that if a tomb was robbed, ...   \n",
              "\n",
              "                        answer  \\\n",
              "0   ancient egyptian dynasties   \n",
              "1                       sirius   \n",
              "2                      priests   \n",
              "3                        khufu   \n",
              "4                     monument   \n",
              "5                         food   \n",
              "6                    furniture   \n",
              "7                         giza   \n",
              "8              pyramid workers   \n",
              "9                     a priest   \n",
              "10         one of his children   \n",
              "11       dug irrigation canals   \n",
              "12         valley of the kings   \n",
              "13   the priests and the ruler   \n",
              "14                 blue stones   \n",
              "15                        nile   \n",
              "16                  nile river   \n",
              "17       egyptian civilization   \n",
              "18                       flour   \n",
              "19                       yeast   \n",
              "20                     scribes   \n",
              "21                       ropes   \n",
              "22             greek historian   \n",
              "23            hundreds of feet   \n",
              "24                       miles   \n",
              "25           mediterranean sea   \n",
              "26                       nubia   \n",
              "27                      ibises   \n",
              "28                       south   \n",
              "29                   waterfall   \n",
              "30                    cataract   \n",
              "31                       delta   \n",
              "32                near the sea   \n",
              "33                        silt   \n",
              "34                 great house   \n",
              "35                     pharaoh   \n",
              "36                   mud brick   \n",
              "37                 underground   \n",
              "38                     pyramid   \n",
              "39                      cities   \n",
              "40                       black   \n",
              "41                         red   \n",
              "42             precious stones   \n",
              "43        if a tomb was robbed   \n",
              "44           a happy afterlife   \n",
              "45        no answer generation   \n",
              "46        no answer generation   \n",
              "\n",
              "                                            questions  \n",
              "0   What dynasties divide historians into the old ...  \n",
              "1   What star appeared before the nile began to fl...  \n",
              "2   Who studied the world to find ways to please t...  \n",
              "3   Who wanted a monument that would show the worl...  \n",
              "4   What did khufu want to show the world how grea...  \n",
              "5   What type of items did mourners fill the tomb ...  \n",
              "6   What type of items would the mummified pharaoh...  \n",
              "7            What city was built for pyramid workers?  \n",
              "8                                     Who built giza?  \n",
              "9                Who bathed before entering a temple?  \n",
              "10      Who took his place as ruler when a king died?  \n",
              "11              What did river water go to dry areas?  \n",
              "12  Where did pharaohs begin building more secret ...  \n",
              "13            Who held ceremonies to please the gods?  \n",
              "14          What type of stones were used in jewelry?  \n",
              "15  What type of stone had fish and other wildlife...  \n",
              "16                     What river flooded every year?  \n",
              "17       What kind of civilization grew more complex?  \n",
              "18      What did the first batch of wheat grind into?  \n",
              "19  The first to grind wheat into flour and mix it...  \n",
              "20       What did some ancient egyptians learn to be?  \n",
              "21        What did surveyors use to measure the land?  \n",
              "22                Who knew what he was talking about?  \n",
              "23   How many feet did workers drag each heavy block?  \n",
              "24        How long is the longest river in the world?  \n",
              "25              Where does the equator flow north to?  \n",
              "26  What was the egyptian name for the area of the...  \n",
              "27            What white bird flew up from the south?  \n",
              "28                              Where did ibises fly?  \n",
              "29          Where does the nile churn with cataracts?  \n",
              "30           What churns with cataracts in the south?  \n",
              "31                                What is a cataract?  \n",
              "32                               What is a waterfall?  \n",
              "33      Where does the nile branch into near the sea?  \n",
              "34           Where does the nile branch into a delta?  \n",
              "35  What is an area near a rivers mouth where the ...  \n",
              "36                       What is the name of a delta?  \n",
              "37                   What was the word pharaoh meant?  \n",
              "38                       What word meant great house?  \n",
              "39  What was the name of the tomb topped by the fi...  \n",
              "40  Where were the first rulers of egypt often bur...  \n",
              "41      What type of brick did the mud brick replace?  \n",
              "42  What cities emerge as centers of culture and p...  \n",
              "43  What type of land did the ancient egyptians li...  \n",
              "44                           What did egyptians mine?  \n",
              "45         Who cleaned the sacred statues in temples?  \n",
              "46  What did egyptians believe the person buried t...  "
            ],
            "text/html": [
              "\n",
              "  <div id=\"df-06618438-4baf-4be7-bcc0-451f74a8ec1c\">\n",
              "    <div class=\"colab-df-container\">\n",
              "      <div>\n",
              "<style scoped>\n",
              "    .dataframe tbody tr th:only-of-type {\n",
              "        vertical-align: middle;\n",
              "    }\n",
              "\n",
              "    .dataframe tbody tr th {\n",
              "        vertical-align: top;\n",
              "    }\n",
              "\n",
              "    .dataframe thead th {\n",
              "        text-align: right;\n",
              "    }\n",
              "</style>\n",
              "<table border=\"1\" class=\"dataframe\">\n",
              "  <thead>\n",
              "    <tr style=\"text-align: right;\">\n",
              "      <th></th>\n",
              "      <th>Pargraphs</th>\n",
              "      <th>answer</th>\n",
              "      <th>questions</th>\n",
              "    </tr>\n",
              "  </thead>\n",
              "  <tbody>\n",
              "    <tr>\n",
              "      <th>0</th>\n",
              "      <td>historians divide ancient egyptian dynasties i...</td>\n",
              "      <td>ancient egyptian dynasties</td>\n",
              "      <td>What dynasties divide historians into the old ...</td>\n",
              "    </tr>\n",
              "    <tr>\n",
              "      <th>1</th>\n",
              "      <td>about , years ago, they noticed that a star no...</td>\n",
              "      <td>sirius</td>\n",
              "      <td>What star appeared before the nile began to fl...</td>\n",
              "    </tr>\n",
              "    <tr>\n",
              "      <th>2</th>\n",
              "      <td>as in many ancient societies, much of the know...</td>\n",
              "      <td>priests</td>\n",
              "      <td>Who studied the world to find ways to please t...</td>\n",
              "    </tr>\n",
              "    <tr>\n",
              "      <th>3</th>\n",
              "      <td>about  years later, a pharaoh named khufu deci...</td>\n",
              "      <td>khufu</td>\n",
              "      <td>Who wanted a monument that would show the worl...</td>\n",
              "    </tr>\n",
              "    <tr>\n",
              "      <th>4</th>\n",
              "      <td>mourners filled the tomb with objects ranging ...</td>\n",
              "      <td>monument</td>\n",
              "      <td>What did khufu want to show the world how grea...</td>\n",
              "    </tr>\n",
              "    <tr>\n",
              "      <th>5</th>\n",
              "      <td>a city called giza was built for the pyramid w...</td>\n",
              "      <td>food</td>\n",
              "      <td>What type of items did mourners fill the tomb ...</td>\n",
              "    </tr>\n",
              "    <tr>\n",
              "      <th>6</th>\n",
              "      <td>before entering a temple, a priest bathed and ...</td>\n",
              "      <td>furniture</td>\n",
              "      <td>What type of items would the mummified pharaoh...</td>\n",
              "    </tr>\n",
              "    <tr>\n",
              "      <th>7</th>\n",
              "      <td>when a king died, one of his children usually ...</td>\n",
              "      <td>giza</td>\n",
              "      <td>What city was built for pyramid workers?</td>\n",
              "    </tr>\n",
              "    <tr>\n",
              "      <th>8</th>\n",
              "      <td>as in many ancient societies, much of the know...</td>\n",
              "      <td>pyramid workers</td>\n",
              "      <td>Who built giza?</td>\n",
              "    </tr>\n",
              "    <tr>\n",
              "      <th>9</th>\n",
              "      <td>as in many ancient societies, much of the know...</td>\n",
              "      <td>a priest</td>\n",
              "      <td>Who bathed before entering a temple?</td>\n",
              "    </tr>\n",
              "    <tr>\n",
              "      <th>10</th>\n",
              "      <td>working together, they dug irrigation canals t...</td>\n",
              "      <td>one of his children</td>\n",
              "      <td>Who took his place as ruler when a king died?</td>\n",
              "    </tr>\n",
              "    <tr>\n",
              "      <th>11</th>\n",
              "      <td>during the new kingdom, pharaohs began buildin...</td>\n",
              "      <td>dug irrigation canals</td>\n",
              "      <td>What did river water go to dry areas?</td>\n",
              "    </tr>\n",
              "    <tr>\n",
              "      <th>12</th>\n",
              "      <td>together, the priests and the ruler held cerem...</td>\n",
              "      <td>valley of the kings</td>\n",
              "      <td>Where did pharaohs begin building more secret ...</td>\n",
              "    </tr>\n",
              "    <tr>\n",
              "      <th>13</th>\n",
              "      <td>these beautiful blue stones were used in jewel...</td>\n",
              "      <td>the priests and the ruler</td>\n",
              "      <td>Who held ceremonies to please the gods?</td>\n",
              "    </tr>\n",
              "    <tr>\n",
              "      <th>14</th>\n",
              "      <td>before entering a temple, a priest bathed and ...</td>\n",
              "      <td>blue stones</td>\n",
              "      <td>What type of stones were used in jewelry?</td>\n",
              "    </tr>\n",
              "    <tr>\n",
              "      <th>15</th>\n",
              "      <td>unlike the tigris and euphrates, the nile rive...</td>\n",
              "      <td>nile</td>\n",
              "      <td>What type of stone had fish and other wildlife...</td>\n",
              "    </tr>\n",
              "    <tr>\n",
              "      <th>16</th>\n",
              "      <td>as egyptian civilization grew more complex, pe...</td>\n",
              "      <td>nile river</td>\n",
              "      <td>What river flooded every year?</td>\n",
              "    </tr>\n",
              "    <tr>\n",
              "      <th>17</th>\n",
              "      <td>they were the first to grind wheat into flour ...</td>\n",
              "      <td>egyptian civilization</td>\n",
              "      <td>What kind of civilization grew more complex?</td>\n",
              "    </tr>\n",
              "    <tr>\n",
              "      <th>18</th>\n",
              "      <td>for example, some ancient egyptians learned to...</td>\n",
              "      <td>flour</td>\n",
              "      <td>What did the first batch of wheat grind into?</td>\n",
              "    </tr>\n",
              "    <tr>\n",
              "      <th>19</th>\n",
              "      <td>to restore property lines, surveyors measured ...</td>\n",
              "      <td>yeast</td>\n",
              "      <td>The first to grind wheat into flour and mix it...</td>\n",
              "    </tr>\n",
              "    <tr>\n",
              "      <th>20</th>\n",
              "      <td>the greek historian knew what he was talking a...</td>\n",
              "      <td>scribes</td>\n",
              "      <td>What did some ancient egyptians learn to be?</td>\n",
              "    </tr>\n",
              "    <tr>\n",
              "      <th>21</th>\n",
              "      <td>unlike the tigris and euphrates, the nile rive...</td>\n",
              "      <td>ropes</td>\n",
              "      <td>What did surveyors use to measure the land?</td>\n",
              "    </tr>\n",
              "    <tr>\n",
              "      <th>22</th>\n",
              "      <td>as egyptian civilization grew more complex, pe...</td>\n",
              "      <td>greek historian</td>\n",
              "      <td>Who knew what he was talking about?</td>\n",
              "    </tr>\n",
              "    <tr>\n",
              "      <th>23</th>\n",
              "      <td>workers dragged each heavy block hundreds of f...</td>\n",
              "      <td>hundreds of feet</td>\n",
              "      <td>How many feet did workers drag each heavy block?</td>\n",
              "    </tr>\n",
              "    <tr>\n",
              "      <th>24</th>\n",
              "      <td>about  years later, a pharaoh named khufu deci...</td>\n",
              "      <td>miles</td>\n",
              "      <td>How long is the longest river in the world?</td>\n",
              "    </tr>\n",
              "    <tr>\n",
              "      <th>25</th>\n",
              "      <td>the longest river the nile is , miles longthe ...</td>\n",
              "      <td>mediterranean sea</td>\n",
              "      <td>Where does the equator flow north to?</td>\n",
              "    </tr>\n",
              "    <tr>\n",
              "      <th>26</th>\n",
              "      <td>the longest river the nile is , miles longthe ...</td>\n",
              "      <td>nubia</td>\n",
              "      <td>What was the egyptian name for the area of the...</td>\n",
              "    </tr>\n",
              "    <tr>\n",
              "      <th>27</th>\n",
              "      <td>it begins near the equator in africa and flows...</td>\n",
              "      <td>ibises</td>\n",
              "      <td>What white bird flew up from the south?</td>\n",
              "    </tr>\n",
              "    <tr>\n",
              "      <th>28</th>\n",
              "      <td>nubia was the egyptian name for the area of th...</td>\n",
              "      <td>south</td>\n",
              "      <td>Where did ibises fly?</td>\n",
              "    </tr>\n",
              "    <tr>\n",
              "      <th>29</th>\n",
              "      <td>it begins near the equator in africa and flows...</td>\n",
              "      <td>waterfall</td>\n",
              "      <td>Where does the nile churn with cataracts?</td>\n",
              "    </tr>\n",
              "    <tr>\n",
              "      <th>30</th>\n",
              "      <td>each year, egyptian farmers watched for white ...</td>\n",
              "      <td>cataract</td>\n",
              "      <td>What churns with cataracts in the south?</td>\n",
              "    </tr>\n",
              "    <tr>\n",
              "      <th>31</th>\n",
              "      <td>in the south the nile churns with cataracts.</td>\n",
              "      <td>delta</td>\n",
              "      <td>What is a cataract?</td>\n",
              "    </tr>\n",
              "    <tr>\n",
              "      <th>32</th>\n",
              "      <td>in the south the nile churns with cataracts.</td>\n",
              "      <td>near the sea</td>\n",
              "      <td>What is a waterfall?</td>\n",
              "    </tr>\n",
              "    <tr>\n",
              "      <th>33</th>\n",
              "      <td>a cataract is a waterfall.</td>\n",
              "      <td>silt</td>\n",
              "      <td>Where does the nile branch into near the sea?</td>\n",
              "    </tr>\n",
              "    <tr>\n",
              "      <th>34</th>\n",
              "      <td>near the sea the nile branches into a delta.</td>\n",
              "      <td>great house</td>\n",
              "      <td>Where does the nile branch into a delta?</td>\n",
              "    </tr>\n",
              "    <tr>\n",
              "      <th>35</th>\n",
              "      <td>near the sea the nile branches into a delta.</td>\n",
              "      <td>pharaoh</td>\n",
              "      <td>What is an area near a rivers mouth where the ...</td>\n",
              "    </tr>\n",
              "    <tr>\n",
              "      <th>36</th>\n",
              "      <td>a delta is an area near a rivers mouth where t...</td>\n",
              "      <td>mud brick</td>\n",
              "      <td>What is the name of a delta?</td>\n",
              "    </tr>\n",
              "    <tr>\n",
              "      <th>37</th>\n",
              "      <td>during the new kingdom, pharaohs began buildin...</td>\n",
              "      <td>underground</td>\n",
              "      <td>What was the word pharaoh meant?</td>\n",
              "    </tr>\n",
              "    <tr>\n",
              "      <th>38</th>\n",
              "      <td>a delta is an area near a rivers mouth where t...</td>\n",
              "      <td>pyramid</td>\n",
              "      <td>What word meant great house?</td>\n",
              "    </tr>\n",
              "    <tr>\n",
              "      <th>39</th>\n",
              "      <td>the word pharaoh meant great house, and it was...</td>\n",
              "      <td>cities</td>\n",
              "      <td>What was the name of the tomb topped by the fi...</td>\n",
              "    </tr>\n",
              "    <tr>\n",
              "      <th>40</th>\n",
              "      <td>the first rulers of egypt were often buried in...</td>\n",
              "      <td>black</td>\n",
              "      <td>Where were the first rulers of egypt often bur...</td>\n",
              "    </tr>\n",
              "    <tr>\n",
              "      <th>41</th>\n",
              "      <td>they replaced the mud brick with a small pyram...</td>\n",
              "      <td>red</td>\n",
              "      <td>What type of brick did the mud brick replace?</td>\n",
              "    </tr>\n",
              "    <tr>\n",
              "      <th>42</th>\n",
              "      <td>cities emerge as centers of culture and power,...</td>\n",
              "      <td>precious stones</td>\n",
              "      <td>What cities emerge as centers of culture and p...</td>\n",
              "    </tr>\n",
              "    <tr>\n",
              "      <th>43</th>\n",
              "      <td>red land, black land the ancient egyptians liv...</td>\n",
              "      <td>if a tomb was robbed</td>\n",
              "      <td>What type of land did the ancient egyptians li...</td>\n",
              "    </tr>\n",
              "    <tr>\n",
              "      <th>44</th>\n",
              "      <td>egyptians mined precious stones too.</td>\n",
              "      <td>a happy afterlife</td>\n",
              "      <td>What did egyptians mine?</td>\n",
              "    </tr>\n",
              "    <tr>\n",
              "      <th>45</th>\n",
              "      <td>priests cleaned the sacred statues in temples,...</td>\n",
              "      <td>no answer generation</td>\n",
              "      <td>Who cleaned the sacred statues in temples?</td>\n",
              "    </tr>\n",
              "    <tr>\n",
              "      <th>46</th>\n",
              "      <td>egyptians believed that if a tomb was robbed, ...</td>\n",
              "      <td>no answer generation</td>\n",
              "      <td>What did egyptians believe the person buried t...</td>\n",
              "    </tr>\n",
              "  </tbody>\n",
              "</table>\n",
              "</div>\n",
              "      <button class=\"colab-df-convert\" onclick=\"convertToInteractive('df-06618438-4baf-4be7-bcc0-451f74a8ec1c')\"\n",
              "              title=\"Convert this dataframe to an interactive table.\"\n",
              "              style=\"display:none;\">\n",
              "        \n",
              "  <svg xmlns=\"http://www.w3.org/2000/svg\" height=\"24px\"viewBox=\"0 0 24 24\"\n",
              "       width=\"24px\">\n",
              "    <path d=\"M0 0h24v24H0V0z\" fill=\"none\"/>\n",
              "    <path d=\"M18.56 5.44l.94 2.06.94-2.06 2.06-.94-2.06-.94-.94-2.06-.94 2.06-2.06.94zm-11 1L8.5 8.5l.94-2.06 2.06-.94-2.06-.94L8.5 2.5l-.94 2.06-2.06.94zm10 10l.94 2.06.94-2.06 2.06-.94-2.06-.94-.94-2.06-.94 2.06-2.06.94z\"/><path d=\"M17.41 7.96l-1.37-1.37c-.4-.4-.92-.59-1.43-.59-.52 0-1.04.2-1.43.59L10.3 9.45l-7.72 7.72c-.78.78-.78 2.05 0 2.83L4 21.41c.39.39.9.59 1.41.59.51 0 1.02-.2 1.41-.59l7.78-7.78 2.81-2.81c.8-.78.8-2.07 0-2.86zM5.41 20L4 18.59l7.72-7.72 1.47 1.35L5.41 20z\"/>\n",
              "  </svg>\n",
              "      </button>\n",
              "      \n",
              "  <style>\n",
              "    .colab-df-container {\n",
              "      display:flex;\n",
              "      flex-wrap:wrap;\n",
              "      gap: 12px;\n",
              "    }\n",
              "\n",
              "    .colab-df-convert {\n",
              "      background-color: #E8F0FE;\n",
              "      border: none;\n",
              "      border-radius: 50%;\n",
              "      cursor: pointer;\n",
              "      display: none;\n",
              "      fill: #1967D2;\n",
              "      height: 32px;\n",
              "      padding: 0 0 0 0;\n",
              "      width: 32px;\n",
              "    }\n",
              "\n",
              "    .colab-df-convert:hover {\n",
              "      background-color: #E2EBFA;\n",
              "      box-shadow: 0px 1px 2px rgba(60, 64, 67, 0.3), 0px 1px 3px 1px rgba(60, 64, 67, 0.15);\n",
              "      fill: #174EA6;\n",
              "    }\n",
              "\n",
              "    [theme=dark] .colab-df-convert {\n",
              "      background-color: #3B4455;\n",
              "      fill: #D2E3FC;\n",
              "    }\n",
              "\n",
              "    [theme=dark] .colab-df-convert:hover {\n",
              "      background-color: #434B5C;\n",
              "      box-shadow: 0px 1px 3px 1px rgba(0, 0, 0, 0.15);\n",
              "      filter: drop-shadow(0px 1px 2px rgba(0, 0, 0, 0.3));\n",
              "      fill: #FFFFFF;\n",
              "    }\n",
              "  </style>\n",
              "\n",
              "      <script>\n",
              "        const buttonEl =\n",
              "          document.querySelector('#df-06618438-4baf-4be7-bcc0-451f74a8ec1c button.colab-df-convert');\n",
              "        buttonEl.style.display =\n",
              "          google.colab.kernel.accessAllowed ? 'block' : 'none';\n",
              "\n",
              "        async function convertToInteractive(key) {\n",
              "          const element = document.querySelector('#df-06618438-4baf-4be7-bcc0-451f74a8ec1c');\n",
              "          const dataTable =\n",
              "            await google.colab.kernel.invokeFunction('convertToInteractive',\n",
              "                                                     [key], {});\n",
              "          if (!dataTable) return;\n",
              "\n",
              "          const docLinkHtml = 'Like what you see? Visit the ' +\n",
              "            '<a target=\"_blank\" href=https://colab.research.google.com/notebooks/data_table.ipynb>data table notebook</a>'\n",
              "            + ' to learn more about interactive tables.';\n",
              "          element.innerHTML = '';\n",
              "          dataTable['output_type'] = 'display_data';\n",
              "          await google.colab.output.renderOutput(dataTable, element);\n",
              "          const docLink = document.createElement('div');\n",
              "          docLink.innerHTML = docLinkHtml;\n",
              "          element.appendChild(docLink);\n",
              "        }\n",
              "      </script>\n",
              "    </div>\n",
              "  </div>\n",
              "  "
            ]
          },
          "metadata": {},
          "execution_count": 374
        }
      ]
    },
    {
      "cell_type": "code",
      "source": [
        "df_final_T5=df"
      ],
      "metadata": {
        "id": "ukB3wjJqRi0Y"
      },
      "execution_count": 375,
      "outputs": []
    },
    {
      "cell_type": "code",
      "source": [
        "df.to_csv(\"/content/drive/MyDrive/df_final_T5.csv\")"
      ],
      "metadata": {
        "id": "ICHZLp0nRpRN"
      },
      "execution_count": 382,
      "outputs": []
    },
    {
      "cell_type": "code",
      "source": [
        "from google.colab import drive\n",
        "drive.mount('/content/drive')"
      ],
      "metadata": {
        "colab": {
          "base_uri": "https://localhost:8080/"
        },
        "id": "ahZjNEewSJdF",
        "outputId": "581d7329-ebf2-473d-f947-555fbdf9a658"
      },
      "execution_count": 380,
      "outputs": [
        {
          "output_type": "stream",
          "name": "stdout",
          "text": [
            "Drive already mounted at /content/drive; to attempt to forcibly remount, call drive.mount(\"/content/drive\", force_remount=True).\n"
          ]
        }
      ]
    },
    {
      "cell_type": "code",
      "source": [],
      "metadata": {
        "id": "igGkmQeIRvjI"
      },
      "execution_count": 377,
      "outputs": []
    }
  ]
}